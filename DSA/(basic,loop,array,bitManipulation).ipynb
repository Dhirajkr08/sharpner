{
 "cells": [
  {
   "cell_type": "code",
   "execution_count": 75,
   "metadata": {},
   "outputs": [
    {
     "name": "stdout",
     "output_type": "stream",
     "text": [
      "5\n"
     ]
    }
   ],
   "source": [
    "def printDigit(n):\n",
    "    i=1\n",
    "    while n>0:\n",
    "        temp=n%10\n",
    "        n//=10\n",
    "        print(temp)\n",
    "        i+=1\n",
    "def main():\n",
    "    n=int(input()) \n",
    "    printDigit(n)\n",
    "main()           "
   ]
  },
  {
   "cell_type": "code",
   "execution_count": 76,
   "metadata": {},
   "outputs": [
    {
     "name": "stdout",
     "output_type": "stream",
     "text": [
      "5\n"
     ]
    }
   ],
   "source": [
    "def printDigit(n):\n",
    "    i=0\n",
    "    while n>0:\n",
    "        temp=n%10\n",
    "        n//=10\n",
    "        print(temp)\n",
    "        \n",
    "\n",
    "def main():\n",
    "    n=int(input()) \n",
    "    printDigit(n)\n",
    "main()               "
   ]
  },
  {
   "cell_type": "code",
   "execution_count": 77,
   "metadata": {},
   "outputs": [
    {
     "name": "stdout",
     "output_type": "stream",
     "text": [
      "false\n"
     ]
    }
   ],
   "source": [
    "def Armstrong(n):\n",
    "    temp=n\n",
    "    sum=0\n",
    "    while temp>0:\n",
    "        i=temp%10\n",
    "        sum=sum+i**3\n",
    "        temp//=10\n",
    "    if (n==sum):\n",
    "        print(\"true\")\n",
    "    else:\n",
    "        print(\"false\")                                  \n",
    "\n",
    "        \n",
    "def main():\n",
    "    n=int(input())\n",
    "    Armstrong(n)\n",
    "main()                    "
   ]
  },
  {
   "cell_type": "code",
   "execution_count": 78,
   "metadata": {},
   "outputs": [
    {
     "name": "stdout",
     "output_type": "stream",
     "text": [
      "5\n"
     ]
    }
   ],
   "source": [
    "def reverse(n):\n",
    "    rev=0\n",
    "    while n>0:\n",
    "        temp=n%10 \n",
    "        rev=rev*10+temp  \n",
    "        n//=10\n",
    "    return rev\n",
    "def main():\n",
    "    n=int(input())\n",
    "    print(reverse(n))\n",
    "main()     \n",
    "\n",
    "    \n"
   ]
  },
  {
   "cell_type": "code",
   "execution_count": 79,
   "metadata": {},
   "outputs": [
    {
     "name": "stdout",
     "output_type": "stream",
     "text": [
      "false\n"
     ]
    }
   ],
   "source": [
    "def Armstrong(n):\n",
    "    temp=n\n",
    "    sum=0\n",
    "    while temp>0:\n",
    "        i=temp%10\n",
    "        sum=sum+i**3\n",
    "        temp//=10\n",
    "    if n==sum:\n",
    "        print(\"true\")\n",
    "    else:\n",
    "        print(\"false\") \n",
    "def main():\n",
    "    n=int(input()) \n",
    "    Armstrong(n)\n",
    "main()                  "
   ]
  },
  {
   "cell_type": "code",
   "execution_count": 80,
   "metadata": {},
   "outputs": [
    {
     "name": "stdout",
     "output_type": "stream",
     "text": [
      "5\n"
     ]
    }
   ],
   "source": [
    "#reverse a number\n",
    "def reverse(n):\n",
    "    rev=0\n",
    "    while n>0:\n",
    "        temp=n%10\n",
    "        rev=rev*10+temp\n",
    "        n=n//10\n",
    "    return rev    \n",
    "def main():\n",
    "    n=int(input())\n",
    "    print(reverse(n)) \n",
    "main()       \n"
   ]
  },
  {
   "cell_type": "code",
   "execution_count": 81,
   "metadata": {},
   "outputs": [
    {
     "name": "stdout",
     "output_type": "stream",
     "text": [
      "1\n",
      "3\n",
      "5\n"
     ]
    }
   ],
   "source": [
    "# odd number\n",
    "def oddNumber(n):\n",
    "    for i in range(1,n+1):\n",
    "        if i%2!=0:\n",
    "            print(i)\n",
    "def main():\n",
    "    n=int(input()) \n",
    "    (oddNumber(n)) \n",
    "main()          "
   ]
  },
  {
   "cell_type": "code",
   "execution_count": 82,
   "metadata": {},
   "outputs": [
    {
     "name": "stdout",
     "output_type": "stream",
     "text": [
      "1\n"
     ]
    }
   ],
   "source": [
    "def series(n):\n",
    "    for i in range(1,n+1):\n",
    "        if i*i*i >n:\n",
    "            break\n",
    "        print(i*i*i)\n",
    "def main():\n",
    "    n=int(input()) \n",
    "    series(n)\n",
    "main()                "
   ]
  },
  {
   "cell_type": "code",
   "execution_count": 83,
   "metadata": {},
   "outputs": [
    {
     "name": "stdout",
     "output_type": "stream",
     "text": [
      "1\n"
     ]
    }
   ],
   "source": [
    "def printSeries(n):\n",
    "    for i in range(1,n+1):\n",
    "        if i*i*i >n:\n",
    "            break\n",
    "        print(i*i*i)\n",
    "def main():\n",
    "    n=int(input()) \n",
    "    printSeries(n)\n",
    "main()           "
   ]
  },
  {
   "cell_type": "code",
   "execution_count": 84,
   "metadata": {},
   "outputs": [
    {
     "name": "stdout",
     "output_type": "stream",
     "text": [
      "2\n"
     ]
    }
   ],
   "source": [
    "def primenumber(n):\n",
    "    for i in range(1,n+1):\n",
    "        if i%4==0:\n",
    "            continue\n",
    "        elif i%2==0:\n",
    "            print(i)\n",
    "def main():\n",
    "    n=int(input())\n",
    "    (primenumber(n))\n",
    "main()            \n",
    "\n"
   ]
  },
  {
   "cell_type": "code",
   "execution_count": 85,
   "metadata": {},
   "outputs": [
    {
     "name": "stdout",
     "output_type": "stream",
     "text": [
      "2\n"
     ]
    }
   ],
   "source": [
    "#WHILE LOOP\n",
    "def primenumber(n):\n",
    "    i=0\n",
    "    while i<=n:\n",
    "        if i%4==0:\n",
    "            i+=1\n",
    "        elif i%2==0:\n",
    "            print(i)\n",
    "        i+=1\n",
    "def main():\n",
    "    n=int(input()) \n",
    "    primenumber(n)\n",
    "main()               "
   ]
  },
  {
   "cell_type": "code",
   "execution_count": 86,
   "metadata": {},
   "outputs": [
    {
     "ename": "ValueError",
     "evalue": "invalid literal for int() with base 10: ''",
     "output_type": "error",
     "traceback": [
      "\u001b[1;31m---------------------------------------------------------------------------\u001b[0m",
      "\u001b[1;31mValueError\u001b[0m                                Traceback (most recent call last)",
      "Cell \u001b[1;32mIn[86], line 10\u001b[0m\n\u001b[0;32m      8\u001b[0m     m\u001b[39m=\u001b[39m\u001b[39mint\u001b[39m(\u001b[39minput\u001b[39m())\n\u001b[0;32m      9\u001b[0m     printNo(n,m)\n\u001b[1;32m---> 10\u001b[0m main()           \n",
      "Cell \u001b[1;32mIn[86], line 7\u001b[0m, in \u001b[0;36mmain\u001b[1;34m()\u001b[0m\n\u001b[0;32m      6\u001b[0m \u001b[39mdef\u001b[39;00m \u001b[39mmain\u001b[39m():\n\u001b[1;32m----> 7\u001b[0m     n\u001b[39m=\u001b[39m\u001b[39mint\u001b[39;49m(\u001b[39minput\u001b[39;49m()) \n\u001b[0;32m      8\u001b[0m     m\u001b[39m=\u001b[39m\u001b[39mint\u001b[39m(\u001b[39minput\u001b[39m())\n\u001b[0;32m      9\u001b[0m     printNo(n,m)\n",
      "\u001b[1;31mValueError\u001b[0m: invalid literal for int() with base 10: ''"
     ]
    }
   ],
   "source": [
    "def printNo(n,m):\n",
    "    for i in range(1,m):\n",
    "        if i==m:\n",
    "            break\n",
    "        print(i)\n",
    "def main():\n",
    "    n=int(input()) \n",
    "    m=int(input())\n",
    "    printNo(n,m)\n",
    "main()           \n",
    "\n"
   ]
  },
  {
   "cell_type": "code",
   "execution_count": null,
   "metadata": {},
   "outputs": [
    {
     "name": "stdout",
     "output_type": "stream",
     "text": [
      "*****\n",
      "****\n",
      "***\n",
      "**\n",
      "*\n"
     ]
    }
   ],
   "source": [
    "def printPattern(n):\n",
    "    for i in range(n):\n",
    "        for j in range(i,n):\n",
    "            print(\"*\",end=\"\")\n",
    "        print()\n",
    "def main():\n",
    "    n=int(input()) \n",
    "    printPattern(n) \n",
    "main()              "
   ]
  },
  {
   "cell_type": "code",
   "execution_count": 88,
   "metadata": {},
   "outputs": [
    {
     "name": "stdout",
     "output_type": "stream",
     "text": [
      "*****\n",
      "****\n",
      "***\n",
      "**\n",
      "*\n"
     ]
    }
   ],
   "source": [
    "def printPattern(n):\n",
    "    i=1\n",
    "    while i<=n:\n",
    "        j=n\n",
    "        while j>=i:\n",
    "            j-=1\n",
    "            print(\"*\",end=\"\")\n",
    "        print()\n",
    "        i+=1\n",
    "def main():\n",
    "    n=int(input()) \n",
    "    printPattern(n) \n",
    "main()              "
   ]
  },
  {
   "cell_type": "code",
   "execution_count": 95,
   "metadata": {},
   "outputs": [
    {
     "name": "stdout",
     "output_type": "stream",
     "text": [
      "*****\n",
      "****\n",
      "***\n",
      "**\n",
      "*\n",
      "*\n",
      "**\n",
      "***\n",
      "****\n",
      "*****\n"
     ]
    }
   ],
   "source": [
    "def printPattern(n):\n",
    "    for i in range(n):\n",
    "        for j in range(i,n):\n",
    "            print('*',end='')\n",
    "        print()\n",
    "    for i in range(n):\n",
    "        for j in range(i+1):\n",
    "            print('*',end=\"\")\n",
    "        print()    \n",
    "def main():\n",
    "    n=int(input()) \n",
    "    printPattern(n)\n",
    "main()               "
   ]
  },
  {
   "cell_type": "code",
   "execution_count": 100,
   "metadata": {},
   "outputs": [
    {
     "name": "stdout",
     "output_type": "stream",
     "text": [
      "*     *\n",
      "**    **\n",
      "***   ***\n",
      "****  ****\n",
      "***** *****\n"
     ]
    }
   ],
   "source": [
    "def printPattern(n):\n",
    "    for i in range(n):\n",
    "        for j in range(i+1):\n",
    "            print('*',end=\"\")   \n",
    "        for j in range(i,n): \n",
    "            print(\" \",end=\"\")          \n",
    "        for j in range(i+1):       \n",
    "            print('*',end='')\n",
    "        print()  \n",
    "def main():\n",
    "    n=int(input())\n",
    "    printPattern(n)\n",
    "main()              "
   ]
  },
  {
   "cell_type": "code",
   "execution_count": 105,
   "metadata": {},
   "outputs": [
    {
     "name": "stdout",
     "output_type": "stream",
     "text": [
      "*****\n",
      "****\n",
      "***\n",
      "**\n",
      "*\n",
      "*\n",
      "**\n",
      "***\n",
      "****\n",
      "*****\n"
     ]
    }
   ],
   "source": [
    "def printPattern(n):\n",
    "    i=1\n",
    "    while i<=n:\n",
    "        j=n\n",
    "        while j>=i:\n",
    "            print(\"*\",end=\"\") \n",
    "            j-=1\n",
    "        print()\n",
    "        i+=1\n",
    "    i=1\n",
    "    while i<=n:\n",
    "        j=1\n",
    "        while j<=i:\n",
    "            print(\"*\",end=\"\")  \n",
    "            j+=1  \n",
    "        print()\n",
    "        i+=1         \n",
    "def main():\n",
    "    n=int(input()) \n",
    "    printPattern(n)\n",
    "main()            \n"
   ]
  },
  {
   "cell_type": "code",
   "execution_count": 107,
   "metadata": {},
   "outputs": [
    {
     "name": "stdout",
     "output_type": "stream",
     "text": [
      "321\n"
     ]
    }
   ],
   "source": [
    "def reverse(n):\n",
    "    rev=0\n",
    "    while n>0:\n",
    "        i=n%10\n",
    "        rev=rev*10+i\n",
    "        n=n//10\n",
    "    return rev\n",
    "def main():\n",
    "    n=int(input()) \n",
    "    print(reverse(n)) \n",
    "main()      "
   ]
  },
  {
   "cell_type": "code",
   "execution_count": 109,
   "metadata": {},
   "outputs": [
    {
     "name": "stdout",
     "output_type": "stream",
     "text": [
      "true\n"
     ]
    }
   ],
   "source": [
    "def Armstrong(n):\n",
    "    temp=n\n",
    "    sum=0\n",
    "    while temp>0:\n",
    "        i=temp%10\n",
    "        sum=sum+i**3\n",
    "        temp//=10\n",
    "    if sum==n:\n",
    "        print(\"true\") \n",
    "    else:\n",
    "        print(\"false\") \n",
    "def main():\n",
    "    n=int(input()) \n",
    "    Armstrong(n) \n",
    "main()                "
   ]
  },
  {
   "cell_type": "code",
   "execution_count": 111,
   "metadata": {},
   "outputs": [
    {
     "name": "stdout",
     "output_type": "stream",
     "text": [
      "1\n",
      "2\n",
      "3\n",
      "4\n",
      "5\n",
      "6\n",
      "7\n"
     ]
    }
   ],
   "source": [
    "def printArray(n):\n",
    "    arr=[]\n",
    "    for i in range(1,n+1):\n",
    "        arr.append(i)\n",
    "    return arr\n",
    "def main():\n",
    "    n=int(input())\n",
    "    output=(printArray(n)) \n",
    "    for i in range(n):\n",
    "        print(output[i])\n",
    "main()       \n"
   ]
  },
  {
   "cell_type": "code",
   "execution_count": 112,
   "metadata": {},
   "outputs": [
    {
     "name": "stdout",
     "output_type": "stream",
     "text": [
      "7\n"
     ]
    }
   ],
   "source": [
    "def findMax(arr,length):\n",
    "    maximum=arr[0]\n",
    "    for i in range(len(arr)):\n",
    "        if arr[i]>maximum:\n",
    "            maximum=arr[i]\n",
    "    return maximum\n",
    "def main():\n",
    "    n=int(input()) \n",
    "    arr=[]\n",
    "    for i in range(n):\n",
    "        arr.append(int(input()))\n",
    "    print(findMax(arr,n)) \n",
    "main()              "
   ]
  },
  {
   "cell_type": "code",
   "execution_count": 113,
   "metadata": {},
   "outputs": [
    {
     "name": "stdout",
     "output_type": "stream",
     "text": [
      "-2\n"
     ]
    }
   ],
   "source": [
    "def findMinimum(arr,length):\n",
    "    minimum=arr[0]\n",
    "    for i in range(len(arr)):\n",
    "        if arr[i]<minimum:\n",
    "            minimum=arr[i]\n",
    "    return minimum\n",
    "def main():\n",
    "    n=int(input()) \n",
    "    arr=[]\n",
    "    for i in range(n):\n",
    "        arr.append(int(input())) \n",
    "    print(findMinimum(arr,n))\n",
    "main()                  "
   ]
  },
  {
   "cell_type": "code",
   "execution_count": 114,
   "metadata": {},
   "outputs": [
    {
     "name": "stdout",
     "output_type": "stream",
     "text": [
      "[2, 3, 5, 7, 11]\n"
     ]
    }
   ],
   "source": [
    "def primeNumber(n):\n",
    "    x=2\n",
    "    num=str(n)\n",
    "    arr=[]\n",
    "    count=0\n",
    "    while len(arr)<n:\n",
    "        flag=1\n",
    "        for i in range(2,x):\n",
    "            if x%i==0:\n",
    "                flag=0\n",
    "                break\n",
    "        if flag==1:\n",
    "            arr.append(x) \n",
    "            count+=1\n",
    "        if count==n:\n",
    "            break\n",
    "        x+=1\n",
    "    return arr\n",
    "def main():\n",
    "    n=int(input())\n",
    "    print(primeNumber(n))\n",
    "main()    \n",
    "\n",
    "\n"
   ]
  },
  {
   "cell_type": "code",
   "execution_count": 122,
   "metadata": {},
   "outputs": [
    {
     "name": "stdout",
     "output_type": "stream",
     "text": [
      "1\n",
      "12\n",
      "123\n",
      "1234\n",
      "12345\n",
      "2\n",
      "23\n",
      "234\n",
      "2345\n",
      "3\n",
      "34\n",
      "345\n",
      "4\n",
      "45\n",
      "5\n"
     ]
    }
   ],
   "source": [
    "def printSubarray(arr,length):\n",
    "    for i in range(len(arr)):\n",
    "        for j in range(i,len(arr)):\n",
    "            for k in range(i,j+1):\n",
    "                print(arr[k],end=\"\")\n",
    "            print()    \n",
    "def main():\n",
    "    n=int(input())\n",
    "    arr=[]\n",
    "    for i in range(n):\n",
    "        arr.append(int(input()))\n",
    "    (printSubarray(arr,n)) \n",
    "    \n",
    "main()                           "
   ]
  },
  {
   "cell_type": "code",
   "execution_count": 124,
   "metadata": {},
   "outputs": [
    {
     "name": "stdout",
     "output_type": "stream",
     "text": [
      "8\n"
     ]
    }
   ],
   "source": [
    "def findMaxSum(arr,length):\n",
    "    maxSum=arr[0]\n",
    "    for i in range(len(arr)):\n",
    "        sum=0\n",
    "        for j in range(i,len(arr)):\n",
    "            sum=sum+arr[j]\n",
    "            if sum>maxSum:\n",
    "                maxSum=sum\n",
    "    return maxSum\n",
    "def main():\n",
    "    n=int(input()) \n",
    "    arr=[]\n",
    "    for i in range(n):\n",
    "        arr.append(int(input()))\n",
    "    print(findMaxSum(arr,n)) \n",
    "main()                  "
   ]
  },
  {
   "cell_type": "code",
   "execution_count": 126,
   "metadata": {},
   "outputs": [
    {
     "name": "stdout",
     "output_type": "stream",
     "text": [
      "[1, 3, 6, 10]\n"
     ]
    }
   ],
   "source": [
    "class solution:\n",
    "    def runningSum(self,arr:list[int])->list[int]:\n",
    "        for i in range(1,len(arr)):\n",
    "            arr[i]+=arr[i-1]\n",
    "        return arr\n",
    "def main():\n",
    "    n=int(input()) \n",
    "    arr=[]\n",
    "    for i in range(n):\n",
    "        arr.append(int(input()))\n",
    "    s=solution()\n",
    "    print(s.runningSum(arr)) \n",
    "main()              "
   ]
  },
  {
   "cell_type": "code",
   "execution_count": 131,
   "metadata": {},
   "outputs": [
    {
     "name": "stdout",
     "output_type": "stream",
     "text": [
      "6\n"
     ]
    }
   ],
   "source": [
    "class solution:\n",
    "    def Maxwealth(self,accounts:list[int])->list[int]:\n",
    "        maximum=0\n",
    "        for i in range(len(accounts)):\n",
    "            total=sum(accounts[i])\n",
    "            maximum=max(maximum,total)\n",
    "        return maximum\n",
    "def main():\n",
    "    n=int(input()) \n",
    "    arr=[]\n",
    "    for i in range(n):\n",
    "        k=int(input())\n",
    "        jrr=[]\n",
    "        for i in range(k):\n",
    "            jrr.append(int(input()))\n",
    "        arr.append(jrr) \n",
    "    s=solution()\n",
    "    print(s.Maxwealth(arr))\n",
    "main()"
   ]
  },
  {
   "cell_type": "code",
   "execution_count": 132,
   "metadata": {},
   "outputs": [
    {
     "name": "stdout",
     "output_type": "stream",
     "text": [
      "58\n"
     ]
    }
   ],
   "source": [
    "class solution:\n",
    "    def sumofOdd(self,arr:list[int])->int:\n",
    "        r=0\n",
    "        for i in range(len(arr)):\n",
    "            c=0\n",
    "            for j in range(i,len(arr)):\n",
    "                c=c+arr[j]\n",
    "                if (j-i)%2==0:\n",
    "                    r+=c\n",
    "        return r\n",
    "def main():\n",
    "    n=int(input()) \n",
    "    arr=[]\n",
    "    for i in range(n) :\n",
    "        arr.append(int(input()))\n",
    "    s=solution()\n",
    "    print(s.sumofOdd(arr)) \n",
    "main()                    \n",
    "\n"
   ]
  },
  {
   "cell_type": "code",
   "execution_count": 135,
   "metadata": {},
   "outputs": [
    {
     "name": "stdout",
     "output_type": "stream",
     "text": [
      "5 6 7 1 2 3 4 \n"
     ]
    }
   ],
   "source": [
    "class solution:\n",
    "    def RotateArray(self,nums:list[int],k:int)->list[int]:\n",
    "        for i in range(k):\n",
    "            num=nums.pop()\n",
    "            nums.insert(0,num)\n",
    "def main():\n",
    "    n=int(input())\n",
    "    arr=[]\n",
    "    for i in range(n):\n",
    "        arr.append(int(input()))\n",
    "    s=solution()\n",
    "    k=int(input()) \n",
    "    s.RotateArray(arr,k)\n",
    "    for i in range(n):\n",
    "        print(arr[i],end=\" \") \n",
    "    print()    \n",
    "main()       \n",
    "\n",
    "\n",
    "\n"
   ]
  },
  {
   "cell_type": "code",
   "execution_count": 138,
   "metadata": {},
   "outputs": [
    {
     "name": "stdout",
     "output_type": "stream",
     "text": [
      "[1, 2, 3, 4, 5]\n"
     ]
    }
   ],
   "source": [
    "class solution:\n",
    "    def BubbleSort(self,arr,length):\n",
    "        for i in range(len(arr)-1):\n",
    "            for j in range(len(arr)-1-i):\n",
    "                if arr[j]>arr[j+1]:\n",
    "                    temp=arr[j]\n",
    "                    arr[j]=arr[j+1]\n",
    "                    arr[j+1]=temp\n",
    "        return arr  \n",
    "def main():\n",
    "    n=int(input()) \n",
    "    arr=[]\n",
    "    for i in range(n):\n",
    "        arr.append(int(input()))\n",
    "    s=solution()\n",
    "    print(s.BubbleSort(arr,n))\n",
    "main()      \n",
    "                 "
   ]
  },
  {
   "cell_type": "code",
   "execution_count": 140,
   "metadata": {},
   "outputs": [
    {
     "name": "stdout",
     "output_type": "stream",
     "text": [
      "[1, 2, 3, 4, 5]\n"
     ]
    }
   ],
   "source": [
    "class solution:\n",
    "    def InsertionSort(self,arr,length):\n",
    "        for i in range(len(arr)):\n",
    "            temp=arr[i]\n",
    "            j=i-1\n",
    "            while j>=0 and temp<=arr[j]:\n",
    "                arr[j+1]=arr[j]\n",
    "                j-=1\n",
    "            arr[j+1]=temp\n",
    "        return arr \n",
    "def main():\n",
    "    n=int(input()) \n",
    "    arr=[]\n",
    "    for i in range(n):\n",
    "        arr.append(int(input()))\n",
    "    s=solution()\n",
    "    print(s.InsertionSort(arr,n))\n",
    "main()                  "
   ]
  },
  {
   "cell_type": "code",
   "execution_count": 141,
   "metadata": {},
   "outputs": [
    {
     "name": "stdout",
     "output_type": "stream",
     "text": [
      "[1, 2, 3, 4, 5]\n"
     ]
    }
   ],
   "source": [
    "class solution:\n",
    "    def selectionSort(self,arr,length):\n",
    "        for i in range(len(arr)):\n",
    "            temp=i\n",
    "            for j in range(i,len(arr)):\n",
    "                if arr[temp]>arr[j]:\n",
    "                    temp=j\n",
    "            d=arr[i]\n",
    "            arr[i]=arr[temp]\n",
    "            arr[temp]=d\n",
    "        return arr\n",
    "def main():\n",
    "    n=int(input()) \n",
    "    arr=[]\n",
    "    for i in range(n):\n",
    "        arr.append(int(input())) \n",
    "    s=solution()\n",
    "    print(s.selectionSort(arr,n)) \n",
    "main()                     "
   ]
  },
  {
   "cell_type": "code",
   "execution_count": 1,
   "metadata": {},
   "outputs": [
    {
     "name": "stdout",
     "output_type": "stream",
     "text": [
      "321\n"
     ]
    }
   ],
   "source": [
    "#revese a number\n",
    "def reverse(n):\n",
    "    rev=0\n",
    "    while n>0:\n",
    "        temp=n%10\n",
    "        rev=rev*10+temp\n",
    "        n//=10\n",
    "    return rev\n",
    "def main():\n",
    "    n=int(input()) \n",
    "    print(reverse(n))\n",
    "main()    \n"
   ]
  },
  {
   "cell_type": "code",
   "execution_count": 3,
   "metadata": {},
   "outputs": [
    {
     "name": "stdout",
     "output_type": "stream",
     "text": [
      "3\n",
      "2\n",
      "1\n"
     ]
    }
   ],
   "source": [
    "#reverse number in digit\n",
    "def reverseDigit(n):\n",
    "    i=0\n",
    "    while n>0:\n",
    "        temp=n%10\n",
    "        n=n//10\n",
    "        print(temp)\n",
    "    i+=1\n",
    "def main():\n",
    "    n=int(input())\n",
    "    (reverseDigit(n))\n",
    "main()        \n"
   ]
  },
  {
   "cell_type": "code",
   "execution_count": null,
   "metadata": {},
   "outputs": [],
   "source": [
    "def armstrong(n):\n",
    "    temp=n\n",
    "    sum=0\n",
    "    while temp>0:\n",
    "        i=temp%10\n",
    "        sum=sum+i**3\n",
    "        temp//=10\n",
    "    if n==sum:\n",
    "        print(\"true\")\n",
    "    else:\n",
    "        print(\"False\") \n",
    "def main():\n",
    "    n=int(input())               \n",
    "\n"
   ]
  },
  {
   "cell_type": "code",
   "execution_count": 4,
   "metadata": {},
   "outputs": [
    {
     "name": "stdout",
     "output_type": "stream",
     "text": [
      "[1, 3, 6, 10]\n"
     ]
    }
   ],
   "source": [
    "class solution:\n",
    "    def runningSum(self,nums:list[int])->list[int]:\n",
    "        for i in range(1,len(nums)):\n",
    "            nums[i]+=nums[i-1]\n",
    "        return nums\n",
    "def main():\n",
    "    n=int(input())\n",
    "    arr=[]\n",
    "    for i in range(n):\n",
    "        arr.append(int(input()))\n",
    "    s=solution()\n",
    "    print(s.runningSum(arr)) \n",
    "main()               \n",
    "\n",
    "\n"
   ]
  },
  {
   "cell_type": "code",
   "execution_count": 5,
   "metadata": {},
   "outputs": [
    {
     "name": "stdout",
     "output_type": "stream",
     "text": [
      "6\n"
     ]
    }
   ],
   "source": [
    "class solution:\n",
    "    def richestCustomer(self,accounts:list[list[int]])->int:\n",
    "        maximum=0\n",
    "        for i in range(len(accounts)):\n",
    "            total=sum(accounts[i])\n",
    "            maximum=max(maximum,total)\n",
    "        return maximum\n",
    "def main():\n",
    "    n=int(input()) \n",
    "    arr=[]\n",
    "    for i in range(n):\n",
    "        c=int(input()) \n",
    "        jrr=[]\n",
    "        for i in range(c):\n",
    "            jrr.append(int(input()))\n",
    "        arr.append(jrr) \n",
    "    s=solution()\n",
    "    print(s.richestCustomer(arr))\n",
    "main()    \n",
    "                 \n",
    "\n"
   ]
  },
  {
   "cell_type": "code",
   "execution_count": 6,
   "metadata": {},
   "outputs": [
    {
     "name": "stdout",
     "output_type": "stream",
     "text": [
      "58\n"
     ]
    }
   ],
   "source": [
    "class solution:\n",
    "    def sumoddSubarray(self,arr:list[int])->int:\n",
    "        r=0\n",
    "        for i in range(len(arr)):\n",
    "            c=0\n",
    "            for j in range(i,len(arr)):\n",
    "                c+=arr[j]\n",
    "                if (j-i)%2==0:\n",
    "                    r+=c\n",
    "        return r\n",
    "def main():\n",
    "    n=int(input()) \n",
    "    arr=[]\n",
    "    for i in range(n):\n",
    "        arr.append(int(input()))\n",
    "    s=solution()\n",
    "    print(s.sumoddSubarray(arr))\n",
    "main()                       "
   ]
  },
  {
   "cell_type": "code",
   "execution_count": 9,
   "metadata": {},
   "outputs": [
    {
     "name": "stdout",
     "output_type": "stream",
     "text": [
      "5 6 7 1 2 3 4 \n"
     ]
    }
   ],
   "source": [
    "class solution:\n",
    "    def RotateArray(self,nums:list[int],k:int)->list[int]:\n",
    "        for i in range(k):\n",
    "            num=nums.pop()\n",
    "            nums.insert(0,num)\n",
    "def main():\n",
    "    n=int(input()) \n",
    "    arr=[]\n",
    "    for i in range(n):\n",
    "        arr.append(int(input()))\n",
    "    s=solution()\n",
    "    k=int(input())\n",
    "    (s.RotateArray(arr,k))\n",
    "    for i in range(n):\n",
    "        print(arr[i],end=\" \")\n",
    "    print()    \n",
    "main()                   "
   ]
  },
  {
   "cell_type": "code",
   "execution_count": 11,
   "metadata": {},
   "outputs": [
    {
     "name": "stdout",
     "output_type": "stream",
     "text": [
      "[2, 3, 5, 7, 11]\n"
     ]
    }
   ],
   "source": [
    "# n number of prime number\n",
    "def displayPrime(n):\n",
    "    x=2\n",
    "    num=str(n)\n",
    "    count=0\n",
    "    arr=[]\n",
    "    while len(arr)<=n:\n",
    "        flag=True\n",
    "        for i in range(2,x):\n",
    "            if (x%i)==0:\n",
    "                flag=False\n",
    "                break\n",
    "        if flag==True: \n",
    "            arr.append(x)\n",
    "            count+=1\n",
    "        if count==n:\n",
    "            break\n",
    "        x+=1\n",
    "    return arr   \n",
    "def main():\n",
    "    n=int(input()) \n",
    "    print(displayPrime(n))\n",
    "main()    \n",
    "\n"
   ]
  },
  {
   "cell_type": "code",
   "execution_count": 21,
   "metadata": {},
   "outputs": [
    {
     "name": "stdout",
     "output_type": "stream",
     "text": [
      "[1, 2, 3, 4, 5]\n"
     ]
    }
   ],
   "source": [
    "#insertion Sort\n",
    "def insertion(arr,length):\n",
    "    for i in range(len(arr)):\n",
    "        temp=arr[i]\n",
    "        j=i-1\n",
    "        while j>=0 and temp<=arr[j]:\n",
    "            arr[j+1]=arr[j]\n",
    "            j-=1\n",
    "        arr[j+1]=temp\n",
    "    return arr        \n",
    "\n",
    "def main():\n",
    "    n=int(input()) \n",
    "    arr=[]\n",
    "    for i in range(n):\n",
    "        arr.append(int(input()))\n",
    "    print(insertion(arr,n)) \n",
    "main()             \n",
    "\n"
   ]
  },
  {
   "cell_type": "code",
   "execution_count": 22,
   "metadata": {},
   "outputs": [
    {
     "name": "stdout",
     "output_type": "stream",
     "text": [
      "[1, 2, 3, 4, 5]\n"
     ]
    }
   ],
   "source": [
    "def selection(arr,length):\n",
    "    for i in range(len(arr)):\n",
    "        temp=i\n",
    "        for j in range(i,len(arr)):\n",
    "            if arr[temp]>arr[j]:\n",
    "                temp=j\n",
    "        d=arr[i]\n",
    "        arr[i]=arr[temp]\n",
    "        arr[temp]=d\n",
    "    return arr\n",
    "def main():\n",
    "    n=int(input()) \n",
    "    arr=[]\n",
    "    for i in range(n):\n",
    "        arr.append(int(input())) \n",
    "    print(selection(arr,n)) \n",
    "main()                 \n"
   ]
  },
  {
   "cell_type": "code",
   "execution_count": 23,
   "metadata": {},
   "outputs": [
    {
     "name": "stdout",
     "output_type": "stream",
     "text": [
      "true\n"
     ]
    }
   ],
   "source": [
    "class solution:\n",
    "    def checkAlternative(self,n:int)->bool:\n",
    "        n=bin(n)\n",
    "        for i in range(1,len(n)):\n",
    "            if n[i]==n[i-1]:\n",
    "                return False\n",
    "        return True\n",
    "def main():\n",
    "    n=int(input()) \n",
    "    s=solution()\n",
    "    output=s.checkAlternative(n)\n",
    "    if output:\n",
    "        print(\"true\")   \n",
    "    else:\n",
    "        print(\"false\")\n",
    "main()                "
   ]
  },
  {
   "cell_type": "code",
   "execution_count": 27,
   "metadata": {},
   "outputs": [
    {
     "name": "stdout",
     "output_type": "stream",
     "text": [
      "1a\n"
     ]
    }
   ],
   "source": [
    "class solution:\n",
    "    def hextoDec(self,num:int)->str:\n",
    "        if num==0:return '0'\n",
    "        m='0123456789abcdef'\n",
    "        ans=''\n",
    "        for i in range(8):\n",
    "            ans=m[num%16]+ans\n",
    "            num//=16\n",
    "        return ans.lstrip('0') \n",
    "def main():\n",
    "    n=int(input()) \n",
    "    s=solution()\n",
    "    print(s.hextoDec(n))\n",
    "main()          "
   ]
  },
  {
   "cell_type": "code",
   "execution_count": 28,
   "metadata": {},
   "outputs": [
    {
     "name": "stdout",
     "output_type": "stream",
     "text": [
      "8\n"
     ]
    }
   ],
   "source": [
    "class solution:\n",
    "    def hammingweigh(self,n:int)->int:\n",
    "        count=0\n",
    "        while n:\n",
    "            n=n&(n-1)\n",
    "            count+=1\n",
    "        return count\n",
    "def main():\n",
    "    n=int(input()) \n",
    "    s=solution()\n",
    "    print(s.hammingweigh(n))\n",
    "main()           \n",
    "\n"
   ]
  },
  {
   "cell_type": "code",
   "execution_count": 30,
   "metadata": {},
   "outputs": [
    {
     "name": "stdout",
     "output_type": "stream",
     "text": [
      "[0, 1, 2, 4, 8, 3, 5, 6, 7]\n"
     ]
    }
   ],
   "source": [
    "class solution:\n",
    "    def sortInt(self,arr:list[int])->list[int]:\n",
    "        list=[]\n",
    "        for i in arr:\n",
    "            b=bin(i)\n",
    "            list.append([b.count('1'),i])\n",
    "        list.sort()\n",
    "        ans=[]\n",
    "        for b,i in list:\n",
    "            ans.append(i)\n",
    "        return ans\n",
    "def main():\n",
    "    n=int(input()) \n",
    "    arr=[]\n",
    "    for i in range(n):\n",
    "        arr.append(int(input())) \n",
    "    s=solution()\n",
    "    print(s.sortInt(arr))\n",
    "main()                 \n",
    "\n"
   ]
  },
  {
   "cell_type": "code",
   "execution_count": 31,
   "metadata": {},
   "outputs": [
    {
     "name": "stdout",
     "output_type": "stream",
     "text": [
      "8\n"
     ]
    }
   ],
   "source": [
    "class solution:\n",
    "    def hammingweight(self,n:int)->int:\n",
    "        count=0\n",
    "        while n:\n",
    "            n=n&(n-1)\n",
    "            count+=1\n",
    "        return count\n",
    "def main():\n",
    "    n=int(input()) \n",
    "    s=solution()\n",
    "    print(s.hammingweight(n))\n",
    "main()           "
   ]
  },
  {
   "cell_type": "code",
   "execution_count": 60,
   "metadata": {},
   "outputs": [
    {
     "name": "stdout",
     "output_type": "stream",
     "text": [
      "false\n"
     ]
    }
   ],
   "source": [
    "class solution:\n",
    "    def alternativeBits(self,n:int)->bool:\n",
    "        n=bin(n)\n",
    "        for i in range(1,len(n)):\n",
    "            if n[i]==n[i-1]:\n",
    "                return False\n",
    "        return True\n",
    "def main():\n",
    "    n=int(input()) \n",
    "    s=solution()\n",
    "    output=s.alternativeBits(n)\n",
    "    if output:\n",
    "        print(\"true\")\n",
    "    else:\n",
    "        print(\"false\")\n",
    "main()                   "
   ]
  },
  {
   "cell_type": "code",
   "execution_count": 61,
   "metadata": {},
   "outputs": [
    {
     "name": "stdout",
     "output_type": "stream",
     "text": [
      "1a\n"
     ]
    }
   ],
   "source": [
    "class solution:\n",
    "    def hextoDec(self,num:int)->str:\n",
    "        if num==0:return '0'\n",
    "        m='0123456789abcdef'\n",
    "        ans=''\n",
    "        for i in range(8):\n",
    "            ans=m[num%16]+ans\n",
    "            num//=16\n",
    "        return ans.lstrip('0')\n",
    "def main():\n",
    "    n=int(input())\n",
    "    s=solution()\n",
    "    print(s.hextoDec(n)) \n",
    "main()           "
   ]
  },
  {
   "cell_type": "code",
   "execution_count": 63,
   "metadata": {},
   "outputs": [
    {
     "name": "stdout",
     "output_type": "stream",
     "text": [
      "[0, 1, 2, 4, 8, 3, 5, 6, 7]\n"
     ]
    }
   ],
   "source": [
    "class solution:\n",
    "    def sortInt(self,arr:list[int])->list[int]:\n",
    "        list=[]\n",
    "        for i in arr:\n",
    "            b=bin(i)\n",
    "            list.append([b.count('1'),i])\n",
    "        list.sort()\n",
    "        ans=[]\n",
    "        for b,i in list:\n",
    "            ans.append(i)\n",
    "        return ans\n",
    "def main():\n",
    "    n=int(input())\n",
    "    arr=[]\n",
    "    for i in range(n):\n",
    "        arr.append(int(input()))\n",
    "    s=solution()\n",
    "    print(s.sortInt(arr))\n",
    "main()                \n",
    "    "
   ]
  },
  {
   "cell_type": "code",
   "execution_count": 65,
   "metadata": {},
   "outputs": [
    {
     "name": "stdout",
     "output_type": "stream",
     "text": [
      "-2\n"
     ]
    }
   ],
   "source": [
    "class solution:\n",
    "    def divideInt(self,dividend:int,divisor:int)->int:\n",
    "        ans=int(dividend/divisor)\n",
    "        if ans>2146473647:\n",
    "            return 2146473647\n",
    "        elif ans<-2146473648:\n",
    "            return 2146473648\n",
    "        return ans\n",
    "def main():\n",
    "    n=int(input()) \n",
    "    k=int(input())\n",
    "    s=solution()\n",
    "    print(s.divideInt(n,k))\n",
    "main()       "
   ]
  },
  {
   "cell_type": "code",
   "execution_count": 67,
   "metadata": {},
   "outputs": [
    {
     "name": "stdout",
     "output_type": "stream",
     "text": [
      "6\n"
     ]
    }
   ],
   "source": [
    "class solution:\n",
    "    def Maxword(self,sentence:list[str])->int:\n",
    "        maximum=0\n",
    "        for i in sentence:\n",
    "            i=i.split()\n",
    "            maximum=max(maximum,len(i))\n",
    "        return maximum\n",
    "def main():\n",
    "    n=int(input()) \n",
    "    arr=[]\n",
    "    for i in range(n):\n",
    "        arr.append(input()) \n",
    "    s=solution()\n",
    "    print(s.Maxword(arr)) \n",
    "main()             "
   ]
  }
 ],
 "metadata": {
  "kernelspec": {
   "display_name": "Python 3",
   "language": "python",
   "name": "python3"
  },
  "language_info": {
   "codemirror_mode": {
    "name": "ipython",
    "version": 3
   },
   "file_extension": ".py",
   "mimetype": "text/x-python",
   "name": "python",
   "nbconvert_exporter": "python",
   "pygments_lexer": "ipython3",
   "version": "3.11.1"
  },
  "orig_nbformat": 4,
  "vscode": {
   "interpreter": {
    "hash": "f1349afab0fcd502e634e282abd40fedb2831892829b7733385d2e4290794b19"
   }
  }
 },
 "nbformat": 4,
 "nbformat_minor": 2
}
