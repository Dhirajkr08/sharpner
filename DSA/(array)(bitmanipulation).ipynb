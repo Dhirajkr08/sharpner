{
 "cells": [
  {
   "cell_type": "code",
   "execution_count": 5,
   "metadata": {},
   "outputs": [
    {
     "name": "stdout",
     "output_type": "stream",
     "text": [
      "1 2 3 4 5 6 7 8 9 10 "
     ]
    }
   ],
   "source": [
    "# array\n",
    "def storeElement(n):\n",
    "    arr=[]\n",
    "    for i in range(1,n+1):\n",
    "        arr.append(i)\n",
    "    return arr\n",
    "def main():\n",
    "    n=int(input())\n",
    "    output=storeElement(n)\n",
    "    for i in range(n):\n",
    "        print(output[i],end=\" \")\n",
    "main()        \n"
   ]
  },
  {
   "cell_type": "code",
   "execution_count": 5,
   "metadata": {},
   "outputs": [
    {
     "name": "stdout",
     "output_type": "stream",
     "text": [
      "5\n"
     ]
    }
   ],
   "source": [
    "def find_maximum(arr,length):\n",
    "    max=arr[0]\n",
    "    for i in range(len(arr)):\n",
    "        if arr[i]>max:\n",
    "            max=arr[i]\n",
    "    return max\n",
    "def main():\n",
    "    n=int(input()) \n",
    "    arr=[]\n",
    "    for i in range(n):\n",
    "        arr.append(int(input()))\n",
    "    print(find_maximum(arr,n))\n",
    "main()                  "
   ]
  },
  {
   "cell_type": "code",
   "execution_count": 4,
   "metadata": {},
   "outputs": [
    {
     "name": "stdout",
     "output_type": "stream",
     "text": [
      "0\n"
     ]
    }
   ],
   "source": [
    "def findMini(arr,length):\n",
    "    min=arr[0]\n",
    "    for i in range(len(arr)):\n",
    "        if arr[i]<min:\n",
    "            min=arr[i]\n",
    "    return min\n",
    "def main():\n",
    "    n=int(input())            \n",
    "    arr=[]\n",
    "    for i in range(n):\n",
    "        arr.append(int(input()))\n",
    "    print(findMini(arr,n))\n",
    "main()        "
   ]
  },
  {
   "cell_type": "code",
   "execution_count": 21,
   "metadata": {},
   "outputs": [
    {
     "name": "stdout",
     "output_type": "stream",
     "text": [
      "2 3 5 7 11 "
     ]
    }
   ],
   "source": [
    "def primeNo(n):\n",
    "    x=2\n",
    "    num=str(n)\n",
    "    arr=[]\n",
    "    count=0\n",
    "    while len(arr)<n:\n",
    "        flag=True\n",
    "        for i in range(2,x):\n",
    "            if x%i==0:\n",
    "                flag=False\n",
    "                break\n",
    "        if flag==True:\n",
    "            count+=1\n",
    "            arr.append(x) \n",
    "        if count==n:\n",
    "            break\n",
    "        x+=1\n",
    "    return arr                      \n",
    "def main():\n",
    "    n=int(input())\n",
    "    output=primeNo(n)\n",
    "    for i in range(n):\n",
    "        print(output[i],end=\" \")\n",
    "main()                    \n",
    "\n",
    "\n",
    "\n"
   ]
  },
  {
   "cell_type": "code",
   "execution_count": 24,
   "metadata": {},
   "outputs": [
    {
     "name": "stdout",
     "output_type": "stream",
     "text": [
      "1\n",
      "12\n",
      "123\n",
      "1234\n",
      "12345\n",
      "2\n",
      "23\n",
      "234\n",
      "2345\n",
      "3\n",
      "34\n",
      "345\n",
      "4\n",
      "45\n",
      "5\n"
     ]
    }
   ],
   "source": [
    "def subarray(arr,length):\n",
    "    for i in range(len(arr)):\n",
    "        for j in range(i,len(arr)):\n",
    "            for k in range(i,j+1):\n",
    "                print(arr[k],end=\"\")\n",
    "            print()\n",
    "def main():\n",
    "    n=int(input())\n",
    "    arr=[]\n",
    "    for i in range(n):\n",
    "        arr.append(int(input()))\n",
    "    subarray(arr,n)\n",
    "main()        \n",
    "\n",
    "\n"
   ]
  },
  {
   "cell_type": "code",
   "execution_count": 27,
   "metadata": {},
   "outputs": [
    {
     "name": "stdout",
     "output_type": "stream",
     "text": [
      "8\n"
     ]
    }
   ],
   "source": [
    "def maxsum(arr,length):\n",
    "    maxSum=arr[0]\n",
    "    for i in range(len(arr)):\n",
    "        for j in range(i,len(arr)):\n",
    "            sum=0\n",
    "            for k in range(i,j+1):\n",
    "                sum=sum+arr[k]\n",
    "                if sum>maxSum:\n",
    "                    maxSum=sum\n",
    "    return maxSum                \n",
    "def main():\n",
    "    n=int(input())\n",
    "    arr=[]\n",
    "    for i in range(n):\n",
    "        arr.append(int(input()))\n",
    "    print(maxsum(arr,n))\n",
    "main()                            \n",
    "\n"
   ]
  },
  {
   "cell_type": "code",
   "execution_count": 32,
   "metadata": {},
   "outputs": [
    {
     "name": "stdout",
     "output_type": "stream",
     "text": [
      "1\n",
      "3\n",
      "6\n",
      "10\n",
      "\n"
     ]
    }
   ],
   "source": [
    "class solution:\n",
    "    def runningSum(self,nums:list[int])->list[int]:\n",
    "        for i in range(1,len(nums)):\n",
    "            nums[i]=nums[i]+nums[i-1]\n",
    "        return nums    \n",
    "def main():\n",
    "    nums=int(input()) \n",
    "    arr=[]\n",
    "    for i in range(nums):\n",
    "        arr.append(int(input()))\n",
    "    s=solution()\n",
    "    output=s.runningSum(arr)\n",
    "    for i in range(nums):\n",
    "        print(output[i])\n",
    "    print()\n",
    "main()        \n",
    "\n",
    "\n",
    "\n"
   ]
  },
  {
   "cell_type": "code",
   "execution_count": 35,
   "metadata": {},
   "outputs": [
    {
     "name": "stdout",
     "output_type": "stream",
     "text": [
      "6\n"
     ]
    }
   ],
   "source": [
    "class solution:\n",
    "    def maxWealth(self,accounts:list[list[int]])->int:\n",
    "        maxi=0\n",
    "        for i in range(len(accounts)):\n",
    "            total=sum(accounts[i])\n",
    "            maxi=max(total,maxi)\n",
    "        return maxi\n",
    "def main():\n",
    "    n=int(input())\n",
    "    arr=[]\n",
    "    for i in range(n):\n",
    "        c=int(input()) \n",
    "        c_arr=[]\n",
    "        for j in range(c):\n",
    "            c_arr.append(int(input()))\n",
    "        arr.append(c_arr)\n",
    "    s=solution()\n",
    "    print(s.maxWealth(arr))\n",
    "main()\n",
    "\n",
    "\n",
    "\n"
   ]
  },
  {
   "cell_type": "code",
   "execution_count": 45,
   "metadata": {},
   "outputs": [
    {
     "name": "stdout",
     "output_type": "stream",
     "text": [
      "58\n"
     ]
    }
   ],
   "source": [
    "class solution:\n",
    "    def sumSubarray(self,arr:list[int])->int:\n",
    "        r=0\n",
    "        for i in range(len(arr)):\n",
    "            c=0\n",
    "            for j in range(i,len(arr)):\n",
    "                c+=arr[j]\n",
    "                if (j-i)%2==0:\n",
    "                    r+=c\n",
    "        return r\n",
    "def main():\n",
    "    n=int(input())\n",
    "    arr=[]\n",
    "    for i in range(n):\n",
    "        arr.append(int(input()))\n",
    "    s=solution()\n",
    "    print(s.sumSubarray(arr))\n",
    "main()                            \n",
    "                    \n",
    "\n"
   ]
  },
  {
   "cell_type": "code",
   "execution_count": 48,
   "metadata": {},
   "outputs": [
    {
     "name": "stdout",
     "output_type": "stream",
     "text": [
      "5 6 7 1 2 3 4 \n"
     ]
    }
   ],
   "source": [
    "class solution:\n",
    "    def rotate(self,nums:list[int],k:int)->int:\n",
    "        for i in range(k):\n",
    "            num=nums.pop()\n",
    "            nums.insert(0,num)\n",
    "def main():\n",
    "    n=int(input()) \n",
    "    arr=[]\n",
    "    for i in range(n):\n",
    "        arr.append(int(input()))\n",
    "    s=solution()\n",
    "    k=int(input())\n",
    "    s.rotate(arr,k)\n",
    "    for i in range(n):\n",
    "        print(arr[i],end=\" \")\n",
    "    print()\n",
    "main()                              \n",
    "\n"
   ]
  },
  {
   "cell_type": "code",
   "execution_count": 53,
   "metadata": {},
   "outputs": [
    {
     "name": "stdout",
     "output_type": "stream",
     "text": [
      "5\n",
      "4\n",
      "3\n",
      "2\n",
      "1\n"
     ]
    }
   ],
   "source": [
    "# bubble sort\n",
    "def bubble(arr,length):\n",
    "    for i in range(len(arr)-1):\n",
    "        for j in range(len(arr)-1-i):\n",
    "            if arr[j]<arr[j+1]:\n",
    "                d=arr[j]\n",
    "                arr[j]=arr[j+1]\n",
    "                arr[j+1]=d\n",
    "    return arr\n",
    "def main():\n",
    "    n=int(input())\n",
    "    arr=[]\n",
    "    for i in range(n):\n",
    "        arr.append(int(input()))\n",
    "    output=bubble(arr,n)\n",
    "    for i in range(n):\n",
    "        print(output[i])\n",
    "main()           \n",
    "\n"
   ]
  },
  {
   "cell_type": "code",
   "execution_count": 1,
   "metadata": {},
   "outputs": [
    {
     "name": "stdout",
     "output_type": "stream",
     "text": [
      "1\n",
      "2\n",
      "3\n",
      "4\n",
      "5\n"
     ]
    }
   ],
   "source": [
    "# insertion sort\n",
    "def Insertion(arr,length):\n",
    "    for i in range(len(arr)):\n",
    "        temp=arr[i]\n",
    "        j=i-1\n",
    "        while j>=0 and temp<arr[j]:\n",
    "            arr[j+1]=arr[j]\n",
    "            j-=1\n",
    "        arr[j+1]=temp\n",
    "    return arr         \n",
    "\n",
    "def main():\n",
    "    n=int(input())\n",
    "    arr=[]\n",
    "    for i in range(n):\n",
    "        arr.append(int(input()))\n",
    "    output=Insertion(arr,n)\n",
    "    for i in range(n):\n",
    "        print(output[i])\n",
    "main()           "
   ]
  },
  {
   "cell_type": "code",
   "execution_count": 62,
   "metadata": {},
   "outputs": [
    {
     "name": "stdout",
     "output_type": "stream",
     "text": [
      "1\n",
      "2\n",
      "3\n",
      "4\n",
      "5\n"
     ]
    }
   ],
   "source": [
    "#selection sort\n",
    "def selection(arr,length):\n",
    "    for i in range(len(arr)):\n",
    "        temp=i\n",
    "        for j in range(i,len(arr)):\n",
    "            if arr[temp]>arr[j]:\n",
    "                temp=j\n",
    "        d=arr[i]\n",
    "        arr[i]=arr[temp]\n",
    "        arr[temp]=d\n",
    "    return arr            \n",
    "\n",
    "def main():\n",
    "    n=int(input())\n",
    "    arr=[]\n",
    "    for i in range(n):\n",
    "        arr.append(int(input()))\n",
    "    output=selection(arr,n)\n",
    "    for i in range(n):\n",
    "        print(output[i])\n",
    "main()        \n",
    "\n",
    "\n",
    "\n"
   ]
  },
  {
   "cell_type": "code",
   "execution_count": 69,
   "metadata": {},
   "outputs": [
    {
     "name": "stdout",
     "output_type": "stream",
     "text": [
      "8\n"
     ]
    }
   ],
   "source": [
    "\n",
    "class solution:\n",
    "    def hammingweigh(self,n:int)->int:\n",
    "        count=0\n",
    "        while n:\n",
    "            count+=1\n",
    "            n=n&(n-1)\n",
    "        return count    \n",
    "def main():\n",
    "    n=int(input())\n",
    "    s=solution()\n",
    "    print(s.hammingweigh(n))\n",
    "main()                \n"
   ]
  },
  {
   "cell_type": "code",
   "execution_count": 74,
   "metadata": {},
   "outputs": [
    {
     "name": "stdout",
     "output_type": "stream",
     "text": [
      "11\n"
     ]
    }
   ],
   "source": [
    "def binTodec(binary):\n",
    "    decimal=0\n",
    "    for  i in binary:\n",
    "        decimal=decimal*2+int(i)\n",
    "    print(decimal)\n",
    "def main():\n",
    "    binary=(input())\n",
    "    binTodec(binary)\n",
    "main()    \n",
    "\n"
   ]
  },
  {
   "cell_type": "code",
   "execution_count": 75,
   "metadata": {},
   "outputs": [
    {
     "name": "stdout",
     "output_type": "stream",
     "text": [
      "11\n"
     ]
    }
   ],
   "source": [
    "# another method binary to decimal\n",
    "def binaryTodec(binary):\n",
    "    return int(binary,2)\n",
    "def main():\n",
    "    binary=input()\n",
    "    print(binaryTodec(binary))\n",
    "main()        "
   ]
  },
  {
   "cell_type": "code",
   "execution_count": 76,
   "metadata": {},
   "outputs": [
    {
     "name": "stdout",
     "output_type": "stream",
     "text": [
      "1011\n"
     ]
    }
   ],
   "source": [
    "# decimal to binary\n",
    "def decimalTobinary(n):\n",
    "    return \"{0:b}\".format(int(n))\n",
    "def main():\n",
    "    n=input()\n",
    "    print(decimalTobinary(n))\n",
    "main()        "
   ]
  },
  {
   "cell_type": "code",
   "execution_count": 77,
   "metadata": {},
   "outputs": [
    {
     "name": "stdout",
     "output_type": "stream",
     "text": [
      "11\n"
     ]
    }
   ],
   "source": [
    "# first method\n",
    "def binaryTodec(binary):\n",
    "    decimal=0\n",
    "    for i in binary:\n",
    "        decimal=decimal*2+int(i)\n",
    "    return decimal\n",
    "def main():\n",
    "    binary=input() \n",
    "    print(binaryTodec(binary))\n",
    "main()           "
   ]
  },
  {
   "cell_type": "code",
   "execution_count": 78,
   "metadata": {},
   "outputs": [
    {
     "name": "stdout",
     "output_type": "stream",
     "text": [
      "11\n"
     ]
    }
   ],
   "source": [
    "# 2nd method\n",
    "def binaryTodec(binary):\n",
    "    return int(binary,2)\n",
    "def main():\n",
    "    binary=input() \n",
    "    print(binaryTodec(binary))\n",
    "main()       "
   ]
  },
  {
   "cell_type": "code",
   "execution_count": 79,
   "metadata": {},
   "outputs": [
    {
     "name": "stdout",
     "output_type": "stream",
     "text": [
      "1011\n"
     ]
    }
   ],
   "source": [
    "# decimal to binary\n",
    "def decTobin(decimal):\n",
    "    return \"{0:b}\",int(decimal,2)\n",
    "def main():\n",
    "    decimal=input() \n",
    "    print(decimalTobinary(decimal))\n",
    "main()       "
   ]
  },
  {
   "cell_type": "code",
   "execution_count": 84,
   "metadata": {},
   "outputs": [
    {
     "name": "stdout",
     "output_type": "stream",
     "text": [
      "true\n"
     ]
    }
   ],
   "source": [
    "# check binary number with alternative\n",
    "class solution:\n",
    "    def checkalt(self,n:int)->bool:\n",
    "        n=bin(n)\n",
    "        for i in range(1,len(n)):\n",
    "            if n[i]==n[i-1]:\n",
    "                return False\n",
    "        return True\n",
    "def main():\n",
    "    n=int(input())\n",
    "    s=solution() \n",
    "    output=s.checkalt(n)\n",
    "    if output:\n",
    "        print(\"true\")\n",
    "    else:\n",
    "        print(\"false\")\n",
    "main()                                            \n"
   ]
  },
  {
   "cell_type": "code",
   "execution_count": 86,
   "metadata": {},
   "outputs": [
    {
     "name": "stdout",
     "output_type": "stream",
     "text": [
      "8\n"
     ]
    }
   ],
   "source": [
    "class solution:\n",
    "    def hammingweigh(self,n:int)->int:\n",
    "        count=0\n",
    "        while n:\n",
    "            count+=1\n",
    "            n=n&(n-1)\n",
    "        return count\n",
    "def main():\n",
    "    n=int(input())\n",
    "    s=solution()\n",
    "    print(s.hammingweigh(n))   \n",
    "main()             \n"
   ]
  },
  {
   "cell_type": "code",
   "execution_count": 87,
   "metadata": {},
   "outputs": [
    {
     "name": "stdout",
     "output_type": "stream",
     "text": [
      "true\n"
     ]
    }
   ],
   "source": [
    "class solution:\n",
    "    def alternativeBits(self,n:int)->bool:\n",
    "        n=bin(n)\n",
    "        for i in range(1,len(n)):\n",
    "            if n[i]==n[i-1]:\n",
    "                return False\n",
    "        return True\n",
    "def main():\n",
    "    n=int(input())\n",
    "    s=solution()\n",
    "    output=s.alternativeBits(n)\n",
    "    if output:\n",
    "        print(\"true\")\n",
    "    else:\n",
    "        print(\"false\")\n",
    "main()                            "
   ]
  },
  {
   "cell_type": "code",
   "execution_count": 94,
   "metadata": {},
   "outputs": [
    {
     "name": "stdout",
     "output_type": "stream",
     "text": [
      "1a\n"
     ]
    }
   ],
   "source": [
    "# convert number to hexadecimal\n",
    "class solution:\n",
    "    def hexTodec(self,n:int)->str:\n",
    "        if n==0:return '0'\n",
    "        m='0123456789abcdef'\n",
    "        ans=''\n",
    "        for i in range(8):\n",
    "            ans=m[n%16]+ans\n",
    "            n=n//16\n",
    "        return ans.lstrip('0')\n",
    "def main():\n",
    "    n=int(input())\n",
    "    s=solution()\n",
    "    output=s.hexTodec(n)\n",
    "    print(output)\n",
    "main()            \n",
    "\n"
   ]
  },
  {
   "cell_type": "code",
   "execution_count": 96,
   "metadata": {},
   "outputs": [
    {
     "name": "stdout",
     "output_type": "stream",
     "text": [
      "1a\n"
     ]
    }
   ],
   "source": [
    "class solution:\n",
    "    def hexTodec(self,n:int)->str:\n",
    "        if n==0:return '0'\n",
    "        m='0123456789abcdef'\n",
    "        ans=''\n",
    "        for i in range(8):\n",
    "            ans=m[n%16]+ans\n",
    "            n=n//16\n",
    "        return ans.lstrip('0')  \n",
    "def main():\n",
    "    n=int(input())\n",
    "    s=solution()\n",
    "    print(s.hexTodec(n)) \n",
    "main()                \n",
    "\n"
   ]
  },
  {
   "cell_type": "code",
   "execution_count": 98,
   "metadata": {},
   "outputs": [
    {
     "name": "stdout",
     "output_type": "stream",
     "text": [
      "true\n"
     ]
    }
   ],
   "source": [
    "#check alternatebits:\n",
    "class solution:\n",
    "    def checkalternateBits(self,n:int)->bool:\n",
    "        n=bin(n)\n",
    "        for i in range(1,len(n)):\n",
    "            if n[i]==n[i-1]:\n",
    "                return False\n",
    "        return True\n",
    "def main():\n",
    "    n=int(input())\n",
    "    s=solution()\n",
    "    output=s.checkalternateBits(n)\n",
    "    if output:\n",
    "        print(\"true\")\n",
    "    else:\n",
    "        print(\"false\")\n",
    "main()                        \n",
    "        "
   ]
  },
  {
   "cell_type": "code",
   "execution_count": 100,
   "metadata": {},
   "outputs": [
    {
     "name": "stdout",
     "output_type": "stream",
     "text": [
      "8\n"
     ]
    }
   ],
   "source": [
    "class solution:\n",
    "    def hammingweigh(self,n:int)->int:\n",
    "        count=0\n",
    "        while n:\n",
    "            count+=1\n",
    "            n=n&(n-1)\n",
    "        return count\n",
    "def main():\n",
    "    n=int(input())\n",
    "    s=solution()\n",
    "    print(s.hammingweigh(n))\n",
    "main()                \n"
   ]
  },
  {
   "cell_type": "code",
   "execution_count": 101,
   "metadata": {},
   "outputs": [
    {
     "name": "stdout",
     "output_type": "stream",
     "text": [
      "8\n"
     ]
    }
   ],
   "source": [
    "class solution:\n",
    "    def hammingweigh(self,n:int)->int:\n",
    "        count=0\n",
    "        while n:\n",
    "            count+=1\n",
    "            n=n&(n-1)\n",
    "        return count\n",
    "def main():\n",
    "    n=int(input()) \n",
    "    s=solution()\n",
    "    print(s.hammingweigh(n))\n",
    "main()              "
   ]
  },
  {
   "cell_type": "code",
   "execution_count": 102,
   "metadata": {},
   "outputs": [
    {
     "name": "stdout",
     "output_type": "stream",
     "text": [
      "true\n"
     ]
    }
   ],
   "source": [
    "class solution:\n",
    "    def alternatebit(self,n:int)->bool:\n",
    "        n=bin(n)\n",
    "        for i in range(1,len(n)):\n",
    "            if n[i]==n[i-1]:\n",
    "                return False\n",
    "        return True\n",
    "def main():\n",
    "    n=int(input())\n",
    "    s=solution()\n",
    "    output=s.alternatebit(n)\n",
    "    if output:\n",
    "        print(\"true\")\n",
    "    else:\n",
    "        print(\"false\")\n",
    "main()                            "
   ]
  },
  {
   "cell_type": "code",
   "execution_count": 104,
   "metadata": {},
   "outputs": [
    {
     "name": "stdout",
     "output_type": "stream",
     "text": [
      "1a\n"
     ]
    }
   ],
   "source": [
    "class solution:\n",
    "    def hexdec(self,s:int)->str:\n",
    "        if s==0:return '0'\n",
    "        m='0123456789abcdef'\n",
    "        ans=''\n",
    "        for i in range(8):\n",
    "            ans=m[s%16]+ans\n",
    "            s=s//16\n",
    "        return ans.lstrip('0') \n",
    "def main():\n",
    "    s=int(input())\n",
    "    c=solution()\n",
    "    print(c.hexdec(s))\n",
    "main()               \n",
    "\n"
   ]
  },
  {
   "cell_type": "code",
   "execution_count": 108,
   "metadata": {},
   "outputs": [
    {
     "name": "stdout",
     "output_type": "stream",
     "text": [
      "0\n",
      "1\n",
      "2\n",
      "4\n",
      "8\n",
      "3\n",
      "5\n",
      "6\n",
      "7\n",
      "\n"
     ]
    }
   ],
   "source": [
    "class solution:\n",
    "    def sortIntegers(self,arr:list[int])->list[int]:\n",
    "        list=[]\n",
    "        for i in arr:\n",
    "            b=bin(i)\n",
    "            list.append([b.count ('1'),i])\n",
    "        list.sort()\n",
    "        ans=[]\n",
    "        for b,i in list:\n",
    "            ans.append(i)\n",
    "        return ans\n",
    "def main():\n",
    "    n=int(input())\n",
    "    arr=[]\n",
    "    for i in range(n):\n",
    "        arr.append(int(input()))\n",
    "    s=solution()\n",
    "    output=s.sortIntegers(arr)\n",
    "    for i in range(n):\n",
    "        print(output[i]) \n",
    "    print()\n",
    "main()           \n",
    "\n",
    "\n"
   ]
  },
  {
   "cell_type": "code",
   "execution_count": 111,
   "metadata": {},
   "outputs": [
    {
     "name": "stdout",
     "output_type": "stream",
     "text": [
      "0\n",
      "1\n",
      "2\n",
      "4\n",
      "8\n",
      "3\n",
      "5\n",
      "6\n",
      "7\n",
      "\n"
     ]
    }
   ],
   "source": [
    "# sort integers by 1bits\n",
    "class solution:\n",
    "    def SortInteger(self,arr:list[int])->list[int]:\n",
    "        list=[]\n",
    "        for i in arr:\n",
    "            b=bin(i)\n",
    "            list.append([b.count('1'),i])\n",
    "        list.sort()\n",
    "        ans=[]\n",
    "        for b,i in list:\n",
    "            ans.append(i)\n",
    "        return ans        \n",
    "def main():\n",
    "    n=int(input())\n",
    "    arr=[]\n",
    "    for i in range(n):\n",
    "        arr.append(int(input()))\n",
    "    s=solution()\n",
    "    output=s.SortInteger(arr)\n",
    "    for i in range(n):\n",
    "        print(output[i])\n",
    "    print()\n",
    "main()            \n",
    "\n",
    "\n",
    "               \n"
   ]
  },
  {
   "cell_type": "code",
   "execution_count": 112,
   "metadata": {},
   "outputs": [
    {
     "name": "stdout",
     "output_type": "stream",
     "text": [
      "3\n"
     ]
    }
   ],
   "source": [
    "# divide Two integers\n",
    "class solution:\n",
    "    def TwoIntegers(self,dividend:int,divisor:int)->int:\n",
    "        a=int(dividend/divisor)\n",
    "        if a>2147483647:\n",
    "            return 2147483647\n",
    "        elif a<-2147483648:\n",
    "            return -2147483648\n",
    "        else:\n",
    "            return a   \n",
    "def main():\n",
    "    n=int(input())\n",
    "    s=solution()\n",
    "    print(s.TwoIntegers(n,int(input())))\n",
    "main()    \n",
    "\n"
   ]
  },
  {
   "cell_type": "code",
   "execution_count": 2,
   "metadata": {},
   "outputs": [
    {
     "name": "stdout",
     "output_type": "stream",
     "text": [
      "6\n"
     ]
    }
   ],
   "source": [
    "# maximum number of words in sentence\n",
    "class solution:\n",
    "    def findMax(self,sentence:list[str])->int:\n",
    "        maxi=0\n",
    "        for i in sentence:\n",
    "            i=i.split()\n",
    "            maxi=max(maxi,len(i))\n",
    "        return maxi\n",
    "def main():\n",
    "    n=int(input())\n",
    "    arr=[]\n",
    "    for i in range(n):\n",
    "        arr.append((input()))\n",
    "    s=solution()\n",
    "    print(s.findMax(arr))\n",
    "main()   \n",
    "              \n",
    "\n"
   ]
  }
 ],
 "metadata": {
  "kernelspec": {
   "display_name": "Python 3",
   "language": "python",
   "name": "python3"
  },
  "language_info": {
   "codemirror_mode": {
    "name": "ipython",
    "version": 3
   },
   "file_extension": ".py",
   "mimetype": "text/x-python",
   "name": "python",
   "nbconvert_exporter": "python",
   "pygments_lexer": "ipython3",
   "version": "3.11.1"
  },
  "orig_nbformat": 4,
  "vscode": {
   "interpreter": {
    "hash": "f1349afab0fcd502e634e282abd40fedb2831892829b7733385d2e4290794b19"
   }
  }
 },
 "nbformat": 4,
 "nbformat_minor": 2
}
