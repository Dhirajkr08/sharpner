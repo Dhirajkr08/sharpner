{
 "cells": [
  {
   "cell_type": "code",
   "execution_count": 8,
   "metadata": {},
   "outputs": [
    {
     "name": "stdout",
     "output_type": "stream",
     "text": [
      "25\n"
     ]
    }
   ],
   "source": [
    "# add two numbers\n",
    "a=int(input())\n",
    "b=int(input())\n",
    "sum=a+b \n",
    "print(sum)     "
   ]
  },
  {
   "cell_type": "code",
   "execution_count": 9,
   "metadata": {},
   "outputs": [
    {
     "name": "stdout",
     "output_type": "stream",
     "text": [
      "131\n"
     ]
    }
   ],
   "source": [
    "#add Three numbers\n",
    "a=int(input())\n",
    "b=int(input())\n",
    "c=int(input())\n",
    "sum=a+b+c\n",
    "print(sum)"
   ]
  },
  {
   "cell_type": "code",
   "execution_count": 11,
   "metadata": {},
   "outputs": [
    {
     "name": "stdout",
     "output_type": "stream",
     "text": [
      "70\n"
     ]
    }
   ],
   "source": [
    "a=int(input())\n",
    "b=int(input())\n",
    "sum=a-b\n",
    "print(sum)\n"
   ]
  },
  {
   "cell_type": "code",
   "execution_count": 17,
   "metadata": {},
   "outputs": [
    {
     "name": "stdout",
     "output_type": "stream",
     "text": [
      "144\n"
     ]
    }
   ],
   "source": [
    "# multiply two numbers \n",
    "a=int(input(\"a=\"))\n",
    "b=int(input(\"b=\"))\n",
    "sum=a*b\n",
    "print(sum)"
   ]
  },
  {
   "cell_type": "code",
   "execution_count": 36,
   "metadata": {},
   "outputs": [
    {
     "name": "stdout",
     "output_type": "stream",
     "text": [
      "4.133333333333334\n",
      "4.0\n"
     ]
    }
   ],
   "source": [
    "#divide Two numbers\n",
    "def devide(a,b):\n",
    "    sum=a/b\n",
    "    print(sum)\n",
    "# want ans. without decimal\n",
    "    sum=a//b\n",
    "    print(sum)\n",
    "def main():    \n",
    "    a=float(input())\n",
    "    b=float(input())\n",
    "    devide(a,b)\n",
    "main()"
   ]
  },
  {
   "cell_type": "code",
   "execution_count": 27,
   "metadata": {},
   "outputs": [
    {
     "name": "stdout",
     "output_type": "stream",
     "text": [
      "2 x 1 = 2\n",
      "2 x 2 = 4\n",
      "2 x 3 = 6\n",
      "2 x 4 = 8\n",
      "2 x 5 = 10\n",
      "2 x 6 = 12\n",
      "2 x 7 = 14\n",
      "2 x 8 = 16\n",
      "2 x 9 = 18\n",
      "2 x 10 = 20\n"
     ]
    }
   ],
   "source": [
    "n=int(input(\"enter the number you want to get multiple table\"))\n",
    "print(n,\"x 1 =\",n*1)\n",
    "print(n,\"x 2 =\",n*2)\n",
    "print(n,\"x 3 =\",n*3)\n",
    "print(n,'x 4 =',n*4)\n",
    "print(n,\"x 5 =\",n*5)\n",
    "print(n,\"x 6 =\",n*6)\n",
    "print(n,\"x 7 =\",n*7)\n",
    "print(n,\"x 8 =\",n*8)\n",
    "print(n,\"x 9 =\",n*9)\n",
    "print(n,\"x 10 =\",n*10)\n",
    "\n"
   ]
  },
  {
   "cell_type": "code",
   "execution_count": 33,
   "metadata": {},
   "outputs": [
    {
     "name": "stdout",
     "output_type": "stream",
     "text": [
      "4 X 1 = 4\n",
      "4 X 2 = 8\n",
      "4 X 3 = 12\n",
      "4 X 4 = 16\n",
      "4 X 5 = 20\n",
      "4 X 6 = 24\n",
      "4 X 7 = 28\n",
      "4 X 8 = 32\n",
      "4 X 9 = 36\n",
      "4 X 10 = 40\n"
     ]
    }
   ],
   "source": [
    "#multiplication table using for loop\n",
    "\n",
    "def findmultiplication(n):\n",
    "    for i in range(1,11):\n",
    "        print(n,'X',i,'=',n*i) \n",
    "def main():\n",
    "    n=int(input())\n",
    "    findmultiplication(n)\n",
    "main()            "
   ]
  },
  {
   "cell_type": "code",
   "execution_count": 32,
   "metadata": {},
   "outputs": [
    {
     "name": "stdout",
     "output_type": "stream",
     "text": [
      "You are eligible for voting\n"
     ]
    }
   ],
   "source": [
    "# voting eligiblity\n",
    "def find_age(age):\n",
    "    if age>=18:\n",
    "        print(\"You are eligible for voting\")\n",
    "    else:\n",
    "        print(\"You are not eligible for voting\") \n",
    "def main():\n",
    "    age=int(input())\n",
    "    find_age(age)\n",
    "main()               "
   ]
  },
  {
   "cell_type": "code",
   "execution_count": 31,
   "metadata": {},
   "outputs": [
    {
     "name": "stdout",
     "output_type": "stream",
     "text": [
      "maximum is a = 12\n"
     ]
    }
   ],
   "source": [
    "def findMax(a,b):\n",
    "    if a>b:\n",
    "        print(\"maximum is a =\",a)\n",
    "    else:\n",
    "        print(\"minimum is b =\",b)\n",
    "def main():\n",
    "    a=int(input())\n",
    "    b=int(input())\n",
    "    findMax(a,b)\n",
    "main()                    "
   ]
  },
  {
   "cell_type": "code",
   "execution_count": 38,
   "metadata": {},
   "outputs": [
    {
     "name": "stdout",
     "output_type": "stream",
     "text": [
      "this is an odd number 3\n"
     ]
    }
   ],
   "source": [
    "#find Even or odd\n",
    "def find_even(n):\n",
    "    if n%2==0:\n",
    "        print(\"this is  an Even number\",n)\n",
    "    else:\n",
    "        print(\"this is an odd number\",n)\n",
    "def main():\n",
    "    n=int(input(\"enter the number =\"))\n",
    "    find_even(n)\n",
    "main()                "
   ]
  },
  {
   "cell_type": "code",
   "execution_count": 39,
   "metadata": {},
   "outputs": [
    {
     "name": "stdout",
     "output_type": "stream",
     "text": [
      "the maximum is c 46\n"
     ]
    }
   ],
   "source": [
    "# find maximum b/w three numbers:\n",
    "def findMaximum(a,b,c):\n",
    "    if a>b and a>c:\n",
    "        print(\"the maximum is a\",a)\n",
    "    elif b>a and b>c:\n",
    "        print(\"the maximum is b\",b)\n",
    "    else:\n",
    "        print(\"the maximum is c\",c)\n",
    "def main():\n",
    "    a=int(input(\"enter a =\"))\n",
    "    b=int(input(\"enter b =\")) \n",
    "    c=int(input(\"enter c =\")) \n",
    "    findMaximum(a,b,c)\n",
    "main()                \n",
    "\n"
   ]
  },
  {
   "cell_type": "code",
   "execution_count": 42,
   "metadata": {},
   "outputs": [
    {
     "name": "stdout",
     "output_type": "stream",
     "text": [
      "the number is zero 0\n"
     ]
    }
   ],
   "source": [
    "# check number positive negative or zero\n",
    "def checkPositiveNegativeZero(num):\n",
    "    if num>0:\n",
    "        print(\"the number is positive\",num)\n",
    "    elif num<0:\n",
    "        print(\"the number is negative\",num)\n",
    "    else:\n",
    "        print(\"the number is zero\",num)\n",
    "def main():\n",
    "    num=int(input(\"enter the number:\"))\n",
    "    checkPositiveNegativeZero(num)\n",
    "main()                    "
   ]
  },
  {
   "cell_type": "code",
   "execution_count": 1,
   "metadata": {},
   "outputs": [
    {
     "name": "stdout",
     "output_type": "stream",
     "text": [
      "select operation\n",
      "1.add\n",
      "2.substract\n",
      "3.multiplication\n",
      "4.divide\n",
      "5.dividewithoutfloat\n",
      "6.modulo\n",
      "7.exponention\n",
      "invalid input\n",
      "invalid input\n",
      "invalid input\n",
      "invalid input\n",
      "invalid input\n",
      "invalid input\n"
     ]
    }
   ],
   "source": [
    "#basic calculatior\n",
    "def add(a,b):\n",
    "    return a+b\n",
    "def substract(a,b):\n",
    "    return a-b \n",
    "def multiplication(a,b):\n",
    "    return a*b\n",
    "def divide(a,b):\n",
    "    return a/b  \n",
    "def dividewithoutfloat(a,b):\n",
    "    return a//b\n",
    "def modulo(a,b):\n",
    "    return a%b\n",
    "def exponention(a,b):\n",
    "    return a**b\n",
    "print(\"select operation\")\n",
    "print(\"1.add\")\n",
    "print(\"2.substract\")\n",
    "print(\"3.multiplication\")\n",
    "print(\"4.divide\")\n",
    "print(\"5.dividewithoutfloat\")\n",
    "print(\"6.modulo\")\n",
    "print(\"7.exponention\")\n",
    "while True:\n",
    "    choice=int(input(\"enter the choice =\"))\n",
    "    if choice in('1','2','3','4','5','6','7'):\n",
    "        a=float(input(\"a=\"))\n",
    "        b=float(input(\"b =\"))\n",
    "        if choice=='1':\n",
    "            print(a,'+',b,'=',add(a,b))\n",
    "        elif choice =='2':\n",
    "            print(a,'-',b,'=',substract(a,b)) \n",
    "        elif choice =='3':\n",
    "            print(a,'*',b,'=',multiplication(a,b))\n",
    "        elif choice=='4':\n",
    "            print(a,'/',b,'=',divide(a,b))\n",
    "        elif choice=='5':\n",
    "            print(a,'//',b,'=',dividewithoutfloat(a,b)) \n",
    "        elif choice=='6':\n",
    "            print(a,'%',b,'=',modulo(a,b)) \n",
    "        elif choice=='7':\n",
    "            print(a,'**',b,'=',exponention(a,b))   \n",
    "        next_calculation=int(input())\n",
    "        if next_calculation==\"no\":\n",
    "            break\n",
    "    else:\n",
    "        print(\"invalid input\")\n",
    "\n",
    "\n",
    "\n",
    "\n",
    "\n",
    "\n",
    "\n",
    "        "
   ]
  },
  {
   "cell_type": "code",
   "execution_count": 6,
   "metadata": {},
   "outputs": [
    {
     "name": "stdout",
     "output_type": "stream",
     "text": [
      "12.0-12.0=0.0\n"
     ]
    }
   ],
   "source": [
    "choice=int(input())\n",
    "a=float(input())\n",
    "b=float(input())\n",
    "if choice==1:\n",
    "        print(\"{x}+{y}={z}\".format(x=a,y=b,z=a+b))\n",
    "elif choice ==2:\n",
    "        print(\"{x}-{y}={z}\".format(x=a,y=b,z=a-b))\n",
    "elif choice ==3:\n",
    "        print(\"{x}*{y}={z}\".format(x=a,y=b,z=a*b))\n",
    "elif choice==4:\n",
    "        print(\"{x}/{y}={z}\".format(x=a,y=b,z=a/b))\n",
    "elif choice==5:\n",
    "        print(\"{x}//{y}={z}\".format(x=a,y=b,z=a//b)) \n",
    "elif choice==6:\n",
    "        print(\"{x}%{y}={z}\".format(x=a,y=b,z=a%b))\n",
    "elif choice==7:\n",
    "        print(\"{x}**{y}={z}\".format(x=a,y=b,z=a**b))\n",
    "else:\n",
    "    print(\"Invalid choice\")        "
   ]
  },
  {
   "cell_type": "code",
   "execution_count": 14,
   "metadata": {},
   "outputs": [
    {
     "name": "stdout",
     "output_type": "stream",
     "text": [
      "2 4 6 8 10 12 14 16 18 20 22 24 26 28 30 32 34 36 38 40 42 44 46 48 50 52 "
     ]
    }
   ],
   "source": [
    "#print n number of even number\n",
    "def printEven(n):\n",
    "    for i in range(1,n+1):\n",
    "        if i%2==0:\n",
    "            print(i,end=\" \")\n",
    "def main():\n",
    "    n=int(input())\n",
    "    printEven(n)\n",
    "main()                \n"
   ]
  },
  {
   "cell_type": "code",
   "execution_count": 22,
   "metadata": {},
   "outputs": [
    {
     "name": "stdout",
     "output_type": "stream",
     "text": [
      "30\n"
     ]
    }
   ],
   "source": []
  },
  {
   "cell_type": "code",
   "execution_count": null,
   "metadata": {},
   "outputs": [],
   "source": []
  },
  {
   "cell_type": "code",
   "execution_count": 9,
   "metadata": {},
   "outputs": [
    {
     "name": "stdout",
     "output_type": "stream",
     "text": [
      "profit = 31.0\n"
     ]
    }
   ],
   "source": [
    "# profit or loss\n",
    "def calculateprofitLoss(cp,sp):\n",
    "    if sp>cp:\n",
    "        margin=sp-cp\n",
    "        print(\"profit =\",margin)\n",
    "    else:\n",
    "        print(\"loss =\",margin)\n",
    "def main():\n",
    "    cp=float (input()) \n",
    "    sp=float(input())\n",
    "    calculateprofitLoss(cp,sp)\n",
    "main()    \n",
    "\n"
   ]
  },
  {
   "cell_type": "code",
   "execution_count": 11,
   "metadata": {},
   "outputs": [
    {
     "name": "stdout",
     "output_type": "stream",
     "text": [
      "total marks is = 430\n",
      "the pecantage is = 86.0\n",
      "result= pass\n"
     ]
    }
   ],
   "source": [
    "# marksheet of student\n",
    "\n",
    "def result(s1,s2,s3,s4,s5):\n",
    "    total=(s1+s2+s3+s4+s5)\n",
    "    percentage=(total/500)*100\n",
    "    print(\"total marks is =\",total)\n",
    "    print(\"the pecantage is =\",percentage)\n",
    "    if percentage>=40:\n",
    "        print(\"result= pass\")\n",
    "    else:\n",
    "        print(\"result = fail\")  \n",
    "def main():\n",
    "    s1=int(input(\"Enter the maths marks =\"))\n",
    "    s2=int(input(\"enter the English marks =\"))\n",
    "    s3=int(input(\"enter the physics marks =\"))\n",
    "    s4=int(input(\"enter the chemistry marks =\"))\n",
    "    s5=int(input(\"enter the program marks =\")) \n",
    "    result(s1,s2,s3,s4,s5) \n",
    "main()            \n",
    "\n",
    "\n"
   ]
  },
  {
   "cell_type": "code",
   "execution_count": 4,
   "metadata": {},
   "outputs": [
    {
     "name": "stdout",
     "output_type": "stream",
     "text": [
      "2 4 6 8 10 "
     ]
    }
   ],
   "source": [
    "# print n number of even number\n",
    "def print_Even(n):\n",
    "    for i in range(1,n+1):\n",
    "        if i%2==0:\n",
    "            print(i,end=\" \")\n",
    "def main():\n",
    "    n=int(input())\n",
    "    print_Even(n)\n",
    "main()               \n",
    "\n",
    "\n"
   ]
  },
  {
   "cell_type": "code",
   "execution_count": 5,
   "metadata": {},
   "outputs": [
    {
     "name": "stdout",
     "output_type": "stream",
     "text": [
      "1 3 5 7 9 "
     ]
    }
   ],
   "source": [
    "# print n number of odd\n",
    "def printodd(n):\n",
    "    for i in range(n+1):\n",
    "        if i%2!=0:\n",
    "            print(i,end=\" \")\n",
    "def main():\n",
    "    n=int(input())\n",
    "    printodd(n)\n",
    "main()                          \n",
    "\n",
    "\n"
   ]
  },
  {
   "cell_type": "code",
   "execution_count": 12,
   "metadata": {},
   "outputs": [
    {
     "name": "stdout",
     "output_type": "stream",
     "text": [
      "Even number is = 2 4 6 8 10 odd number is = 1 3 5 7 9 "
     ]
    }
   ],
   "source": [
    "def OddEven(n):\n",
    "    print(\"Even number is =\",end=\" \") \n",
    "    for i in range(1,n+1):\n",
    "        if i%2==0:\n",
    "            \n",
    "            print(i,end=\" \")\n",
    "    print(\"odd number is =\",end=\" \")     \n",
    "    for i in range(1,n+1):\n",
    "        if i%2!=0:\n",
    "            \n",
    "            print(i,end=\" \")\n",
    "              \n",
    "def main():\n",
    "    n=int(input())\n",
    "    OddEven(n)\n",
    "main()                        \n",
    "    "
   ]
  },
  {
   "cell_type": "code",
   "execution_count": 28,
   "metadata": {},
   "outputs": [
    {
     "name": "stdout",
     "output_type": "stream",
     "text": [
      "even sum is = 0 2 4 6 8 10 = 30\n",
      "odd sum is =  1 3 5 7 9 = 25\n"
     ]
    }
   ],
   "source": [
    "# odd sum and even sum\n",
    "def oddEvenSum(n):\n",
    "    odd_sum=0\n",
    "    even_sum=0\n",
    "    print(\"even sum is =\",end=\" \")\n",
    "    for i in range(n+1):\n",
    "        \n",
    "        if i%2==0:\n",
    "            print(i,end=\" \")\n",
    "            even_sum=even_sum+i\n",
    "    print(\"=\",even_sum) \n",
    "    print(\"odd sum is = \",end=\" \")      \n",
    "    for i in range(n+1):\n",
    "         \n",
    "        if i%2!=0:\n",
    "            print(i,end=\" \") \n",
    "            odd_sum=odd_sum+i\n",
    "    print(\"=\",odd_sum)        \n",
    "def main():\n",
    "    n=int(input())\n",
    "    oddEvenSum(n)\n",
    "main()                       \n",
    "\n",
    "\n",
    "\n"
   ]
  },
  {
   "cell_type": "code",
   "execution_count": 33,
   "metadata": {},
   "outputs": [
    {
     "name": "stdout",
     "output_type": "stream",
     "text": [
      "even \n"
     ]
    }
   ],
   "source": [
    "#odd even numbe using  terenary operator\n",
    "def oddeven(n):\n",
    "    ans=\"even \" if n%2==0 else \"odd\"\n",
    "    print(ans)\n",
    "def main():\n",
    "    n=int(input())\n",
    "    oddeven(n)\n",
    "main()            \n"
   ]
  },
  {
   "cell_type": "code",
   "execution_count": 36,
   "metadata": {},
   "outputs": [
    {
     "name": "stdout",
     "output_type": "stream",
     "text": [
      "the greater number is b = 54\n"
     ]
    }
   ],
   "source": [
    "# ternary operator to find largest b/w two numbers\n",
    "def findLargest(a,b):\n",
    "    print(\"the greater number is a =\",a) if a>b else print(\"the greater number is b =\",b)\n",
    "def main():\n",
    "    a=int(input())\n",
    "    b=int(input()) \n",
    "    findLargest(a,b)\n",
    "main()           "
   ]
  },
  {
   "cell_type": "code",
   "execution_count": 2,
   "metadata": {},
   "outputs": [
    {
     "name": "stdout",
     "output_type": "stream",
     "text": [
      "a after swapping = 14\n",
      "b after swapping = 12\n"
     ]
    }
   ],
   "source": [
    "# swap two numbers\n",
    "def swap(a,b):\n",
    "    i=a\n",
    "    a=b\n",
    "    b=i\n",
    "    print(\"a after swapping =\",a)\n",
    "    print(\"b after swapping =\",b)\n",
    "def main():\n",
    "    a=int(input())\n",
    "    b=int(input())\n",
    "    swap(a,b)\n",
    "main()        "
   ]
  },
  {
   "cell_type": "code",
   "execution_count": 6,
   "metadata": {},
   "outputs": [
    {
     "name": "stdout",
     "output_type": "stream",
     "text": [
      "7\n",
      "14\n",
      "21\n",
      "28\n",
      "35\n",
      "42\n",
      "49\n"
     ]
    }
   ],
   "source": [
    "# display numbers divisible by 7\n",
    "def FindDivisible(n):\n",
    "    for i in range(1,n+1):\n",
    "        \n",
    "        if i%7==0:\n",
    "            print(i)\n",
    "def main():\n",
    "    n=int(input())\n",
    "    FindDivisible(n)\n",
    "main()                \n"
   ]
  },
  {
   "cell_type": "code",
   "execution_count": 32,
   "metadata": {},
   "outputs": [
    {
     "name": "stdout",
     "output_type": "stream",
     "text": [
      "tax = 27500.0\n",
      "cess = 275.0\n",
      "total payable = 27775.0\n"
     ]
    }
   ],
   "source": [
    "salary=float(input()) \n",
    "tax=0\n",
    "\n",
    "if salary<=250000:\n",
    "    tax=0\n",
    "    \n",
    "elif salary<=500000:\n",
    "    tax=(salary-250000)*5/100\n",
    "    \n",
    "elif salary<=1000000:\n",
    "    tax=250000*5/100\n",
    "    tax=tax+(salary-500000)*20/100\n",
    "    \n",
    "elif salary>1000000:\n",
    "    tax=250000*5/100\n",
    "    tax=tax+(salary-1000000)*30/100\n",
    "    \n",
    "cess=tax*1/100\n",
    "print(\"tax =\",tax)\n",
    "print(\"cess =\",cess) \n",
    "print(\"total payable =\",tax+cess)   \n",
    "             \n",
    "\n",
    "\n",
    "\n",
    "\n",
    "\n"
   ]
  },
  {
   "cell_type": "code",
   "execution_count": 50,
   "metadata": {},
   "outputs": [
    {
     "name": "stdout",
     "output_type": "stream",
     "text": [
      "1\n",
      "2\n",
      "3\n",
      "5\n",
      "8\n",
      "13\n",
      "21\n",
      "34\n",
      "55\n"
     ]
    }
   ],
   "source": [
    "# fibonacci series\n",
    "def fibonacci(n):\n",
    "    a=0\n",
    "    b=1\n",
    "    for i in range(n+1):\n",
    "        sum=a+b\n",
    "        a=b\n",
    "        b=sum\n",
    "        print(sum)\n",
    "def main():\n",
    "    n=int(input())\n",
    "    fibonacci(n)\n",
    "main()            \n",
    "\n"
   ]
  },
  {
   "cell_type": "code",
   "execution_count": 47,
   "metadata": {},
   "outputs": [
    {
     "name": "stdout",
     "output_type": "stream",
     "text": [
      "Not prime\n"
     ]
    }
   ],
   "source": [
    "# prime number or not\n",
    "def check_prime(n):\n",
    "    count=0\n",
    "    for i in range(1,n+1):\n",
    "        if n%i==0:\n",
    "            count+=1\n",
    "    if count==2:\n",
    "        print(\"prime\")\n",
    "    else:\n",
    "        print(\"Not prime\")\n",
    "def main():\n",
    "    n=int(input())\n",
    "    check_prime(n)\n",
    "main()                           \n",
    "\n"
   ]
  },
  {
   "cell_type": "code",
   "execution_count": 51,
   "metadata": {},
   "outputs": [
    {
     "name": "stdout",
     "output_type": "stream",
     "text": [
      "this is a prime number 11\n"
     ]
    }
   ],
   "source": [
    "# prime number\n",
    "def primeNo(n):\n",
    "    if n==1:\n",
    "        print(\"this is not a prime number\")\n",
    "    elif n>1:\n",
    "        for i in range(2,n+1):\n",
    "            if n%i==0:\n",
    "                print(\"this is a prime number\",i)\n",
    "def main():\n",
    "    n=int(input())\n",
    "    primeNo(n)\n",
    "main()                        \n"
   ]
  },
  {
   "cell_type": "code",
   "execution_count": 52,
   "metadata": {},
   "outputs": [
    {
     "name": "stdout",
     "output_type": "stream",
     "text": [
      "factorial = 120\n"
     ]
    }
   ],
   "source": [
    "# print factorial of n\n",
    "def factorial(n):\n",
    "    fact=1\n",
    "    for i in range(1,n+1):\n",
    "        fact=fact*i\n",
    "    print(\"factorial =\",fact)\n",
    "def main():\n",
    "    n=int(input())\n",
    "    factorial(n)\n",
    "main()    \n"
   ]
  },
  {
   "cell_type": "code",
   "execution_count": 59,
   "metadata": {},
   "outputs": [
    {
     "name": "stdout",
     "output_type": "stream",
     "text": [
      "prime numbers =\n",
      "2 3 5 7 11 13 17 19 23 29 31 37 41 43 47 53 59 61 67 71 73 79 83 89 97 "
     ]
    }
   ],
   "source": [
    "# print all prime number till 1 to n\n",
    "def primeNo(n):\n",
    "    print(\"prime numbers =\")\n",
    "    for i in range(1,n):\n",
    "        count=0\n",
    "        for j in range(1,i+1):\n",
    "            if i%j==0:\n",
    "                count+=1\n",
    "        if count==2:\n",
    "            print(i,end=\" \")               \n",
    "def main():\n",
    "    n=int(input())\n",
    "    primeNo(n)\n",
    "main()                      \n",
    "\n"
   ]
  },
  {
   "cell_type": "code",
   "execution_count": 69,
   "metadata": {},
   "outputs": [
    {
     "name": "stdout",
     "output_type": "stream",
     "text": [
      "prime numbers =\n",
      "2,3,5,7,11,13,17,19,23,29,31,37,41,43,47,sum is = 328\n"
     ]
    }
   ],
   "source": [
    "# sum of prime numbers to 1 to n\n",
    "def prime_sum(n):\n",
    "    sum=0\n",
    "    print(\"prime numbers =\")\n",
    "    for i in range(1,n):\n",
    "        count=0\n",
    "        for j in range(1,i+1):\n",
    "            if i%j==0:\n",
    "                count+=1\n",
    "        if count==2:\n",
    "        \n",
    "            print(i,end=\",\") \n",
    "            sum+=i\n",
    "    print(\"sum is =\",sum)        \n",
    "def main():\n",
    "    n=int(input())\n",
    "    prime_sum(n)\n",
    "main()                       "
   ]
  },
  {
   "cell_type": "code",
   "execution_count": 70,
   "metadata": {},
   "outputs": [
    {
     "name": "stdout",
     "output_type": "stream",
     "text": [
      "351\n"
     ]
    }
   ],
   "source": [
    "# reverse number\n",
    "def reverse(n):\n",
    "    rev=0\n",
    "    while n>0:\n",
    "        temp=n%10\n",
    "        rev=rev*10+temp\n",
    "        n=n//10\n",
    "    return rev \n",
    "def main():\n",
    "    n=int(input())\n",
    "    print(reverse(n))\n",
    "main()           "
   ]
  },
  {
   "cell_type": "code",
   "execution_count": 75,
   "metadata": {},
   "outputs": [
    {
     "name": "stdout",
     "output_type": "stream",
     "text": [
      "False\n"
     ]
    }
   ],
   "source": [
    "# check palindrome(reverse number is true or false)\n",
    "def checkPalindrome(n):\n",
    "    rev=0\n",
    "    temp=n\n",
    "    while n>0:\n",
    "        i=n%10\n",
    "        rev=rev*10+i\n",
    "        n=n//10\n",
    "    if temp==rev:\n",
    "        return True\n",
    "    return False    \n",
    "\n",
    "def main():\n",
    "    n=int(input())\n",
    "    print(checkPalindrome(n))\n",
    "main()                \n"
   ]
  },
  {
   "cell_type": "code",
   "execution_count": 79,
   "metadata": {},
   "outputs": [
    {
     "name": "stdout",
     "output_type": "stream",
     "text": [
      "*\n",
      "**\n",
      "***\n",
      "****\n",
      "*****\n"
     ]
    }
   ],
   "source": [
    "def printPatterns(n):\n",
    "    for i in range((n)):\n",
    "        for j in range(i+1):\n",
    "            print(\"*\",end=\"\")\n",
    "        print()\n",
    "def main():\n",
    "    n=int(input())\n",
    "    print=printPatterns(n)\n",
    "    \n",
    "main()                \n"
   ]
  },
  {
   "cell_type": "code",
   "execution_count": 85,
   "metadata": {},
   "outputs": [
    {
     "name": "stdout",
     "output_type": "stream",
     "text": [
      "1\n",
      "22\n",
      "333\n",
      "4444\n"
     ]
    }
   ],
   "source": [
    "#print 1234 as pattern:\n",
    "def pattern(n):\n",
    "    for i in range(1,n+1):\n",
    "        for j in range(1,i+1):\n",
    "            print(i,end=\"\")\n",
    "        print()\n",
    "def main():\n",
    "    n=int(input()) \n",
    "    pattern(n)\n",
    "main()               "
   ]
  },
  {
   "cell_type": "code",
   "execution_count": 86,
   "metadata": {},
   "outputs": [
    {
     "name": "stdout",
     "output_type": "stream",
     "text": [
      "1\n",
      "12\n",
      "123\n",
      "1234\n",
      "12345\n"
     ]
    }
   ],
   "source": [
    "def pattern(n):\n",
    "    for i in range(1,n+1):\n",
    "        for j in range(1,i+1):\n",
    "            print(j,end=\"\")\n",
    "        print()\n",
    "def main():\n",
    "    n=int(input())\n",
    "    pattern(n)\n",
    "main()                \n"
   ]
  },
  {
   "cell_type": "code",
   "execution_count": 93,
   "metadata": {},
   "outputs": [
    {
     "name": "stdout",
     "output_type": "stream",
     "text": [
      "1 \n",
      "2 3 \n",
      "4 5 6 \n",
      "7 8 9 10 \n",
      "11 12 13 14 15 \n"
     ]
    }
   ],
   "source": [
    "# counting in patterns\n",
    "def countinPattern(n):\n",
    "    count=1\n",
    "    for i in range(1,n+1):\n",
    "        for j in range(1,i+1):\n",
    "            print(count,end=\" \")\n",
    "            count+=1\n",
    "        print() \n",
    "\n",
    "\n",
    "def main():\n",
    "    n=int(input()) \n",
    "    countinPattern(n)\n",
    "main()                  "
   ]
  },
  {
   "cell_type": "code",
   "execution_count": 98,
   "metadata": {},
   "outputs": [
    {
     "name": "stdout",
     "output_type": "stream",
     "text": [
      "5 \n",
      "4 4 \n",
      "3 3 3 \n",
      "2 2 2 2 \n",
      "1 1 1 1 1 \n"
     ]
    }
   ],
   "source": [
    "def reversePattern(n):\n",
    "    for i in range(n,0,-1):\n",
    "        for j in range(n,i-1,-1):\n",
    "            print(i,end=\" \")\n",
    "        print() \n",
    "def main():\n",
    "    n=int(input()) \n",
    "    reversePattern(n)\n",
    "main()                             "
   ]
  },
  {
   "cell_type": "code",
   "execution_count": 106,
   "metadata": {},
   "outputs": [
    {
     "name": "stdout",
     "output_type": "stream",
     "text": [
      "5 \n",
      "5 4 \n",
      "5 4 3 \n",
      "5 4 3 2 \n",
      "5 4 3 2 1 \n"
     ]
    }
   ],
   "source": [
    "def reversePattern(n):\n",
    "    for i in range(n,0,-1):\n",
    "        for j in range(n,i-1,-1):\n",
    "            print(j,end=\" \")\n",
    "        print() \n",
    "def main():\n",
    "    n=int(input()) \n",
    "    reversePattern(n)\n",
    "main() "
   ]
  },
  {
   "cell_type": "code",
   "execution_count": 113,
   "metadata": {},
   "outputs": [
    {
     "name": "stdout",
     "output_type": "stream",
     "text": [
      "55555\n",
      "4444\n",
      "333\n",
      "22\n",
      "1\n"
     ]
    }
   ],
   "source": [
    "#straight pattern in integer\n",
    "def pattern(n):\n",
    "    for i in range(n,0,-1):\n",
    "        for j in range(1,i+1):\n",
    "            print(i,end=\"\")\n",
    "        print()    \n",
    "\n",
    "def main():\n",
    "    n=int(input())\n",
    "    pattern(n) \n",
    "main()               "
   ]
  },
  {
   "cell_type": "code",
   "execution_count": 100,
   "metadata": {},
   "outputs": [
    {
     "name": "stdout",
     "output_type": "stream",
     "text": [
      "*****\n",
      "****\n",
      "***\n",
      "**\n",
      "*\n"
     ]
    }
   ],
   "source": [
    "# reverse right angle pattern\n",
    "def pattern(n):\n",
    "    for i in range(n):\n",
    "        for j in range(n-i):\n",
    "            print(\"*\",end=\"\")\n",
    "        print()\n",
    "def main():\n",
    "    n=int(input())\n",
    "    pattern(n)\n",
    "main()                "
   ]
  },
  {
   "cell_type": "code",
   "execution_count": 116,
   "metadata": {},
   "outputs": [
    {
     "name": "stdout",
     "output_type": "stream",
     "text": [
      "54321\n",
      "5432\n",
      "543\n",
      "54\n",
      "5\n"
     ]
    }
   ],
   "source": [
    "def printInteger(n):\n",
    "    for i in range(1,n+1):\n",
    "        for j in range(n,i-1,-1):\n",
    "            print(j,end=\"\")\n",
    "        print()\n",
    "def main():\n",
    "    n=int(input())\n",
    "    printInteger(n)\n",
    "main()                "
   ]
  },
  {
   "cell_type": "code",
   "execution_count": 118,
   "metadata": {},
   "outputs": [
    {
     "name": "stdout",
     "output_type": "stream",
     "text": [
      "1 2 3 4 5 \n",
      "6 7 8 9 \n",
      "10 11 12 \n",
      "13 14 \n",
      "15 \n"
     ]
    }
   ],
   "source": [
    "def printInteger(n):\n",
    "    count=1\n",
    "    for i in range(1,n+1):\n",
    "        for j in range(n,i-1,-1):\n",
    "            print(count,end=\" \")\n",
    "            count+=1\n",
    "        print()\n",
    "def main():\n",
    "    n=int(input())\n",
    "    printInteger(n)\n",
    "main()                \n"
   ]
  },
  {
   "cell_type": "code",
   "execution_count": 130,
   "metadata": {},
   "outputs": [
    {
     "name": "stdout",
     "output_type": "stream",
     "text": [
      "12345\n",
      "1234\n",
      "123\n",
      "12\n",
      "1\n"
     ]
    }
   ],
   "source": [
    "def printInteger(n):\n",
    "    for i in range(n,0,-1):\n",
    "        for j in range(1,i+1):\n",
    "            print(j,end=\"\")\n",
    "        print()\n",
    "def main():\n",
    "    n=int(input())\n",
    "    printInteger(n)\n",
    "main()                "
   ]
  },
  {
   "cell_type": "code",
   "execution_count": 124,
   "metadata": {},
   "outputs": [
    {
     "name": "stdout",
     "output_type": "stream",
     "text": [
      "11111\n",
      "2222\n",
      "333\n",
      "44\n",
      "5\n"
     ]
    }
   ],
   "source": [
    "def printInteger(n):\n",
    "    for i in range(1,n+1):\n",
    "        for j in range(n,i-1,-1):\n",
    "            print(i,end=\"\")\n",
    "        print()\n",
    "def main():\n",
    "    n=int(input())\n",
    "    printInteger(n)\n",
    "main()                "
   ]
  },
  {
   "cell_type": "code",
   "execution_count": 128,
   "metadata": {},
   "outputs": [
    {
     "name": "stdout",
     "output_type": "stream",
     "text": [
      "          * \n",
      "        * * \n",
      "      * * * \n",
      "    * * * * \n",
      "  * * * * * \n"
     ]
    }
   ],
   "source": [
    "def printIntegers(n):\n",
    "    for i in range(n,0,-1):\n",
    "        for j in range(1,i+1):\n",
    "            print(\" \",end=\" \")\n",
    "        for k in range(n,i-1,-1):\n",
    "            print(\"*\",end=\" \")\n",
    "        print()\n",
    "def main():\n",
    "    n=int(input())\n",
    "    printIntegers(n)\n",
    "main()                "
   ]
  },
  {
   "cell_type": "code",
   "execution_count": 132,
   "metadata": {},
   "outputs": [
    {
     "name": "stdout",
     "output_type": "stream",
     "text": [
      "          5 \n",
      "        4 4 \n",
      "      3 3 3 \n",
      "    2 2 2 2 \n",
      "  1 1 1 1 1 \n"
     ]
    }
   ],
   "source": [
    "def printInt(n):\n",
    "    for i in range(n,0,-1):\n",
    "        for j in range(1,i+1):\n",
    "            print(\" \",end=\" \")\n",
    "        for k in range(n,i-1,-1):\n",
    "            print(i,end=\" \")\n",
    "        print()        \n",
    "def main():\n",
    "    n=int(input())\n",
    "    printInt(n)\n",
    "main()                    \n"
   ]
  },
  {
   "cell_type": "code",
   "execution_count": 134,
   "metadata": {},
   "outputs": [
    {
     "name": "stdout",
     "output_type": "stream",
     "text": [
      "          5 \n",
      "        5 4 \n",
      "      5 4 3 \n",
      "    5 4 3 2 \n",
      "  5 4 3 2 1 \n"
     ]
    }
   ],
   "source": [
    "def printInt(n):\n",
    "    for i in range(n,0,-1):\n",
    "        for j in range(1,i+1):\n",
    "            print(\" \",end=\" \")\n",
    "        for k in range(n,i-1,-1):\n",
    "            print(k,end=\" \") \n",
    "        print()\n",
    "def main():\n",
    "    n=int(input())\n",
    "    printInt(n) \n",
    "main()                  "
   ]
  },
  {
   "cell_type": "code",
   "execution_count": 147,
   "metadata": {},
   "outputs": [
    {
     "name": "stdout",
     "output_type": "stream",
     "text": [
      "          1 \n",
      "        2 3 \n",
      "      4 5 6 \n",
      "    7 8 9 10 \n",
      "  11 12 13 14 15 \n"
     ]
    }
   ],
   "source": [
    "def printInt(n):\n",
    "    count=1\n",
    "    for i in range(1,n+1):\n",
    "        for j in range(n,i-1,-1):\n",
    "            print(\" \",end=\" \")\n",
    "        for k in range(1,i+1):\n",
    "            print(count,end=\" \")\n",
    "            count+=1\n",
    "        print()        \n",
    "\n",
    "def main():\n",
    "    n=int(input())\n",
    "    printInt(n)\n",
    "main()    \n",
    "\n",
    "\n",
    "\n",
    "\n",
    "\n"
   ]
  },
  {
   "cell_type": "code",
   "execution_count": 148,
   "metadata": {},
   "outputs": [
    {
     "name": "stdout",
     "output_type": "stream",
     "text": [
      "          1 \n",
      "        2 2 \n",
      "      3 3 3 \n",
      "    4 4 4 4 \n",
      "  5 5 5 5 5 \n"
     ]
    }
   ],
   "source": [
    "def printInt(n):\n",
    "    for i in range(1,n+1):\n",
    "        for j in range(n,i-1,-1):\n",
    "            print(\" \",end=\" \")\n",
    "        for k in range(1,i+1):\n",
    "            print(i,end=\" \")\n",
    "        print()\n",
    "def main():\n",
    "    n=int(input())\n",
    "    printInt(n)\n",
    "main()                    "
   ]
  },
  {
   "cell_type": "code",
   "execution_count": 150,
   "metadata": {},
   "outputs": [
    {
     "name": "stdout",
     "output_type": "stream",
     "text": [
      "          1 \n",
      "        1 2 \n",
      "      1 2 3 \n",
      "    1 2 3 4 \n",
      "  1 2 3 4 5 \n"
     ]
    }
   ],
   "source": [
    "def printInt(n):\n",
    "    for i in range(1,n+1):\n",
    "        for j in range(n,i-1,-1):\n",
    "            print(\" \",end=\" \")\n",
    "        for k in range(1,i+1):\n",
    "            print(k,end=\" \")\n",
    "        print()\n",
    "def main():\n",
    "    n=int(input())\n",
    "    printInt(n)\n",
    "main()                    "
   ]
  }
 ],
 "metadata": {
  "kernelspec": {
   "display_name": "Python 3",
   "language": "python",
   "name": "python3"
  },
  "language_info": {
   "codemirror_mode": {
    "name": "ipython",
    "version": 3
   },
   "file_extension": ".py",
   "mimetype": "text/x-python",
   "name": "python",
   "nbconvert_exporter": "python",
   "pygments_lexer": "ipython3",
   "version": "3.11.1"
  },
  "orig_nbformat": 4,
  "vscode": {
   "interpreter": {
    "hash": "f1349afab0fcd502e634e282abd40fedb2831892829b7733385d2e4290794b19"
   }
  }
 },
 "nbformat": 4,
 "nbformat_minor": 2
}
