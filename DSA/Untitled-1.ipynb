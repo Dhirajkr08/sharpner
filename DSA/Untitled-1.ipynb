{
 "cells": [
  {
   "cell_type": "code",
   "execution_count": 6,
   "metadata": {},
   "outputs": [
    {
     "name": "stdout",
     "output_type": "stream",
     "text": [
      "Dj 1\n"
     ]
    }
   ],
   "source": [
    "class Student:\n",
    "    \n",
    "    def __init__(self,name=\"john\",roll_no=2):\n",
    "        self.name=name\n",
    "        self.roll_no=roll_no\n",
    "s1=Student(\"Dj\",1)\n",
    "print(s1.name,s1.roll_no)        "
   ]
  },
  {
   "cell_type": "code",
   "execution_count": 8,
   "metadata": {},
   "outputs": [
    {
     "name": "stdout",
     "output_type": "stream",
     "text": [
      "Dhiraj 1\n"
     ]
    }
   ],
   "source": [
    "class Student:\n",
    "    def __init__(self,name,roll_no):\n",
    "        self.name=name\n",
    "        self.roll_no=roll_no\n",
    "    def print_attributes(self):\n",
    "        print(self.name,self.roll_no)\n",
    "s=Student('Dhiraj',1)\n",
    "s.print_attributes()              "
   ]
  },
  {
   "cell_type": "code",
   "execution_count": 9,
   "metadata": {},
   "outputs": [
    {
     "name": "stdout",
     "output_type": "stream",
     "text": [
      "4896\n",
      "58\n"
     ]
    }
   ],
   "source": [
    "class Triangle:\n",
    "    def __init__(self,side1,side2,side3):\n",
    "        self.a=side1\n",
    "        self.b=side2\n",
    "        self.c=side3\n",
    "    def calculate_area(self):\n",
    "        return(self.a*self.b*self.c)\n",
    "    def calculatePerimeter(self):\n",
    "        return(self.a+self.b+self.c) \n",
    "t=Triangle(12,34,12)\n",
    "print(t.calculate_area())\n",
    "print(t.calculatePerimeter())       "
   ]
  },
  {
   "cell_type": "code",
   "execution_count": 13,
   "metadata": {},
   "outputs": [
    {
     "name": "stdout",
     "output_type": "stream",
     "text": [
      "Robert 1994 64C-WallsStreet\n",
      "Sam 2000 68D-WallsStreet\n",
      "John 1999 26B-WallsStree\n"
     ]
    }
   ],
   "source": [
    "class Employee:\n",
    "    def __init__(self,name,year,address):\n",
    "        self.name=name\n",
    "        self.year=year\n",
    "        self.address=address\n",
    "    def print_details(self):\n",
    "        print(self.name,self.year,self.address)\n",
    "e=Employee('Robert', 1994 , '64C-WallsStreet') \n",
    "e.print_details()  \n",
    "e1=Employee('Sam', 2000, '68D-WallsStreet') \n",
    "e1.print_details()  \n",
    "e2=Employee('John', 1999,'26B-WallsStree') \n",
    "e2.print_details()     "
   ]
  },
  {
   "cell_type": "code",
   "execution_count": 15,
   "metadata": {},
   "outputs": [
    {
     "name": "stdout",
     "output_type": "stream",
     "text": [
      "360\n"
     ]
    }
   ],
   "source": [
    "class Employee:\n",
    "    def getinfo(self,salary,hrs):\n",
    "        self.salary=salary\n",
    "        self.hrs=hrs\n",
    "    def AddSal(self):\n",
    "        if self.salary<500:\n",
    "            self.salary+=10\n",
    "    def AddWork(self):\n",
    "        if self.hrs>6:\n",
    "            self.salary+=5\n",
    "def main():\n",
    "    salary=int(input()) \n",
    "    hrs=int(input()) \n",
    "    e=Employee()\n",
    "    e.getinfo(salary,hrs)\n",
    "    e.AddSal()\n",
    "    e.AddWork() \n",
    "    print(e.salary)\n",
    "main()                \n",
    "\n",
    "\n"
   ]
  },
  {
   "cell_type": "code",
   "execution_count": 16,
   "metadata": {},
   "outputs": [
    {
     "name": "stdout",
     "output_type": "stream",
     "text": [
      "3\n"
     ]
    }
   ],
   "source": [
    "class countObject:\n",
    "    count=0\n",
    "    def __init__(self,name,roll):\n",
    "        self.name=name\n",
    "        self.roll=roll\n",
    "        countObject.count+=1\n",
    "c1=countObject('rahul',2) \n",
    "c2=countObject('ajay',3)\n",
    "c3=countObject('manjay',5)\n",
    "print(countObject.count)       "
   ]
  },
  {
   "cell_type": "code",
   "execution_count": 19,
   "metadata": {},
   "outputs": [
    {
     "name": "stdout",
     "output_type": "stream",
     "text": [
      "This is rectangular shape\n",
      "Square is rectangle\n",
      "This is shape\n"
     ]
    }
   ],
   "source": [
    "class Shape:\n",
    "    def printShape(self):\n",
    "        print(\"This is shape\")\n",
    "class Rectangle(Shape):\n",
    "    def __init__(self):\n",
    "        print(\"This is rectangular shape\") \n",
    "class Circle(Shape):\n",
    "    def __init__(self):\n",
    "        print(\"This is circular shape\")\n",
    "class Square(Rectangle):\n",
    "    def printSquare(self):\n",
    "        print(\"Square is rectangle\")\n",
    "def main():\n",
    "    s=Square()\n",
    "    s.printSquare() \n",
    "    s.printShape()               \n",
    "main()"
   ]
  },
  {
   "cell_type": "code",
   "execution_count": 23,
   "metadata": {},
   "outputs": [
    {
     "name": "stdout",
     "output_type": "stream",
     "text": [
      "This is a parent class\n",
      "This is child class\n",
      "This is a parent class\n"
     ]
    }
   ],
   "source": [
    "class Parent:\n",
    "    def print(self):\n",
    "        print(\"This is a parent class\")\n",
    "class Child(Parent):\n",
    "    def print(self):\n",
    "        print(\"This is child class\")\n",
    "        super().print()\n",
    "def main():\n",
    "    p=Parent()\n",
    "    p.print()\n",
    "    c=Child()\n",
    "    c.print()\n",
    "main()            \n"
   ]
  },
  {
   "cell_type": "code",
   "execution_count": 27,
   "metadata": {},
   "outputs": [
    {
     "name": "stdout",
     "output_type": "stream",
     "text": [
      "rj IT\n",
      "23459\n",
      "DHiraj hr\n",
      "34567\n"
     ]
    }
   ],
   "source": [
    "class Member:\n",
    "    def dataAttributes(self,Name,Age,number,Address,salary):\n",
    "        self.name=Name\n",
    "        self.age=Age\n",
    "        self.number=number\n",
    "        self.address=Address\n",
    "        self.salary=salary\n",
    "    def printSalary(self):\n",
    "        print(self.salary)\n",
    "class Employee(Member):\n",
    "    def __init__(self,Name,Age,number,Address,salary,specialization):\n",
    "        self.specialization=specialization\n",
    "        super().dataAttributes(Name,Age,number,Address,salary)\n",
    "    def print_details(self):\n",
    "        print(self.name,self.specialization)\n",
    "class Manager(Member):\n",
    "    def __init__(self,Name,Age,number,Address,salary,department):\n",
    "        self.department=department\n",
    "        super().dataAttributes(Name,Age,number,Address,salary)\n",
    "    def print_details(self):\n",
    "        print(self.name,self.department)\n",
    "def main():\n",
    "    e=Employee('rj',23,6567,'44c-wallsStreat',23459,'IT')\n",
    "    e.print_details()\n",
    "    e.printSalary()\n",
    "    m=Manager('DHiraj',24,4567,'44-c WallStreat',34567,'hr')\n",
    "    m.print_details()\n",
    "    m.printSalary()\n",
    "main()                        \n",
    "\n",
    "\n"
   ]
  },
  {
   "cell_type": "code",
   "execution_count": 30,
   "metadata": {},
   "outputs": [
    {
     "name": "stdout",
     "output_type": "stream",
     "text": [
      "4\n"
     ]
    }
   ],
   "source": [
    "class solution:\n",
    "    def BinarySearch(self,num:list[int],target:int)->int:\n",
    "        start=0\n",
    "        end=len(num)-1\n",
    "        while start<=end:\n",
    "            mid=(start+end)//2\n",
    "            if num[mid]==target:\n",
    "                return mid\n",
    "            elif num[mid]>target:\n",
    "                end=mid-1\n",
    "            else:\n",
    "                start=mid+1\n",
    "        return -1\n",
    "def main():\n",
    "    n=int(input()) \n",
    "    arr=[]\n",
    "    for i in range(n):\n",
    "        arr.append(int(input())) \n",
    "    s=solution()\n",
    "    k=int(input())\n",
    "    print(s.BinarySearch(arr,k)) \n",
    "main()                     \n",
    "            \n",
    "                \n",
    "            \n"
   ]
  },
  {
   "cell_type": "code",
   "execution_count": 31,
   "metadata": {},
   "outputs": [
    {
     "name": "stdout",
     "output_type": "stream",
     "text": [
      "2\n"
     ]
    }
   ],
   "source": [
    "class solution:\n",
    "    def peakElement(self,nums:list[int])->int:\n",
    "        s=0\n",
    "        l=len(nums)-1\n",
    "        while s<=l:\n",
    "            mid=(s+l)//2\n",
    "            if nums[mid]>nums[mid-1] and nums[mid]>nums[mid+1]:\n",
    "                return mid\n",
    "            elif nums[mid]>nums[mid+1]:\n",
    "                l=mid-1\n",
    "            else:\n",
    "                s=mid+1\n",
    "        return s\n",
    "def main():\n",
    "    n=int(input())\n",
    "    arr=[]\n",
    "    for i in range(n):\n",
    "        arr.append(input()) \n",
    "    s=solution()\n",
    "    print(s.peakElement(arr))\n",
    "main()                       \n"
   ]
  },
  {
   "cell_type": "code",
   "execution_count": 38,
   "metadata": {},
   "outputs": [
    {
     "name": "stdout",
     "output_type": "stream",
     "text": [
      "4\n"
     ]
    }
   ],
   "source": [
    "class solution:\n",
    "    def sortedArray(self,nums:list[int],target:int)->list[int]:\n",
    "        s=0\n",
    "        e=len(nums)-1\n",
    "        while s<=e:\n",
    "            mid=(s+e)//2\n",
    "            if nums[mid]==target:\n",
    "                return mid\n",
    "            elif target<=nums[s]:\n",
    "                if target<=nums[mid] and target>=nums[s]:\n",
    "                    e=mid-1\n",
    "                else:\n",
    "                    s=mid+1\n",
    "            else:\n",
    "                if target>=nums[mid] and target<=nums[e]:\n",
    "                    s=mid+1\n",
    "                else:\n",
    "                    e=mid-1        \n",
    "            \n",
    "        return [-1,-1]\n",
    "def main():\n",
    "    n=int(input())\n",
    "    arr=[]\n",
    "    for i in range(n):\n",
    "        arr.append(int(input()))\n",
    "    s=solution()\n",
    "    k=int(input()) \n",
    "    print(s.sortedArray(arr,k)) \n",
    "       \n",
    "main()      \n",
    "                                \n"
   ]
  },
  {
   "cell_type": "code",
   "execution_count": 39,
   "metadata": {},
   "outputs": [
    {
     "name": "stdout",
     "output_type": "stream",
     "text": [
      "[3, 4]\n"
     ]
    }
   ],
   "source": [
    "class solution:\n",
    "    def sortedArray(self,nums:list[int],target:int)->list[int]:\n",
    "        s=-1\n",
    "        e=-1\n",
    "        for i in range(len(nums)):\n",
    "            if target != nums[i]:\n",
    "                continue\n",
    "            if (s==-1):\n",
    "                s=i\n",
    "            e=i\n",
    "        if (s != -1):\n",
    "            return [s,e]\n",
    "        return [-1,-1]\n",
    "def main():\n",
    "    n=int(input()) \n",
    "    arr=[]\n",
    "    for i in range(n):\n",
    "        arr.append(int(input()))\n",
    "    s=solution()\n",
    "    k=int(input())\n",
    "    print(s.sortedArray(arr,k)) \n",
    "main()         \n",
    "                    \n"
   ]
  },
  {
   "cell_type": "code",
   "execution_count": 41,
   "metadata": {},
   "outputs": [
    {
     "name": "stdout",
     "output_type": "stream",
     "text": [
      "[3, 4]\n"
     ]
    }
   ],
   "source": [
    "class solution:\n",
    "    def sortArray(self,arr:list[int],k:int)->list[int]:\n",
    "        s=-1\n",
    "        e=-1\n",
    "        for i in range(len(arr)):\n",
    "            if k != arr[i]:\n",
    "                continue\n",
    "            if (s==-1):\n",
    "                s=i\n",
    "            e=i\n",
    "        if (s!=-1):\n",
    "            return [s,e]\n",
    "        return [-1,-1]\n",
    "            \n",
    "def main():\n",
    "    n=int(input())\n",
    "    arr=[]\n",
    "    for i in range(n):\n",
    "        arr.append(int(input()))\n",
    "    s=solution()\n",
    "    k=int(input())\n",
    "    print(s.sortArray(arr,k))\n",
    "main()        \n",
    "\n",
    "            "
   ]
  },
  {
   "cell_type": "code",
   "execution_count": 44,
   "metadata": {},
   "outputs": [
    {
     "name": "stdout",
     "output_type": "stream",
     "text": [
      "2\n"
     ]
    }
   ],
   "source": [
    "class solution:\n",
    "    def sortArray(self,arr:list[int],k:int)->int:\n",
    "        s=0\n",
    "        e=len(arr)-1\n",
    "        while s<=e:\n",
    "            mid=(s+e)//2\n",
    "            if k==arr[mid]:\n",
    "                return mid\n",
    "            elif k<=arr[s]:\n",
    "                if k<=arr[mid] and k>=arr[s]:\n",
    "                    e=mid-1\n",
    "                else:\n",
    "                    s=mid+1\n",
    "            else:\n",
    "                if k>=arr[mid] and k<=arr[e]:\n",
    "                    s=mid+1\n",
    "                else:\n",
    "                    e=mid-1\n",
    "        return -1\n",
    "def main():\n",
    "    n=int(input())\n",
    "    arr=[]\n",
    "    for i in range(n):\n",
    "        arr.append(int(input()))\n",
    "    s=solution()\n",
    "    k=int(input()) \n",
    "    print(s.sortArray(arr,k))\n",
    "main()                     \n",
    "                                    "
   ]
  },
  {
   "cell_type": "code",
   "execution_count": 46,
   "metadata": {},
   "outputs": [
    {
     "name": "stdout",
     "output_type": "stream",
     "text": [
      "[0, 1]\n"
     ]
    }
   ],
   "source": [
    "class solution:\n",
    "    def TwoSum(self,nums:list[int],target:int)->list[int]:\n",
    "        l={}\n",
    "        for i in range(len(nums)):\n",
    "            if target-nums[i] in l:\n",
    "                return [l[target-nums[i]],i]\n",
    "            else:\n",
    "                l[nums[i]]=i\n",
    "def main():\n",
    "    n=int(input()) \n",
    "    arr=[]\n",
    "    for i in range(n):\n",
    "        arr.append(int(input()))\n",
    "    s=solution()\n",
    "    k=int(input()) \n",
    "    print(s.TwoSum(arr,k)) \n",
    "main()                     "
   ]
  },
  {
   "cell_type": "code",
   "execution_count": 49,
   "metadata": {},
   "outputs": [
    {
     "name": "stdout",
     "output_type": "stream",
     "text": [
      "2\n"
     ]
    }
   ],
   "source": [
    "class solution:    \n",
    "    def luckyInt(self,arr:list[int])->int:\n",
    "        s=0\n",
    "        e=set(arr)\n",
    "        for i in e:\n",
    "            count=arr.count(i)\n",
    "            if count==i:\n",
    "                s=max(s,i)\n",
    "        return s\n",
    "            \n",
    "\n",
    "    \n",
    "def main():\n",
    "    n=int(input()) \n",
    "    arr=[]\n",
    "    for i in range(n):\n",
    "        arr.append(int(input()))\n",
    "    s=solution()\n",
    "    print(s.luckyInt(arr)) \n",
    "main()                  "
   ]
  },
  {
   "cell_type": "code",
   "execution_count": 58,
   "metadata": {},
   "outputs": [
    {
     "name": "stdout",
     "output_type": "stream",
     "text": [
      "shyam  140\n",
      "babu_rao 150\n",
      "Raju 160\n",
      "pappu 200\n"
     ]
    }
   ],
   "source": [
    "class Employee:\n",
    "    \n",
    "    def __init__(self,name,salary):\n",
    "        self.name=name\n",
    "        self.salary=salary\n",
    "e1=Employee('babu_rao',150)\n",
    "e2=Employee('Raju',160)\n",
    "e3=Employee('shyam ',140)  \n",
    "e4=Employee('pappu',200)\n",
    "emp=[e1,e2,e3,e4]\n",
    "def printSalary(Employee):\n",
    "    return Employee.salary\n",
    "emp.sort(key=printSalary)\n",
    "for Employee in emp:\n",
    "    print(Employee.name,Employee.salary)  \n",
    "\n",
    "\n",
    "\n",
    "\n"
   ]
  },
  {
   "cell_type": "code",
   "execution_count": 62,
   "metadata": {},
   "outputs": [
    {
     "name": "stdout",
     "output_type": "stream",
     "text": [
      "4\n"
     ]
    }
   ],
   "source": [
    "class solution:\n",
    "    def countPrime(self,n:int)->int:\n",
    "        if n<2:\n",
    "            return 0\n",
    "        p=[1]*n\n",
    "        p[0]=0\n",
    "        p[1]=0\n",
    "        for i in range(2,int(n**0.5)+1):\n",
    "            if p[i]!=0:\n",
    "                for j in range(i**2,n,i):\n",
    "                    p[j]=0\n",
    "        return sum(p)            \n",
    "def main():\n",
    "    n=int(input())\n",
    "    s=solution()\n",
    "    print(s.countPrime(n))\n",
    "main()                       \n"
   ]
  },
  {
   "cell_type": "code",
   "execution_count": 64,
   "metadata": {},
   "outputs": [
    {
     "name": "stdout",
     "output_type": "stream",
     "text": [
      "3\n"
     ]
    }
   ],
   "source": [
    "class solution:\n",
    "    def jewelsStone(self,jewels:str,stones:str)->int:\n",
    "        count=0\n",
    "        for i in range(len(jewels)):\n",
    "            for j in range(len(stones)):\n",
    "                if jewels[i]==stones[j]:\n",
    "                    count+=1\n",
    "        return count\n",
    "def main():\n",
    "    jewels=input()\n",
    "    stones=input()\n",
    "    s=solution()\n",
    "    print(s.jewelsStone(jewels,stones))\n",
    "main()                    "
   ]
  },
  {
   "cell_type": "code",
   "execution_count": 70,
   "metadata": {},
   "outputs": [
    {
     "name": "stdout",
     "output_type": "stream",
     "text": [
      "10\n"
     ]
    }
   ],
   "source": [
    "class solution:\n",
    "    def Histo(self,heights:list[int])->int:\n",
    "        heights.append(0)\n",
    "        ans=0\n",
    "        stack=[-1]\n",
    "        for i in range(len(heights)):\n",
    "            while heights[i]<heights[stack[-1]]:\n",
    "                height=heights[stack.pop()]\n",
    "                width=i-stack[-1]-1\n",
    "                ans=max(ans,height*width)\n",
    "            stack.append(i)\n",
    "        heights.pop()\n",
    "        return ans\n",
    "            \n",
    "            \n",
    "\n",
    "def main():\n",
    "    n=int(input()) \n",
    "    arr=[]\n",
    "    for i in range(n):\n",
    "        arr.append(int(input())) \n",
    "    s=solution()\n",
    "    print(s.Histo(arr))\n",
    "main()    \n",
    "\n"
   ]
  },
  {
   "cell_type": "code",
   "execution_count": 74,
   "metadata": {},
   "outputs": [
    {
     "name": "stdout",
     "output_type": "stream",
     "text": [
      "false\n"
     ]
    }
   ],
   "source": [
    "class solution:\n",
    "    def validParenthesis(self,s:str)->bool:\n",
    "        stack=[]\n",
    "        d={']':'[',')':'(','}':'{'}\n",
    "        for i in s:\n",
    "            if i in d.values():\n",
    "                stack.append(i)\n",
    "            else:\n",
    "                if stack==[] or stack.pop() != d[i]:\n",
    "                    return False\n",
    "        return stack==[]            \n",
    "def main():\n",
    "    n=input() \n",
    "    s=solution()\n",
    "    output=s.validParenthesis(n)\n",
    "    if output:\n",
    "        print(\"true\")\n",
    "    else:\n",
    "        print(\"false\") \n",
    "main()           \n",
    "\n"
   ]
  },
  {
   "cell_type": "code",
   "execution_count": 83,
   "metadata": {},
   "outputs": [
    {
     "name": "stdout",
     "output_type": "stream",
     "text": [
      "true\n"
     ]
    },
    {
     "ename": "ValueError",
     "evalue": "invalid literal for int() with base 10: ''",
     "output_type": "error",
     "traceback": [
      "\u001b[1;31m---------------------------------------------------------------------------\u001b[0m",
      "\u001b[1;31mValueError\u001b[0m                                Traceback (most recent call last)",
      "Cell \u001b[1;32mIn[83], line 24\u001b[0m\n\u001b[0;32m     22\u001b[0m     \u001b[39melse\u001b[39;00m:\n\u001b[0;32m     23\u001b[0m         \u001b[39mprint\u001b[39m(\u001b[39m\"\u001b[39m\u001b[39mfalse\u001b[39m\u001b[39m\"\u001b[39m)\n\u001b[1;32m---> 24\u001b[0m main()                   \n",
      "Cell \u001b[1;32mIn[76], line 11\u001b[0m, in \u001b[0;36mmain\u001b[1;34m()\u001b[0m\n\u001b[0;32m     10\u001b[0m \u001b[39mdef\u001b[39;00m \u001b[39mmain\u001b[39m():\n\u001b[1;32m---> 11\u001b[0m     n\u001b[39m=\u001b[39m\u001b[39mint\u001b[39;49m(\u001b[39minput\u001b[39;49m())\n\u001b[0;32m     12\u001b[0m     arr\u001b[39m=\u001b[39m[]\n\u001b[0;32m     13\u001b[0m     \u001b[39mfor\u001b[39;00m i \u001b[39min\u001b[39;00m \u001b[39mrange\u001b[39m(n):\n",
      "\u001b[1;31mValueError\u001b[0m: invalid literal for int() with base 10: ''"
     ]
    }
   ],
   "source": [
    "class solution:\n",
    "    def valid(self,pushed:list[int],popped:list[int])->bool:\n",
    "        stack=[]\n",
    "        for i in pushed:\n",
    "            stack.append(i)\n",
    "            while stack and popped and stack[-1]==popped[0]:\n",
    "                stack.pop()  \n",
    "                popped.pop(0)\n",
    "        return not stack             \n",
    "    n=int(input())\n",
    "    arr=[]\n",
    "    for i in range(n):\n",
    "        arr.append(int(input()))\n",
    "    k=int(input()) \n",
    "    jrr=[]\n",
    "    for i in range(n):\n",
    "        jrr.append(int(input()))\n",
    "    s=solution()\n",
    "    output=s.valid(arr,jrr)\n",
    "    if output:\n",
    "        print(\"true\")\n",
    "    else:\n",
    "        print(\"false\")\n",
    "main()                   \n",
    "\n"
   ]
  },
  {
   "cell_type": "code",
   "execution_count": null,
   "metadata": {},
   "outputs": [],
   "source": [
    "class solution:\n",
    "    def removeDup(self,s:str)->str:\n",
    "        stack=[]\n",
    "        for i in s:\n",
    "            if stack and stack[-1]==i:\n",
    "                stack.pop()\n",
    "            else:\n",
    "                stack.append(i)\n",
    "        return ''.join(stack)            \n",
    "def main():\n",
    "    n=input() \n",
    "    s=solution()\n",
    "    print(s.removeDup(s))\n",
    "main()      "
   ]
  },
  {
   "cell_type": "code",
   "execution_count": 86,
   "metadata": {},
   "outputs": [
    {
     "ename": "TypeError",
     "evalue": "lstrip arg must be None or str",
     "output_type": "error",
     "traceback": [
      "\u001b[1;31m---------------------------------------------------------------------------\u001b[0m",
      "\u001b[1;31mTypeError\u001b[0m                                 Traceback (most recent call last)",
      "Cell \u001b[1;32mIn[86], line 24\u001b[0m\n\u001b[0;32m     22\u001b[0m     s\u001b[39m=\u001b[39msolution()\n\u001b[0;32m     23\u001b[0m     \u001b[39mprint\u001b[39m(s\u001b[39m.\u001b[39mdecodeString(n))\n\u001b[1;32m---> 24\u001b[0m main()                    \n",
      "Cell \u001b[1;32mIn[86], line 23\u001b[0m, in \u001b[0;36mmain\u001b[1;34m()\u001b[0m\n\u001b[0;32m     21\u001b[0m n\u001b[39m=\u001b[39m\u001b[39mstr\u001b[39m(\u001b[39minput\u001b[39m())\n\u001b[0;32m     22\u001b[0m s\u001b[39m=\u001b[39msolution()\n\u001b[1;32m---> 23\u001b[0m \u001b[39mprint\u001b[39m(s\u001b[39m.\u001b[39;49mdecodeString(n))\n",
      "Cell \u001b[1;32mIn[86], line 19\u001b[0m, in \u001b[0;36msolution.decodeString\u001b[1;34m(self, s)\u001b[0m\n\u001b[0;32m     17\u001b[0m         st\u001b[39m.\u001b[39mappend(s[i]) \n\u001b[0;32m     18\u001b[0m     i\u001b[39m+\u001b[39m\u001b[39m=\u001b[39m\u001b[39m1\u001b[39m\n\u001b[1;32m---> 19\u001b[0m \u001b[39mreturn\u001b[39;00m \u001b[39m'\u001b[39;49m\u001b[39m'\u001b[39;49m\u001b[39m.\u001b[39;49mlstrip(st)\n",
      "\u001b[1;31mTypeError\u001b[0m: lstrip arg must be None or str"
     ]
    }
   ],
   "source": [
    "class solution:\n",
    "    def decodeString(self,s:str)->str:\n",
    "        st=[]\n",
    "        ts=[]\n",
    "        i=0\n",
    "        while i<len(s):\n",
    "            if s[i].isdigit():\n",
    "                run=i\n",
    "                while s[run].isdigit():run+=1\n",
    "                ts.append(s[i:run])\n",
    "                ts.append(st)\n",
    "                st=[]\n",
    "                i=run\n",
    "            elif s[i]==']':\n",
    "                st=ts.pop()+int(ts.pop())*st\n",
    "            else:\n",
    "                st.append(s[i]) \n",
    "            i+=1\n",
    "        return ''.lstrip(st)   \n",
    "def main():\n",
    "    n=str(input())\n",
    "    s=solution()\n",
    "    print(s.decodeString(n))\n",
    "main()                    \n",
    "\n"
   ]
  }
 ],
 "metadata": {
  "kernelspec": {
   "display_name": "Python 3",
   "language": "python",
   "name": "python3"
  },
  "language_info": {
   "codemirror_mode": {
    "name": "ipython",
    "version": 3
   },
   "file_extension": ".py",
   "mimetype": "text/x-python",
   "name": "python",
   "nbconvert_exporter": "python",
   "pygments_lexer": "ipython3",
   "version": "3.11.1"
  },
  "orig_nbformat": 4,
  "vscode": {
   "interpreter": {
    "hash": "f1349afab0fcd502e634e282abd40fedb2831892829b7733385d2e4290794b19"
   }
  }
 },
 "nbformat": 4,
 "nbformat_minor": 2
}
