{
 "cells": [
  {
   "cell_type": "code",
   "execution_count": 9,
   "metadata": {},
   "outputs": [
    {
     "name": "stdout",
     "output_type": "stream",
     "text": [
      "10\n"
     ]
    }
   ],
   "source": [
    "#  decimal to binary\n",
    "def binTodec(decimal):\n",
    "    return \"{0:b}\".format(int(decimal))\n",
    "def main():\n",
    "    decimal=(input())\n",
    "    print(binTodec(decimal))\n",
    "main()        "
   ]
  },
  {
   "cell_type": "code",
   "execution_count": 13,
   "metadata": {},
   "outputs": [
    {
     "name": "stdout",
     "output_type": "stream",
     "text": [
      "1100\n"
     ]
    }
   ],
   "source": [
    "# decimal to binary\n",
    "def decTObin(decimal):\n",
    "    return \"{0:b}\".format(int(decimal))\n",
    "def main():\n",
    "    decimal=int(input())\n",
    "    print(decTObin(decimal))  \n",
    "main()          "
   ]
  },
  {
   "cell_type": "code",
   "execution_count": 15,
   "metadata": {},
   "outputs": [
    {
     "name": "stdout",
     "output_type": "stream",
     "text": [
      "11\n"
     ]
    }
   ],
   "source": [
    "# binary to decimal\n",
    "def binTodec(binary):\n",
    "    return int(binary,2)\n",
    "def main():\n",
    "    binary=(input())\n",
    "    print(binTodec(binary))\n",
    "main()        "
   ]
  },
  {
   "cell_type": "code",
   "execution_count": 17,
   "metadata": {},
   "outputs": [
    {
     "name": "stdout",
     "output_type": "stream",
     "text": [
      "8\n"
     ]
    }
   ],
   "source": [
    "# hammingweigh\n",
    "class solution:\n",
    "    def hammingweigh(self,n:int)->int:\n",
    "        count=0\n",
    "        while n:\n",
    "            count+=1\n",
    "            n=n&(n-1)\n",
    "        return count\n",
    "\n",
    "\n",
    "def main():\n",
    "    n=int(input())\n",
    "    s=solution()\n",
    "    print(s.hammingweigh(n))\n",
    "main()            "
   ]
  },
  {
   "cell_type": "code",
   "execution_count": 18,
   "metadata": {},
   "outputs": [
    {
     "name": "stdout",
     "output_type": "stream",
     "text": [
      "true\n"
     ]
    }
   ],
   "source": [
    "#alternating Bits\n",
    "class solution:\n",
    "    def altbits(self,n:int)->bool:\n",
    "        n=bin(n)\n",
    "        for i in range(len(n)):\n",
    "            if n[i]==n[i-1]:\n",
    "                return False\n",
    "        return True\n",
    "def main():\n",
    "    n=int(input()) \n",
    "    s=solution()\n",
    "    output=s.altbits(n)\n",
    "    if output:\n",
    "        print(\"true\")\n",
    "    else:\n",
    "        print(\"false\")\n",
    "main()            \n",
    "\n"
   ]
  },
  {
   "cell_type": "code",
   "execution_count": 19,
   "metadata": {},
   "outputs": [
    {
     "name": "stdout",
     "output_type": "stream",
     "text": [
      "1a\n"
     ]
    }
   ],
   "source": [
    "# convert number to hexadecimal\n",
    "class solution:\n",
    "    def hexTodec(self,n:int)->str:\n",
    "           if n==0:return '0' \n",
    "           m='0123456789abcdef' \n",
    "           ans=''\n",
    "           for i in range(8):\n",
    "                ans=m[n%16]+ans\n",
    "                n=n//16\n",
    "           return ans.lstrip('0')\n",
    "def main():\n",
    "    n=int(input())\n",
    "    s=solution()\n",
    "    print(s.hexTodec(n)) \n",
    "main()   \n",
    "\n",
    "\n",
    "            "
   ]
  },
  {
   "cell_type": "code",
   "execution_count": 21,
   "metadata": {},
   "outputs": [
    {
     "name": "stdout",
     "output_type": "stream",
     "text": [
      "0\n",
      "1\n",
      "2\n",
      "4\n",
      "8\n",
      "3\n",
      "5\n",
      "6\n",
      "7\n",
      "\n"
     ]
    }
   ],
   "source": [
    "class solution:\n",
    "    def SortInt(self,arr:list[int])->list[int]:\n",
    "        list=[]\n",
    "        for i in (arr):\n",
    "            b=bin(i)\n",
    "            list.append([b.count('1'),i])\n",
    "        list.sort()\n",
    "        ans=[]\n",
    "        for b,i in list:\n",
    "            ans.append(i)\n",
    "        return ans\n",
    "def main():\n",
    "    n=int(input())\n",
    "    arr=[]\n",
    "    for i in range(n):\n",
    "        arr.append(int(input()))\n",
    "    s=solution()\n",
    "    output=s.SortInt(arr)\n",
    "    for i in range(n):\n",
    "        print(output[i])\n",
    "    print()    \n",
    "\n",
    "main()        "
   ]
  },
  {
   "cell_type": "code",
   "execution_count": 22,
   "metadata": {},
   "outputs": [
    {
     "name": "stdout",
     "output_type": "stream",
     "text": [
      "3\n"
     ]
    }
   ],
   "source": [
    "#divide Two integers\n",
    "class solution:\n",
    "    def divideToint(self,dividend:int,divisor:int)->int:\n",
    "        a=int(dividend/divisor)\n",
    "        if a>2147483647:\n",
    "            return 2147483647\n",
    "        elif a<-2147483648:\n",
    "            return -2147483648\n",
    "        return a\n",
    "def main():\n",
    "    n=int(input())\n",
    "    s=solution()\n",
    "    print(s.divideToint(n,int(input())))\n",
    "main()           \n",
    "            "
   ]
  },
  {
   "cell_type": "code",
   "execution_count": 24,
   "metadata": {},
   "outputs": [
    {
     "name": "stdout",
     "output_type": "stream",
     "text": [
      "6\n"
     ]
    }
   ],
   "source": [
    "# max number of word found in sentence:\n",
    "class solution:\n",
    "    def maxword(self,sentence:list[str])->int:\n",
    "        maximum=0\n",
    "        for i in sentence:\n",
    "            i=i.split()\n",
    "            maximum=max(len(i),maximum)\n",
    "        return maximum    \n",
    "def main():\n",
    "    n=int(input()) \n",
    "    arr=[]\n",
    "    for i in range(n):\n",
    "        arr.append(input())\n",
    "    s=solution()\n",
    "    print(s.maxword(arr))\n",
    "main()                   \n"
   ]
  },
  {
   "cell_type": "markdown",
   "metadata": {},
   "source": []
  }
 ],
 "metadata": {
  "kernelspec": {
   "display_name": "Python 3",
   "language": "python",
   "name": "python3"
  },
  "language_info": {
   "codemirror_mode": {
    "name": "ipython",
    "version": 3
   },
   "file_extension": ".py",
   "mimetype": "text/x-python",
   "name": "python",
   "nbconvert_exporter": "python",
   "pygments_lexer": "ipython3",
   "version": "3.11.1"
  },
  "orig_nbformat": 4,
  "vscode": {
   "interpreter": {
    "hash": "f1349afab0fcd502e634e282abd40fedb2831892829b7733385d2e4290794b19"
   }
  }
 },
 "nbformat": 4,
 "nbformat_minor": 2
}
