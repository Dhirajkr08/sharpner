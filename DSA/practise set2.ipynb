{
 "cells": [
  {
   "cell_type": "code",
   "execution_count": 2,
   "metadata": {},
   "outputs": [
    {
     "name": "stdout",
     "output_type": "stream",
     "text": [
      "          1 \n",
      "        1 2 \n",
      "      1 2 3 \n",
      "    1 2 3 4 \n",
      "  1 2 3 4 5 \n"
     ]
    }
   ],
   "source": [
    "def printP(n):\n",
    "    for i in range(1,n+1):\n",
    "        for j in range(n,i-1,-1):\n",
    "            print(\" \",end=\" \")\n",
    "        for k in range(1,i+1):\n",
    "            print(k,end=\" \")\n",
    "        print()\n",
    "def main():\n",
    "    n=int(input()) \n",
    "    printP(n)\n",
    "main()                   "
   ]
  },
  {
   "cell_type": "code",
   "execution_count": 6,
   "metadata": {},
   "outputs": [
    {
     "name": "stdout",
     "output_type": "stream",
     "text": [
      "  * * * * * \n",
      "    * * * * \n",
      "      * * * \n",
      "        * * \n",
      "          * \n"
     ]
    }
   ],
   "source": [
    "def printP(n):\n",
    "    for i in range(n,0,-1):\n",
    "        for j in range(n,i-1,-1):\n",
    "            print(\" \",end=\" \")\n",
    "        for k in range(1,i+1):\n",
    "            print(\"*\",end=\" \")\n",
    "        print() \n",
    "def main():\n",
    "    n=int(input())\n",
    "    printP(n)\n",
    "main()                   "
   ]
  }
 ],
 "metadata": {
  "kernelspec": {
   "display_name": "Python 3",
   "language": "python",
   "name": "python3"
  },
  "language_info": {
   "codemirror_mode": {
    "name": "ipython",
    "version": 3
   },
   "file_extension": ".py",
   "mimetype": "text/x-python",
   "name": "python",
   "nbconvert_exporter": "python",
   "pygments_lexer": "ipython3",
   "version": "3.11.1 (tags/v3.11.1:a7a450f, Dec  6 2022, 19:58:39) [MSC v.1934 64 bit (AMD64)]"
  },
  "orig_nbformat": 4,
  "vscode": {
   "interpreter": {
    "hash": "f1349afab0fcd502e634e282abd40fedb2831892829b7733385d2e4290794b19"
   }
  }
 },
 "nbformat": 4,
 "nbformat_minor": 2
}
