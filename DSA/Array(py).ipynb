{
 "cells": [
  {
   "cell_type": "code",
   "execution_count": 3,
   "metadata": {},
   "outputs": [
    {
     "name": "stdout",
     "output_type": "stream",
     "text": [
      "1\n",
      "2\n",
      "3\n",
      "4\n",
      "5\n",
      "6\n",
      "7\n"
     ]
    }
   ],
   "source": [
    "def arraySize(n):\n",
    "    arr=[]\n",
    "    for i in range(1,n+1):\n",
    "        arr.append(i)\n",
    "    return arr\n",
    "def main():\n",
    "    n=int(input())\n",
    "    output=(arraySize(n))\n",
    "    for i in range(n):\n",
    "        print(output[i])\n",
    "main()            "
   ]
  },
  {
   "cell_type": "code",
   "execution_count": 4,
   "metadata": {},
   "outputs": [
    {
     "name": "stdout",
     "output_type": "stream",
     "text": [
      "7\n"
     ]
    }
   ],
   "source": [
    "def FindMax(arr,length):\n",
    "    maximum=arr[0]\n",
    "    for i in range(len(arr)):\n",
    "        if arr[i]>maximum:\n",
    "            maximum=arr[i]\n",
    "    return maximum\n",
    "def main():\n",
    "    n=int(input())\n",
    "    arr=[]\n",
    "    for i in range(n):\n",
    "        arr.append(int(input()))\n",
    "    print(FindMax(arr,n))\n",
    "main()                   \n"
   ]
  },
  {
   "cell_type": "code",
   "execution_count": 5,
   "metadata": {},
   "outputs": [
    {
     "name": "stdout",
     "output_type": "stream",
     "text": [
      "-2\n"
     ]
    }
   ],
   "source": [
    "def findMinimum(arr,length):\n",
    "    minimum=arr[0]\n",
    "    for i in range(len(arr)):\n",
    "        if arr[i]<minimum:\n",
    "            minimum=arr[i]\n",
    "    return minimum\n",
    "def main():\n",
    "    n=int(input())\n",
    "    arr=[]\n",
    "    for i in range(n):\n",
    "        arr.append(int(input()))\n",
    "    print(findMinimum(arr,n))\n",
    "main()                   "
   ]
  },
  {
   "cell_type": "code",
   "execution_count": 10,
   "metadata": {},
   "outputs": [
    {
     "name": "stdout",
     "output_type": "stream",
     "text": [
      "2 3 5 7 11 "
     ]
    }
   ],
   "source": [
    "#n number of prime number\n",
    "def PrimeNumber(n):\n",
    "    x=2\n",
    "    num=str(n)\n",
    "    count=0\n",
    "    arr=[]\n",
    "    while len(arr)<n:\n",
    "        flag=True\n",
    "        for i in range(2,x):\n",
    "            if x%i==0:\n",
    "                flag=False\n",
    "                break\n",
    "        if flag==True:\n",
    "            arr.append(x)\n",
    "            count+=1\n",
    "        if count==n:\n",
    "            break\n",
    "        x+=1\n",
    "    return arr\n",
    "def main():\n",
    "    n=int(input())\n",
    "    output=PrimeNumber(n)\n",
    "    for i in range(n):\n",
    "        print(output[i],end=\" \") \n",
    "main()                             \n",
    "\n",
    "\n"
   ]
  },
  {
   "cell_type": "code",
   "execution_count": 12,
   "metadata": {},
   "outputs": [
    {
     "name": "stdout",
     "output_type": "stream",
     "text": [
      "1 \n",
      "1 2 \n",
      "1 2 3 \n",
      "1 2 3 4 \n",
      "1 2 3 4 5 \n",
      "2 \n",
      "2 3 \n",
      "2 3 4 \n",
      "2 3 4 5 \n",
      "3 \n",
      "3 4 \n",
      "3 4 5 \n",
      "4 \n",
      "4 5 \n",
      "5 \n"
     ]
    }
   ],
   "source": [
    "def printSubarray(arr,length):\n",
    "    for i in range(len(arr)):\n",
    "        for j in range(i,len(arr)):\n",
    "            for k in range(i,j+1):\n",
    "                print(arr[k],end=\" \")\n",
    "            print()\n",
    "def main():\n",
    "    n=int(input())\n",
    "    arr=[]\n",
    "    for i in range(n):\n",
    "        arr.append(int(input()))\n",
    "    (printSubarray(arr,n))\n",
    "main()                        "
   ]
  },
  {
   "cell_type": "code",
   "execution_count": 13,
   "metadata": {},
   "outputs": [
    {
     "name": "stdout",
     "output_type": "stream",
     "text": [
      "8\n"
     ]
    }
   ],
   "source": [
    "# find maximum Subarray\n",
    "def maxSubarray(arr,length):\n",
    "    maxSum=arr[0]\n",
    "    for i in range(len(arr)):\n",
    "        for j in range(i,len(arr)):\n",
    "            sum=0\n",
    "            for k in range(i,j+1):\n",
    "                sum+=arr[k]\n",
    "                if sum>maxSum:\n",
    "                    maxSum=sum\n",
    "    return maxSum\n",
    "def main():\n",
    "    n=int(input()) \n",
    "    arr=[]\n",
    "    for i in range(n):\n",
    "        arr.append(int(input()))\n",
    "    print(maxSubarray(arr,n))\n",
    "main()                           \n"
   ]
  },
  {
   "cell_type": "code",
   "execution_count": 15,
   "metadata": {},
   "outputs": [
    {
     "name": "stdout",
     "output_type": "stream",
     "text": [
      "-20\n"
     ]
    }
   ],
   "source": [
    "def minimumsubarray(arr,length):\n",
    "    minSum=arr[0]\n",
    "    for i in range(len(arr)):\n",
    "        for j in range(len(arr)):\n",
    "            sum=0\n",
    "            for k in range(i,j+1):\n",
    "                sum+=arr[j]\n",
    "                if sum<minSum:\n",
    "                    minSum=sum\n",
    "    return minSum\n",
    "def main():\n",
    "    n=int(input())\n",
    "    arr=[]\n",
    "    for i in range(n):\n",
    "        arr.append(int(input()))\n",
    "    print(minimumsubarray(arr,n))\n",
    "main()                            \n",
    "\n"
   ]
  },
  {
   "cell_type": "code",
   "execution_count": 20,
   "metadata": {},
   "outputs": [
    {
     "name": "stdout",
     "output_type": "stream",
     "text": [
      "[1, 3, 6, 10]\n"
     ]
    }
   ],
   "source": [
    "class solution:\n",
    "    def runningSum(self,nums:list[int])->list[int]:\n",
    "        for i in range(1,len(nums)):\n",
    "            nums[i]+=nums[i-1]\n",
    "        return nums    \n",
    "def main():\n",
    "    n=int(input())\n",
    "    arr=[]\n",
    "    for i in range(n):\n",
    "        arr.append(int(input()))\n",
    "    s=solution()\n",
    "    print(s.runningSum(arr))\n",
    "main()    \n",
    "\n"
   ]
  },
  {
   "cell_type": "code",
   "execution_count": 21,
   "metadata": {},
   "outputs": [
    {
     "name": "stdout",
     "output_type": "stream",
     "text": [
      "6\n"
     ]
    }
   ],
   "source": [
    "class solution:\n",
    "    def maxWealth(self,accounts:list[list[int]])->int:\n",
    "        maximum=0\n",
    "        for i in range(len(accounts)):\n",
    "            total=sum(accounts[i])\n",
    "            maximum=max(maximum,total)\n",
    "        return maximum\n",
    "def main():\n",
    "    n=int(input()) \n",
    "    arr=[]\n",
    "    for i in range(n):\n",
    "        c=int(input())\n",
    "        list=[]\n",
    "        for j in range(c):\n",
    "            list.append(int(input()))\n",
    "        arr.append(list)\n",
    "    s=solution()\n",
    "    output=s.maxWealth(arr)\n",
    "    print(output) \n",
    "main()           \n"
   ]
  },
  {
   "cell_type": "code",
   "execution_count": 24,
   "metadata": {},
   "outputs": [
    {
     "name": "stdout",
     "output_type": "stream",
     "text": [
      "58\n"
     ]
    }
   ],
   "source": [
    "class solution:\n",
    "    def sumoddsubarray(self,arr:list[int])->int:\n",
    "        r=0\n",
    "        for i in range(len(arr)):\n",
    "            c=0\n",
    "            for j in range(i,len(arr)):\n",
    "                c+=arr[j]\n",
    "                if (j-i)%2==0:\n",
    "                    r+=c\n",
    "        return r            \n",
    "\n",
    "def main():\n",
    "    n=int(input())\n",
    "    arr=[]\n",
    "    for i in range(n):\n",
    "        arr.append(int(input()))\n",
    "    s=solution()\n",
    "    print(s.sumoddsubarray(arr))  \n",
    "main()                          "
   ]
  },
  {
   "cell_type": "code",
   "execution_count": 33,
   "metadata": {},
   "outputs": [
    {
     "name": "stdout",
     "output_type": "stream",
     "text": [
      "5 6 7 1 2 3 4 \n"
     ]
    }
   ],
   "source": [
    "# rorate array\n",
    "class solution:\n",
    "    def RotateArray(self,nums:list[int],k:int)->None: \n",
    "        for i in range(k):\n",
    "            num=nums.pop()\n",
    "            nums.insert(0,num)\n",
    "def main():\n",
    "    n=int(input()) \n",
    "    arr=[]\n",
    "    for i in range(n):\n",
    "        arr.append(int(input()))  \n",
    "    s=solution() \n",
    "    k=int(input())\n",
    "    (s.RotateArray(arr,k))\n",
    "    for i in range(n):\n",
    "        print(str(arr[i]),end=\" \")\n",
    "    print()    \n",
    "main()                \n"
   ]
  },
  {
   "cell_type": "code",
   "execution_count": 37,
   "metadata": {},
   "outputs": [
    {
     "name": "stdout",
     "output_type": "stream",
     "text": [
      "[5, 4, 3, 2, 1]\n"
     ]
    }
   ],
   "source": [
    "def bubbleSort(arr,length):\n",
    "    for i in range(len(arr)-1):\n",
    "        for j in range(len(arr)-1-i):\n",
    "            if arr[j]<arr[j+1]:\n",
    "                d=arr[j]\n",
    "                arr[j]=arr[j+1]\n",
    "                arr[j+1]=d\n",
    "    return arr\n",
    "def main():\n",
    "    n=int(input())\n",
    "    arr=[]\n",
    "    for i in range(n):\n",
    "        arr.append(int(input()))\n",
    "    print(bubbleSort(arr,n)) \n",
    "main()                       "
   ]
  },
  {
   "cell_type": "code",
   "execution_count": 42,
   "metadata": {},
   "outputs": [
    {
     "name": "stdout",
     "output_type": "stream",
     "text": [
      "[1, 2, 3, 4, 5]\n"
     ]
    }
   ],
   "source": [
    "def insertionSort(arr,length):\n",
    "    for i in range(len(arr)):\n",
    "        temp=arr[i]\n",
    "        j=i-1\n",
    "        while j>=0 and temp<arr[j]:\n",
    "            arr[j+1]=arr[j]\n",
    "            j-=1\n",
    "        arr[j+1]=temp\n",
    "    return arr        \n",
    "\n",
    "def main():\n",
    "    n=int(input()) \n",
    "    arr=[]\n",
    "    for i in range(n):\n",
    "        arr.append(int(input()))\n",
    "    print(insertionSort(arr,n))\n",
    "main()                   \n"
   ]
  },
  {
   "cell_type": "code",
   "execution_count": 44,
   "metadata": {},
   "outputs": [
    {
     "name": "stdout",
     "output_type": "stream",
     "text": [
      "[1, 2, 3, 4, 5]\n"
     ]
    }
   ],
   "source": [
    "# selection Sort\n",
    "def selectionSort(arr,length):\n",
    "    for i in range(len(arr)):\n",
    "        temp=i\n",
    "        for j in range(i,len(arr)):\n",
    "            if arr[temp]>arr[j]:\n",
    "                temp=j\n",
    "        d=arr[i]\n",
    "        arr[i]=arr[temp]\n",
    "        arr[temp]=d\n",
    "    return arr\n",
    "                \n",
    "def main():\n",
    "    n=int(input()) \n",
    "    arr=[]  \n",
    "    for i in range(n):\n",
    "        arr.append(int(input()))\n",
    "    print(selectionSort(arr,n)) \n",
    "main()                    "
   ]
  },
  {
   "cell_type": "code",
   "execution_count": 5,
   "metadata": {},
   "outputs": [
    {
     "name": "stdout",
     "output_type": "stream",
     "text": [
      "5 6 7 1 2 3 4 \n"
     ]
    }
   ],
   "source": [
    "class solution:\n",
    "    def rotatenums(self,nums:list[int],k:int)->int:\n",
    "        for i in range(k):\n",
    "            num=nums.pop()\n",
    "            nums.insert(0,num)\n",
    "def main():\n",
    "    n=int(input())\n",
    "    arr=[]\n",
    "    for i in range(n):\n",
    "        arr.append(int(input()))\n",
    "    s=solution()\n",
    "    k=int(input())\n",
    "    s.rotatenums(arr,k)\n",
    "    for i in range(n):\n",
    "        print(str(arr[i]),end=\" \")\n",
    "    print()    \n",
    "    \n",
    "main()                          \n"
   ]
  },
  {
   "cell_type": "code",
   "execution_count": 8,
   "metadata": {},
   "outputs": [
    {
     "name": "stdout",
     "output_type": "stream",
     "text": [
      "61\n"
     ]
    }
   ],
   "source": [
    "class solution():\n",
    "    def sumofoddsubarray(self,arr:list[int])->int:\n",
    "        r=0\n",
    "        for i in range(len(arr)):\n",
    "            c=0\n",
    "            for j in range(i,len(arr)):\n",
    "                c+=arr[j]\n",
    "                if (j-i)%2==0:\n",
    "                    r+=c\n",
    "        return r            \n",
    "def main():\n",
    "    n=int(input())\n",
    "    arr=[]\n",
    "    for i in range(n):\n",
    "        arr.append(int(input()))\n",
    "    s=solution()\n",
    "    print(s.sumofoddsubarray(arr))\n",
    "main()                            "
   ]
  },
  {
   "cell_type": "code",
   "execution_count": 11,
   "metadata": {},
   "outputs": [
    {
     "name": "stdout",
     "output_type": "stream",
     "text": [
      "6\n"
     ]
    }
   ],
   "source": [
    "class solution:\n",
    "    def richestCustomer(self,accounts:list[list[int]])->int:\n",
    "        maximum=0\n",
    "        for i in range(len(accounts)):\n",
    "            total=sum(accounts[i])\n",
    "            maximum=max(maximum,total)\n",
    "        return maximum\n",
    "def main():\n",
    "    n=int(input())\n",
    "    arr=[]\n",
    "    for i in range(n):\n",
    "        c=int(input()) \n",
    "        jrr=[]\n",
    "        for i in range(c):\n",
    "            jrr.append(int(input()))\n",
    "        arr.append(jrr) \n",
    "    s=solution()\n",
    "    print(s.richestCustomer(arr))\n",
    "main()            \n",
    "                   "
   ]
  },
  {
   "cell_type": "code",
   "execution_count": 13,
   "metadata": {},
   "outputs": [
    {
     "name": "stdout",
     "output_type": "stream",
     "text": [
      "[1, 3, 6, 10]\n"
     ]
    }
   ],
   "source": [
    "class solution:\n",
    "    def runningSum(self,arr:list[int])->list[int]:\n",
    "        for i in range(1,len(arr)):\n",
    "            arr[i]+=arr[i-1]\n",
    "        return arr \n",
    "def main():\n",
    "    n=int(input())\n",
    "    arr=[]\n",
    "    for i in range(n):\n",
    "        arr.append(int(input()))\n",
    "    s=solution()\n",
    "    print(s.runningSum(arr))\n",
    "main()                \n"
   ]
  }
 ],
 "metadata": {
  "kernelspec": {
   "display_name": "Python 3",
   "language": "python",
   "name": "python3"
  },
  "language_info": {
   "codemirror_mode": {
    "name": "ipython",
    "version": 3
   },
   "file_extension": ".py",
   "mimetype": "text/x-python",
   "name": "python",
   "nbconvert_exporter": "python",
   "pygments_lexer": "ipython3",
   "version": "3.11.1 (tags/v3.11.1:a7a450f, Dec  6 2022, 19:58:39) [MSC v.1934 64 bit (AMD64)]"
  },
  "orig_nbformat": 4,
  "vscode": {
   "interpreter": {
    "hash": "f1349afab0fcd502e634e282abd40fedb2831892829b7733385d2e4290794b19"
   }
  }
 },
 "nbformat": 4,
 "nbformat_minor": 2
}
