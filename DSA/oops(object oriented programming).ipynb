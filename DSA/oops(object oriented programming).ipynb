{
 "cells": [
  {
   "cell_type": "code",
   "execution_count": 3,
   "metadata": {},
   "outputs": [
    {
     "name": "stdout",
     "output_type": "stream",
     "text": [
      "john 2\n"
     ]
    }
   ],
   "source": [
    "class student:\n",
    "    def __init__(self,name=\"john\",roll_no=2):\n",
    "        self.name=name\n",
    "        self.roll_no=roll_no\n",
    "s=student()\n",
    "print(s.name,s.roll_no)        "
   ]
  },
  {
   "cell_type": "code",
   "execution_count": 4,
   "metadata": {},
   "outputs": [
    {
     "name": "stdout",
     "output_type": "stream",
     "text": [
      "rahul\n",
      "2\n"
     ]
    }
   ],
   "source": [
    "class student:\n",
    "    def __init__(self,name,roll_no):\n",
    "        self.name=name\n",
    "        self.roll_no=roll_no\n",
    "    def attributes(self):\n",
    "        print(self.name)\n",
    "        print(self.roll_no)\n",
    "s1=student(\"rahul\",2)\n",
    "s1.attributes()            "
   ]
  },
  {
   "cell_type": "code",
   "execution_count": 6,
   "metadata": {},
   "outputs": [
    {
     "name": "stdout",
     "output_type": "stream",
     "text": [
      "60\n",
      "12\n"
     ]
    }
   ],
   "source": [
    "class Triangle:\n",
    "    def __init__(self,a,b,c):\n",
    "        self.side1=a\n",
    "        self.side2=b\n",
    "        self.side3=c\n",
    "    def calculateArea(self):\n",
    "        return (self.side1*self.side2*self.side3)\n",
    "    def calculatePerimeter(self):\n",
    "        return (self.side1+self.side2+self.side3)\n",
    "a=Triangle(3,4,5)\n",
    "print(a.calculateArea()) \n",
    "print(a.calculatePerimeter())             \n",
    "\n"
   ]
  },
  {
   "cell_type": "code",
   "execution_count": 7,
   "metadata": {},
   "outputs": [
    {
     "name": "stdout",
     "output_type": "stream",
     "text": [
      "robert 1994 64c-wallsStreat\n",
      "sam 2000 68D-wallsStreat\n",
      "john 1999 26B-wallsStreat\n"
     ]
    }
   ],
   "source": [
    "class Employee:\n",
    "    def __init__(self,name,yrof_joining,address):\n",
    "        self.name=name\n",
    "        self.yrof_joining=yrof_joining\n",
    "        self.address=address\n",
    "    def printDetails(self):\n",
    "        print(self.name,self.yrof_joining,self.address) \n",
    "e1=Employee(\"robert\",1994,'64c-wallsStreat')\n",
    "e2=Employee('sam',2000,'68D-wallsStreat') \n",
    "e3=Employee('john',1999,'26B-wallsStreat')\n",
    "e1.printDetails()\n",
    "e2.printDetails()\n",
    "e3.printDetails()          "
   ]
  },
  {
   "cell_type": "code",
   "execution_count": 12,
   "metadata": {},
   "outputs": [
    {
     "name": "stdout",
     "output_type": "stream",
     "text": [
      "265\n"
     ]
    }
   ],
   "source": [
    "class Employee:\n",
    "    def getinfo(self,salary,working_hrs):\n",
    "        self.salary=salary\n",
    "        self.working_hours=working_hrs\n",
    "    def AddSal(self):\n",
    "        if self.salary<500:\n",
    "            self.salary+=10\n",
    "    def AddWork(self):\n",
    "        if self.working_hours>6:\n",
    "            self.salary+=5\n",
    "def main():\n",
    "    salary=int(input())\n",
    "    working_hrs=int(input())\n",
    "    e=Employee() \n",
    "    e.getinfo(salary,working_hrs)\n",
    "    e.AddSal()\n",
    "    e.AddWork()\n",
    "    print(e.salary) \n",
    "main()                      \n"
   ]
  },
  {
   "cell_type": "code",
   "execution_count": 17,
   "metadata": {},
   "outputs": [
    {
     "name": "stdout",
     "output_type": "stream",
     "text": [
      "raj 1\n"
     ]
    }
   ],
   "source": [
    "class count_obj:\n",
    "    count=0\n",
    "    def __init__(self,name):\n",
    "        self.name=name\n",
    "        count_obj.count+=1\n",
    "def main():\n",
    "    name=str(input())\n",
    "    n=count_obj(name)\n",
    "    print(n.name,count_obj.count)\n",
    "main()\n",
    "\n",
    "\n",
    "\n"
   ]
  },
  {
   "cell_type": "code",
   "execution_count": 21,
   "metadata": {},
   "outputs": [
    {
     "name": "stdout",
     "output_type": "stream",
     "text": [
      "This is rectangular Shape\n",
      "Square is Rectangle\n",
      "this is Shape\n"
     ]
    }
   ],
   "source": [
    "class Shape:\n",
    "    def PrintShape(self):\n",
    "        print(\"this is Shape\")\n",
    "class Rectangle(Shape):\n",
    "    def __init__(self):\n",
    "        print(\"This is rectangular Shape\")\n",
    "class Circle(Shape):\n",
    "    def __init__(self):\n",
    "        print(\"this is Circular Shape\")\n",
    "class Square(Rectangle):\n",
    "    def PrintSquare(self):\n",
    "        print(\"Square is Rectangle\")\n",
    "def main():\n",
    "    s=Square()\n",
    "    s.PrintSquare()\n",
    "    s.PrintShape()\n",
    "    \n",
    "main()                    \n",
    "\n"
   ]
  },
  {
   "cell_type": "code",
   "execution_count": 27,
   "metadata": {},
   "outputs": [
    {
     "name": "stdout",
     "output_type": "stream",
     "text": [
      "this is a Parent Class\n",
      "this is a Child Class\n",
      "this is a Parent Class\n"
     ]
    }
   ],
   "source": [
    "class PARENT:\n",
    "    def Print(self):\n",
    "        print(\"this is a Parent Class\")\n",
    "class CHILD(PARENT):\n",
    "    def Print(self):\n",
    "        print(\"this is a Child Class\")\n",
    "        super().Print()\n",
    "p=PARENT() \n",
    "p.Print() \n",
    "c=CHILD()\n",
    "c.Print()              \n"
   ]
  },
  {
   "cell_type": "code",
   "execution_count": 30,
   "metadata": {},
   "outputs": [
    {
     "name": "stdout",
     "output_type": "stream",
     "text": [
      "rj\n",
      "computer Science\n",
      "1200\n",
      "cj\n",
      "it\n",
      "1950\n"
     ]
    }
   ],
   "source": [
    "class Member():\n",
    "    def DataAttributes(self,Name,Age,Phone_no,address,salary):\n",
    "        self.name=Name\n",
    "        self.age=Age\n",
    "        self.Phone_no=Phone_no\n",
    "        self.address=address\n",
    "        self.salary=salary\n",
    "    def PrintSalary(self):\n",
    "        print(self.salary)\n",
    "class Employee(Member):\n",
    "    def __init__(self,Name,Age,Phone_no,address,salary,specialization):\n",
    "        self.specialization=specialization\n",
    "        super().DataAttributes(Name,Age,Phone_no,address,salary)\n",
    "    def print_details(self):\n",
    "        print(self.name)\n",
    "        print(self.specialization)\n",
    "class Manager(Member):\n",
    "    def __init__(self,Name,Age,Phone_no,address,salary,department):\n",
    "        self.department=department\n",
    "        super().DataAttributes(Name,Age,Phone_no,address,salary) \n",
    "    def print_details(self):\n",
    "        print(self.name)\n",
    "        print(self.department)\n",
    "e=Employee('rj',24,12345,'45-c',1200,'computer Science')\n",
    "e.print_details()\n",
    "e.PrintSalary() \n",
    "m=Manager('cj',24,2345,'44-c',1950,'it')\n",
    "m.print_details()\n",
    "m.PrintSalary()                          \n"
   ]
  },
  {
   "cell_type": "code",
   "execution_count": 32,
   "metadata": {},
   "outputs": [
    {
     "name": "stdout",
     "output_type": "stream",
     "text": [
      "4\n"
     ]
    }
   ],
   "source": [
    "class solution:\n",
    "    def Binarysearch(self,nums:list[int],target:int)->int:\n",
    "        start=0\n",
    "        end=len(nums)-1\n",
    "        while start<=end:\n",
    "            mid=(start+end)//2\n",
    "            if nums[mid]==target:\n",
    "                return mid\n",
    "            elif nums[mid]>target:\n",
    "                end=mid-1\n",
    "            else:\n",
    "                start=mid+1\n",
    "        return -1\n",
    "def main():\n",
    "    n=int(input()) \n",
    "    arr=[]\n",
    "    for i in range(n):\n",
    "        arr.append(int(input()))\n",
    "    s=solution()\n",
    "    k=int(input())\n",
    "    print(s.Binarysearch(arr,k))\n",
    "main()        \n"
   ]
  },
  {
   "cell_type": "code",
   "execution_count": 1,
   "metadata": {},
   "outputs": [
    {
     "name": "stdout",
     "output_type": "stream",
     "text": [
      "2\n"
     ]
    }
   ],
   "source": [
    "class solution:\n",
    "    def PeakElement(self,nums:list[int])->int:\n",
    "        start=0\n",
    "        end=len(nums)-1\n",
    "        while start<=end:\n",
    "            mid=(start+end)//2\n",
    "            if nums[mid]>nums[mid-1] and nums[mid]>nums[mid+1]:\n",
    "                return mid\n",
    "            elif nums[mid]>nums[mid+1]:\n",
    "                end=mid-1\n",
    "            else:\n",
    "                start=mid+1\n",
    "        return start\n",
    "def main(): \n",
    "    n=int(input())\n",
    "    arr=[]\n",
    "    for i in range(n):\n",
    "        arr.append(int(input()))\n",
    "    s=solution()\n",
    "    print(s.PeakElement(arr))\n",
    "main()                               "
   ]
  },
  {
   "cell_type": "code",
   "execution_count": 2,
   "metadata": {},
   "outputs": [
    {
     "name": "stdout",
     "output_type": "stream",
     "text": [
      "4\n"
     ]
    }
   ],
   "source": [
    "class solution:\n",
    "    def SortedArray(self,nums:list[int],target:int)->int:\n",
    "        start=0\n",
    "        end=len(nums)-1\n",
    "        while start<=end:\n",
    "            mid=(start+end)//2\n",
    "            if nums[mid]==target:\n",
    "                return mid\n",
    "            elif nums[mid]>=nums[start]:\n",
    "                if target<=nums[mid] and target>=nums[start]:\n",
    "                    end=mid-1\n",
    "                else:\n",
    "                    start=mid+1\n",
    "            else:\n",
    "                if target>=nums[mid]  and target<=nums[end]:\n",
    "                    start=mid+1\n",
    "                else:\n",
    "                    end=mid-1\n",
    "        return -1\n",
    "def main():\n",
    "    n=int(input()) \n",
    "    arr=[]\n",
    "    for i in range(n):\n",
    "        arr.append(int(input()))\n",
    "    s=solution()\n",
    "    k=int(input()) \n",
    "    print(s.SortedArray(arr,k)) \n",
    "main()                                                \n",
    "\n",
    "\n",
    "\n",
    "\n"
   ]
  },
  {
   "cell_type": "code",
   "execution_count": 3,
   "metadata": {},
   "outputs": [
    {
     "name": "stdout",
     "output_type": "stream",
     "text": [
      "[0, 1]\n"
     ]
    }
   ],
   "source": [
    "class solution:\n",
    "    def TwoSum(self,nums:list[int],target:int)->int:\n",
    "        l={}\n",
    "        for i in range(len(nums)):\n",
    "            if target-nums[i] in l:\n",
    "                return [l[target-nums[i]],i]\n",
    "            else:\n",
    "                l[nums[i]]=i\n",
    "                    \n",
    "\n",
    "\n",
    "def main():\n",
    "    n=int(input())\n",
    "    arr=[]\n",
    "    for i in range(n):\n",
    "        arr.append(int(input()))\n",
    "    s=solution()\n",
    "    k=int(input())\n",
    "    print(s.TwoSum(arr,k))\n",
    "main()        \n",
    "\n",
    "\n"
   ]
  },
  {
   "cell_type": "code",
   "execution_count": 1,
   "metadata": {},
   "outputs": [
    {
     "name": "stdout",
     "output_type": "stream",
     "text": [
      "2\n"
     ]
    }
   ],
   "source": [
    "class solution():\n",
    "    def Lucky(self,arr:list[int])->int:\n",
    "        maximum=0\n",
    "        s=set(arr)\n",
    "        for i in s:\n",
    "            count=arr.count(i)\n",
    "            if count==i:\n",
    "                maximum=max(maximum,i)\n",
    "        return maximum        \n",
    "def main():\n",
    "    n=int(input())\n",
    "    arr=[]\n",
    "    for i in range(n):\n",
    "        arr.append(int(input()))\n",
    "    s=solution()\n",
    "    output=s.Lucky(arr)\n",
    "    print(output)\n",
    "main()                   \n"
   ]
  },
  {
   "cell_type": "code",
   "execution_count": 2,
   "metadata": {},
   "outputs": [
    {
     "name": "stdout",
     "output_type": "stream",
     "text": [
      "rahul 1200\n",
      "bj 6500\n",
      "cj 16500\n",
      "mj 23000\n"
     ]
    }
   ],
   "source": [
    "class Employee:\n",
    "    def __init__(self,name,salary):\n",
    "        self.name=name\n",
    "        self.salary=salary\n",
    "e1=Employee(\"rahul\",1200)\n",
    "e2=Employee(\"mj\",23000)\n",
    "e3=Employee(\"cj\",16500)\n",
    "e4=Employee('bj',6500)\n",
    "emp=[e1,e2,e3,e4]\n",
    "def printSalary(Employee):\n",
    "    return Employee.salary\n",
    "emp.sort(key=printSalary)\n",
    "for Employee in emp:\n",
    "    print(Employee.name,Employee.salary)\n",
    "        \n",
    "\n",
    "\n"
   ]
  },
  {
   "cell_type": "code",
   "execution_count": 4,
   "metadata": {},
   "outputs": [
    {
     "name": "stdout",
     "output_type": "stream",
     "text": [
      "4\n"
     ]
    }
   ],
   "source": [
    "class solution:\n",
    "    def Prime(self,n:int)->int:\n",
    "        if n<2:\n",
    "            return 0\n",
    "        p=[1]*n\n",
    "        p[0]=0\n",
    "        p[1]=0\n",
    "        for i in range(2,int(n**0.5)+1):\n",
    "            if p[i]!=0:\n",
    "                for j in range(i**2,n,i):\n",
    "                    p[j]=0\n",
    "        return sum(p)\n",
    "def main():\n",
    "    n=int(input())\n",
    "    s=solution()\n",
    "    print(s.Prime(n)) \n",
    "main()                       \n",
    "\n",
    "\n",
    "        \n"
   ]
  },
  {
   "cell_type": "code",
   "execution_count": null,
   "metadata": {},
   "outputs": [],
   "source": []
  }
 ],
 "metadata": {
  "kernelspec": {
   "display_name": "Python 3",
   "language": "python",
   "name": "python3"
  },
  "language_info": {
   "codemirror_mode": {
    "name": "ipython",
    "version": 3
   },
   "file_extension": ".py",
   "mimetype": "text/x-python",
   "name": "python",
   "nbconvert_exporter": "python",
   "pygments_lexer": "ipython3",
   "version": "3.11.1"
  },
  "orig_nbformat": 4,
  "vscode": {
   "interpreter": {
    "hash": "f1349afab0fcd502e634e282abd40fedb2831892829b7733385d2e4290794b19"
   }
  }
 },
 "nbformat": 4,
 "nbformat_minor": 2
}
