{
 "cells": [
  {
   "cell_type": "code",
   "execution_count": 1,
   "metadata": {},
   "outputs": [
    {
     "name": "stdout",
     "output_type": "stream",
     "text": [
      "the value of a after swap is = 54\n",
      "the value of b after swap is = 32\n"
     ]
    }
   ],
   "source": [
    "def swap(a,b):\n",
    "    i=a\n",
    "    a=b\n",
    "    b=i\n",
    "    print(\"the value of a after swap is =\",a)\n",
    "    print(\"the value of b after swap is =\",b)\n",
    "def main():\n",
    "    a=int(input()) \n",
    "    b=int(input())\n",
    "    swap(a,b)\n",
    "main() "
   ]
  },
  {
   "cell_type": "code",
   "execution_count": null,
   "metadata": {},
   "outputs": [
    {
     "name": "stdout",
     "output_type": "stream",
     "text": [
      "b is greater 43\n"
     ]
    }
   ],
   "source": [
    "def find_max(a,b):\n",
    "    if a>b:\n",
    "        print(\"a is greater\",a)\n",
    "    else:\n",
    "        print(\"b is greater\",b)\n",
    "def main():\n",
    "    a=int(input())\n",
    "    b=int(input()) \n",
    "    find_max(a,b)\n",
    "main()               "
   ]
  },
  {
   "cell_type": "code",
   "execution_count": null,
   "metadata": {},
   "outputs": [
    {
     "name": "stdout",
     "output_type": "stream",
     "text": [
      "the higher digit is b= 17\n"
     ]
    }
   ],
   "source": [
    "def find_max(a,b,c):\n",
    "    if a>b and a>c:\n",
    "        print(\"the higher digit is a =\",a)\n",
    "    elif b>a and b>c:\n",
    "        print(\"the higher digit is b=\",b) \n",
    "    else:\n",
    "        print(\"the higher digit is c=\",c)\n",
    "def main():\n",
    "    a=int(input())\n",
    "    b=int(input())\n",
    "    c=int(input())\n",
    "    find_max(a,b,c)\n",
    "main()                   "
   ]
  },
  {
   "cell_type": "code",
   "execution_count": null,
   "metadata": {},
   "outputs": [
    {
     "name": "stdout",
     "output_type": "stream",
     "text": [
      "the cost will be 8\n"
     ]
    }
   ],
   "source": [
    "def D_cost(distance):\n",
    "    \n",
    "    if distance>=1000:\n",
    "        print(\"the cost will be 12\")\n",
    "    elif distance>500 and distance <1000:\n",
    "        print(\"the cost will be 10\")\n",
    "    elif distance >100 and distance <=500:\n",
    "        print(\"the cost will be 8\") \n",
    "    else:\n",
    "        print(\"the cost will be 5\") \n",
    "def main():\n",
    "    distance=int(input())\n",
    "    D_cost(distance) \n",
    "main()                        \n",
    "\n",
    "            \n"
   ]
  },
  {
   "cell_type": "code",
   "execution_count": null,
   "metadata": {},
   "outputs": [
    {
     "name": "stdout",
     "output_type": "stream",
     "text": [
      "fail\n"
     ]
    }
   ],
   "source": [
    "def checkmarks(marks):\n",
    "    print(\"pass \") if marks>=40 else print(\"fail\")\n",
    "def main():\n",
    "    marks=int(input())\n",
    "    checkmarks(marks) \n",
    "main()       "
   ]
  },
  {
   "cell_type": "code",
   "execution_count": null,
   "metadata": {},
   "outputs": [
    {
     "name": "stdout",
     "output_type": "stream",
     "text": [
      "a is maximum 34\n"
     ]
    }
   ],
   "source": [
    "def findmax(a,b):\n",
    "    print(\"a is maximum\",a) if a>b else print(\"b is maximum\",b)\n",
    "def main():\n",
    "    a=int(input())\n",
    "    b=int(input()) \n",
    "    findmax(a,b)\n",
    "main()       "
   ]
  },
  {
   "cell_type": "code",
   "execution_count": null,
   "metadata": {},
   "outputs": [
    {
     "name": "stdout",
     "output_type": "stream",
     "text": [
      "Invalid day\n"
     ]
    }
   ],
   "source": [
    "def printday(day):\n",
    "    if day==1:\n",
    "        print(\"Monday\")\n",
    "    elif day==2:\n",
    "        print(\"Tuesday\")\n",
    "    elif day==3:\n",
    "        print(\"Wednesday\")\n",
    "    elif day==4:\n",
    "        print(\"Thrusday\")\n",
    "    elif day==5:\n",
    "        print(\"Friday\")   \n",
    "    elif day==6:\n",
    "        print(\"Saturday\")\n",
    "    elif day==7:\n",
    "        print(\"Sunday\")\n",
    "    else:\n",
    "        print(\"Invalid day\")\n",
    "\n",
    "def main():\n",
    "    day=int(input())\n",
    "    printday(day)\n",
    "main()\n",
    "    "
   ]
  },
  {
   "cell_type": "code",
   "execution_count": null,
   "metadata": {},
   "outputs": [
    {
     "name": "stdout",
     "output_type": "stream",
     "text": [
      "2\n",
      "4\n",
      "6\n",
      "8\n",
      "10\n",
      "12\n",
      "14\n",
      "16\n",
      "18\n",
      "20\n"
     ]
    }
   ],
   "source": [
    "def findEven(n):\n",
    "    i=1\n",
    "    while i<=n:\n",
    "        if i%2==0:\n",
    "            print(i)\n",
    "        i=i+1\n",
    "def main():\n",
    "    n=int(input())\n",
    "    findEven(n)\n",
    "main()                      "
   ]
  },
  {
   "cell_type": "code",
   "execution_count": null,
   "metadata": {},
   "outputs": [
    {
     "name": "stdout",
     "output_type": "stream",
     "text": [
      "1\n",
      "4\n",
      "9\n",
      "16\n",
      "25\n",
      "36\n",
      "49\n"
     ]
    }
   ],
   "source": [
    "def print_series(n):\n",
    "    i=1\n",
    "    while i*i<=n:\n",
    "        print(i*i)\n",
    "        i=i+1\n",
    "def main():\n",
    "    n=int(input()) \n",
    "    print_series(n)\n",
    "main()\n"
   ]
  },
  {
   "cell_type": "code",
   "execution_count": null,
   "metadata": {},
   "outputs": [
    {
     "name": "stdout",
     "output_type": "stream",
     "text": [
      "1\n",
      "2\n",
      "3\n",
      "4\n",
      "6\n",
      "7\n",
      "8\n",
      "9\n"
     ]
    }
   ],
   "source": [
    "def print_output(n):\n",
    "    i=1\n",
    "    while i<=n:\n",
    "        print(i)\n",
    "        i=i+1\n",
    "        if i%5==0:\n",
    "            i=i+1\n",
    "def main():\n",
    "    n=int(input())\n",
    "    print_output(n)\n",
    "main()    \n"
   ]
  },
  {
   "cell_type": "code",
   "execution_count": null,
   "metadata": {},
   "outputs": [
    {
     "name": "stdout",
     "output_type": "stream",
     "text": [
      "3\n",
      "5\n",
      "1\n"
     ]
    }
   ],
   "source": [
    "def print_digit(n):\n",
    "    while n>0:\n",
    "        i=n%10\n",
    "        n=n//10\n",
    "        print(i)\n",
    "def main():\n",
    "    n=int(input())\n",
    "    print_digit(n)\n",
    "main()            "
   ]
  },
  {
   "cell_type": "code",
   "execution_count": null,
   "metadata": {},
   "outputs": [
    {
     "name": "stdout",
     "output_type": "stream",
     "text": [
      "False\n"
     ]
    }
   ],
   "source": [
    "def checkArmstrong(n):\n",
    "    temp=n\n",
    "    sum=0\n",
    "    while temp>0:\n",
    "        i=temp%10\n",
    "        temp=temp//10\n",
    "        sum=sum+i**3\n",
    "    if n==sum:\n",
    "        print(True) \n",
    "    else:\n",
    "        print(False) \n",
    "def main():\n",
    "    n=int(input())\n",
    "    checkArmstrong(n)\n",
    "main()                  \n",
    "   \n",
    "\n"
   ]
  },
  {
   "cell_type": "code",
   "execution_count": null,
   "metadata": {},
   "outputs": [
    {
     "name": "stdout",
     "output_type": "stream",
     "text": [
      "321\n"
     ]
    }
   ],
   "source": [
    "def reverse(n):\n",
    "    rev=0\n",
    "    while n>0:\n",
    "        i=n%10\n",
    "        rev=rev*10+i\n",
    "        n=n//10\n",
    "    return rev\n",
    "def main():\n",
    "    n=int(input())\n",
    "    print(reverse(n))\n",
    "main()    \n"
   ]
  },
  {
   "cell_type": "code",
   "execution_count": null,
   "metadata": {},
   "outputs": [
    {
     "name": "stdout",
     "output_type": "stream",
     "text": [
      "1\n",
      "3\n",
      "5\n",
      "7\n"
     ]
    }
   ],
   "source": [
    "def printodd(n):\n",
    "    for i in range(n+1):\n",
    "        if i%2 !=0:\n",
    "            print(i)\n",
    "def main():\n",
    "    n=int(input())\n",
    "    printodd(n)\n",
    "main()                "
   ]
  },
  {
   "cell_type": "code",
   "execution_count": null,
   "metadata": {},
   "outputs": [
    {
     "name": "stdout",
     "output_type": "stream",
     "text": [
      "1\n",
      "8\n",
      "27\n",
      "64\n",
      "125\n"
     ]
    }
   ],
   "source": [
    "def print_series(n):\n",
    "    for i in range(1,n+1):\n",
    "        if i*i*i>n:\n",
    "            break\n",
    "        print(i*i*i)\n",
    "def main():\n",
    "    n=int(input())\n",
    "    print_series(n)\n",
    "main()            \n"
   ]
  },
  {
   "cell_type": "code",
   "execution_count": null,
   "metadata": {},
   "outputs": [
    {
     "name": "stdout",
     "output_type": "stream",
     "text": [
      "2\n",
      "6\n",
      "10\n"
     ]
    }
   ],
   "source": [
    "def printoutput(n):\n",
    "    for i in range(1,n+1):\n",
    "        if i%4==0:\n",
    "            continue\n",
    "        else:\n",
    "            if i%2==0:\n",
    "                print(i)\n",
    "def main():\n",
    "    n=int(input())\n",
    "    printoutput(n)\n",
    "main()               \n"
   ]
  },
  {
   "cell_type": "code",
   "execution_count": null,
   "metadata": {},
   "outputs": [
    {
     "name": "stdout",
     "output_type": "stream",
     "text": [
      "1\n",
      "2\n",
      "3\n"
     ]
    }
   ],
   "source": [
    "def print_series(n,m):\n",
    "    for i in range(1,m):\n",
    "        if i==m:\n",
    "            break\n",
    "        print(i)\n",
    "def main():\n",
    "    n=int(input(\"enter the value of n:\"))\n",
    "    m=int(input(\"enter the value of m:\"))\n",
    "    print_series(n,m)\n",
    "main()            "
   ]
  },
  {
   "cell_type": "code",
   "execution_count": null,
   "metadata": {},
   "outputs": [
    {
     "name": "stdout",
     "output_type": "stream",
     "text": [
      "*****\n",
      "****\n",
      "***\n",
      "**\n",
      "*\n"
     ]
    }
   ],
   "source": [
    "def print_pattern(n):\n",
    "    for i in range(n):\n",
    "        for j in range((n)-i):\n",
    "            print(\"*\",end=\"\")\n",
    "        print()\n",
    "def main():\n",
    "    n=int(input())\n",
    "    print_pattern(n)\n",
    "main()                \n"
   ]
  },
  {
   "cell_type": "code",
   "execution_count": null,
   "metadata": {},
   "outputs": [
    {
     "name": "stdout",
     "output_type": "stream",
     "text": [
      "*****\n",
      "****\n",
      "***\n",
      "**\n",
      "*\n"
     ]
    }
   ],
   "source": [
    "def print_pattern(n):\n",
    "    i=1\n",
    "    while i<=n:\n",
    "        j=n+1\n",
    "        while j>i:\n",
    "            j=j-1\n",
    "            print(\"*\",end=\"\")\n",
    "        print() \n",
    "        i=i+1\n",
    "def main():\n",
    "    n=int(input())\n",
    "    print_pattern(n)\n",
    "main()    \n"
   ]
  },
  {
   "cell_type": "code",
   "execution_count": null,
   "metadata": {},
   "outputs": [
    {
     "name": "stdout",
     "output_type": "stream",
     "text": [
      "*****\n",
      "****\n",
      "***\n",
      "**\n",
      "*\n"
     ]
    }
   ],
   "source": [
    "def printPattern(n):\n",
    "    for i in range(n):\n",
    "        for j in range(n-i):\n",
    "            print('*',end='')\n",
    "        print()\n",
    "def main():\n",
    "    n=int(input()) \n",
    "    printPattern(n)\n",
    "main()               "
   ]
  },
  {
   "cell_type": "code",
   "execution_count": null,
   "metadata": {},
   "outputs": [
    {
     "name": "stdout",
     "output_type": "stream",
     "text": [
      "*****\n",
      "****\n",
      "***\n",
      "**\n",
      "*\n"
     ]
    }
   ],
   "source": [
    "#pattern using while loop\n",
    "def printpattern(n):\n",
    "    i=1\n",
    "    while i <=n:\n",
    "        j=n+1\n",
    "        while j>i:\n",
    "            print(\"*\",end='')\n",
    "            j=j-1\n",
    "        print()\n",
    "        i=i+1    \n",
    "def main():\n",
    "    n=int(input())\n",
    "    printPattern(n) \n",
    "main()           \n"
   ]
  },
  {
   "cell_type": "code",
   "execution_count": null,
   "metadata": {},
   "outputs": [
    {
     "name": "stdout",
     "output_type": "stream",
     "text": [
      "*****\n",
      "****\n",
      "***\n",
      "**\n",
      "*\n",
      "*\n",
      "**\n",
      "***\n",
      "****\n",
      "*****\n"
     ]
    }
   ],
   "source": [
    "def printPattern(n):\n",
    "    for i in range(n):\n",
    "        for j in range(n-i):\n",
    "            print(\"*\",end=\"\")\n",
    "        print()\n",
    "    for i in range(n):    \n",
    "        for j in range(i+1):\n",
    "            print(\"*\",end=\"\")\n",
    "        print()\n",
    "def main():\n",
    "    n=int(input())\n",
    "    printPattern(n)\n",
    "main()                    "
   ]
  },
  {
   "cell_type": "code",
   "execution_count": null,
   "metadata": {},
   "outputs": [
    {
     "name": "stdout",
     "output_type": "stream",
     "text": [
      "*    *\n",
      "**   **\n",
      "***  ***\n",
      "**** ****\n",
      "**********\n"
     ]
    }
   ],
   "source": [
    "def printPattern(n):\n",
    "    for i in range(n):\n",
    "        for j in range(i+1):\n",
    "            print(\"*\",end=\"\")\n",
    "        for j in range(1,n-i):\n",
    "            print(\" \",end=\"\")\n",
    "        for j in range(i+1):\n",
    "            print(\"*\",end=\"\")\n",
    "        print()\n",
    "def main():\n",
    "    n=int(input())\n",
    "    printPattern(n)\n",
    "main()    \n"
   ]
  },
  {
   "cell_type": "code",
   "execution_count": null,
   "metadata": {},
   "outputs": [
    {
     "name": "stdout",
     "output_type": "stream",
     "text": [
      "*****\n",
      "****\n",
      "***\n",
      "**\n",
      "*\n",
      "*\n",
      "**\n",
      "***\n",
      "****\n",
      "*****\n"
     ]
    }
   ],
   "source": [
    "# while loop pattern\n",
    "\n",
    "def printPattern(n):\n",
    "    i=1\n",
    "    while i<=n:\n",
    "        j=n\n",
    "        while j>=i:\n",
    "            print(\"*\",end=\"\")\n",
    "            j=j-1\n",
    "        print()\n",
    "        i=i+1\n",
    "    i=1\n",
    "    while i<=n:\n",
    "        j=1\n",
    "        while j<=i:\n",
    "            print(\"*\",end=\"\")\n",
    "            j=j+1\n",
    "        print()\n",
    "        i=i+1\n",
    "def main():\n",
    "    n=int(input())\n",
    "    printPattern(n)\n",
    "main()                \n",
    "\n"
   ]
  },
  {
   "cell_type": "code",
   "execution_count": null,
   "metadata": {},
   "outputs": [
    {
     "name": "stdout",
     "output_type": "stream",
     "text": [
      "*****\n",
      "****\n",
      "***\n",
      "**\n",
      "*\n",
      "*\n",
      "**\n",
      "***\n",
      "****\n",
      "*****\n"
     ]
    }
   ],
   "source": [
    "def print_pattern(n):\n",
    "    i=1\n",
    "    while i<=n:\n",
    "        j=n\n",
    "        while j>=i:\n",
    "            print(\"*\",end=\"\")\n",
    "            j=j-1\n",
    "        print()\n",
    "        i=i+1\n",
    "    i=1\n",
    "    while i<=n:\n",
    "        j=1\n",
    "        while j<=i:\n",
    "            print(\"*\",end=\"\")\n",
    "            j=j+1\n",
    "        print()\n",
    "        i=i+1\n",
    "def main():\n",
    "    n=int(input())\n",
    "    print_pattern(n)\n",
    "main()                \n",
    "\n",
    "    "
   ]
  },
  {
   "cell_type": "code",
   "execution_count": null,
   "metadata": {},
   "outputs": [
    {
     "name": "stdout",
     "output_type": "stream",
     "text": [
      "*\n",
      "**\n",
      "***\n",
      "****\n",
      "*****\n"
     ]
    }
   ],
   "source": [
    "def printPattern(n):\n",
    "    i=1\n",
    "    while i <=n:\n",
    "        j=1\n",
    "        while j<=i:\n",
    "            print(\"*\",end=\"\")\n",
    "            j=j+1\n",
    "        print()\n",
    "        i=i+1\n",
    "def main():\n",
    "    n=int(input())\n",
    "    printPattern(n)\n",
    "main()                \n",
    "            "
   ]
  },
  {
   "cell_type": "code",
   "execution_count": null,
   "metadata": {},
   "outputs": [
    {
     "name": "stdout",
     "output_type": "stream",
     "text": [
      "0\n",
      "1\n",
      "2\n",
      "3\n",
      "4\n",
      "5\n",
      "6\n",
      "7\n",
      "8\n",
      "9\n"
     ]
    }
   ],
   "source": [
    "def storeNumber(n):\n",
    "    arr=[]\n",
    "    for i in range(n):\n",
    "        arr.append(i)\n",
    "    return arr \n",
    "def main():\n",
    "    n=int(input())\n",
    "    output=storeNumber(n)\n",
    "    for i in range(n):\n",
    "        print(output[i])\n",
    "main()\n",
    "\n",
    "\n"
   ]
  },
  {
   "cell_type": "code",
   "execution_count": null,
   "metadata": {},
   "outputs": [
    {
     "name": "stdout",
     "output_type": "stream",
     "text": [
      "13\n",
      "13\n",
      "23\n",
      "43\n",
      "43\n"
     ]
    }
   ],
   "source": [
    "def findMaximum(arr,length):\n",
    "    max=arr[0]\n",
    "    for i in range(len(arr)):\n",
    "        if arr[i]>max:\n",
    "            max=arr[i]\n",
    "    return max\n",
    "def main():\n",
    "    n=int(input())\n",
    "    arr=[]\n",
    "    for i in range(n):\n",
    "        arr.append(int(input()))\n",
    "        print(findMaximum(arr,n))\n",
    "main()                                      \n",
    "\n"
   ]
  },
  {
   "cell_type": "code",
   "execution_count": null,
   "metadata": {},
   "outputs": [
    {
     "name": "stdout",
     "output_type": "stream",
     "text": [
      "23\n",
      "11\n",
      "11\n",
      "9\n",
      "9\n"
     ]
    }
   ],
   "source": [
    "def findMinimum(arr,lenght):\n",
    "    min=arr[0]\n",
    "    for i in range(len(arr)):\n",
    "        if arr[i]<min:\n",
    "            min=arr[i]\n",
    "    return min\n",
    "def main():\n",
    "    n=int(input())\n",
    "    arr=[]\n",
    "    for i in range(n):\n",
    "        arr.append(int(input()))\n",
    "        print(findMinimum(arr,n))\n",
    "main()                    \n"
   ]
  },
  {
   "cell_type": "code",
   "execution_count": 5,
   "metadata": {},
   "outputs": [
    {
     "name": "stdout",
     "output_type": "stream",
     "text": [
      "1\n",
      "12\n",
      "123\n",
      "1234\n",
      "12345\n",
      "2\n",
      "23\n",
      "234\n",
      "2345\n",
      "3\n",
      "34\n",
      "345\n",
      "4\n",
      "45\n",
      "5\n",
      "None\n"
     ]
    }
   ],
   "source": [
    "def subArray(arr,length):\n",
    "    for i in range(len(arr)):\n",
    "        for j in range(i,len(arr)):\n",
    "            for k in range(i,j+1):\n",
    "                print(arr[k],end=\"\")\n",
    "            print()\n",
    "def main():\n",
    "    n=int(input()) \n",
    "    arr=[]\n",
    "    for i in range(n):\n",
    "        arr.append(int(input()))\n",
    "    print(subArray(arr,n))\n",
    "main()                      "
   ]
  },
  {
   "cell_type": "code",
   "execution_count": 8,
   "metadata": {},
   "outputs": [
    {
     "name": "stdout",
     "output_type": "stream",
     "text": [
      "5\n",
      "7\n",
      "7\n",
      "7\n",
      "7\n",
      "7\n",
      "7\n",
      "7\n",
      "8\n"
     ]
    }
   ],
   "source": [
    "def maximumSum(arr,length):\n",
    "    maxsum=arr[0]\n",
    "    for i in range(len(arr)):\n",
    "        for j in range(i,len(arr)):\n",
    "            sum=0\n",
    "            for k in range(i,j+1):\n",
    "                sum=sum+arr[k]\n",
    "                if sum>maxsum:\n",
    "                    maxsum=sum\n",
    "    return maxsum\n",
    "def main():\n",
    "    n=int(input())\n",
    "    arr=[]\n",
    "    for i in range(n):\n",
    "        arr.append(int(input()))\n",
    "        print(maximumSum(arr,n))\n",
    "main()                                                      \n",
    "\n",
    "\n"
   ]
  },
  {
   "cell_type": "code",
   "execution_count": 4,
   "metadata": {},
   "outputs": [
    {
     "name": "stdout",
     "output_type": "stream",
     "text": [
      "2\n",
      "3\n",
      "5\n",
      "7\n",
      "11\n"
     ]
    }
   ],
   "source": [
    "def primenumber(n):\n",
    "    x=2\n",
    "    num=str(n)\n",
    "    arr=[]\n",
    "    cnt=0\n",
    "    while len(arr)<n:\n",
    "        flag=1\n",
    "        for i in range(2,x):\n",
    "            if (x%i)==0:\n",
    "                flag=0\n",
    "                break\n",
    "        if flag==1:\n",
    "            cnt=cnt+1\n",
    "            arr.append(x)\n",
    "        if cnt==n:\n",
    "            break\n",
    "        x=x+1\n",
    "    return arr            \n",
    "\n",
    "def main():\n",
    "    n=int(input())\n",
    "    output=primenumber(n)\n",
    "    for i in range(n):\n",
    "        print(output[i])\n",
    "main()                       \n"
   ]
  },
  {
   "cell_type": "code",
   "execution_count": 7,
   "metadata": {},
   "outputs": [
    {
     "name": "stdout",
     "output_type": "stream",
     "text": [
      "5\n",
      "4\n",
      "3\n",
      "2\n",
      "1\n"
     ]
    }
   ],
   "source": [
    "# bubble sort\n",
    "def sorArray(arr,length):\n",
    "    for i in range(len(arr)-1):\n",
    "        for j in range(len(arr)-1-i):\n",
    "            if arr[j]<arr[j+1]:\n",
    "                d=arr[j]\n",
    "                arr[j]=arr[j+1]\n",
    "                arr[j+1]=d\n",
    "    return arr\n",
    "def main():\n",
    "    n=int(input())\n",
    "    arr=[]\n",
    "    for i in range(n):\n",
    "        arr.append(int(input()))\n",
    "    output=sorArray(arr,n)\n",
    "    for i in range(n):\n",
    "        print(output[i])\n",
    "main()        \n",
    "\n",
    "\n"
   ]
  },
  {
   "cell_type": "code",
   "execution_count": 12,
   "metadata": {},
   "outputs": [
    {
     "name": "stdout",
     "output_type": "stream",
     "text": [
      "1\n",
      "2\n",
      "3\n",
      "4\n",
      "5\n"
     ]
    }
   ],
   "source": [
    "#insertion sort\n",
    "def sortArray(arr,lenght):\n",
    "    for i in range(len(arr)):\n",
    "        temp=arr[i]\n",
    "        j=i-1\n",
    "        while j>=0 and temp<arr[j]:\n",
    "            arr[j+1]=arr[j]\n",
    "            j-=1\n",
    "        arr[j+1]=temp\n",
    "    return arr        \n",
    "         \n",
    "\n",
    "def main():\n",
    "    n=int(input())\n",
    "    arr=[]\n",
    "    for i in range(n):\n",
    "        arr.append(int(input()))\n",
    "    output=sortArray(arr,n)\n",
    "    for i in range(n):\n",
    "        print(output[i])\n",
    "main()                        \n",
    "\n"
   ]
  },
  {
   "cell_type": "code",
   "execution_count": 19,
   "metadata": {},
   "outputs": [
    {
     "name": "stdout",
     "output_type": "stream",
     "text": [
      "5\n",
      "4\n",
      "3\n",
      "2\n",
      "1\n"
     ]
    }
   ],
   "source": [
    "#selection sort\n",
    "def sortArray(arr,length):\n",
    "    for i in range(len(arr)):\n",
    "        temp=i\n",
    "        for j in range(i+1,len(arr)):\n",
    "            if arr[j]>arr[temp]:\n",
    "                temp=j\n",
    "        d=arr[i]\n",
    "        arr[i]=arr[temp] \n",
    "        arr[temp]=d\n",
    "    return arr           \n",
    "\n",
    "def main():\n",
    "    n=int(input())\n",
    "    arr=[]\n",
    "    for i in range(n):\n",
    "        arr.append(int(input()))\n",
    "    output=sortArray(arr,n)\n",
    "    for i in range(n):\n",
    "        print(output[i])\n",
    "main()                        \n",
    "\n",
    "\n",
    "\n"
   ]
  }
 ],
 "metadata": {
  "kernelspec": {
   "display_name": "Python 3",
   "language": "python",
   "name": "python3"
  },
  "language_info": {
   "codemirror_mode": {
    "name": "ipython",
    "version": 3
   },
   "file_extension": ".py",
   "mimetype": "text/x-python",
   "name": "python",
   "nbconvert_exporter": "python",
   "pygments_lexer": "ipython3",
   "version": "3.11.1 (tags/v3.11.1:a7a450f, Dec  6 2022, 19:58:39) [MSC v.1934 64 bit (AMD64)]"
  },
  "orig_nbformat": 4,
  "vscode": {
   "interpreter": {
    "hash": "22b6aa23ebdb95c31771a605332d65b96d6e70a70a8e5cf021766a53e709a3c7"
   }
  }
 },
 "nbformat": 4,
 "nbformat_minor": 2
}
