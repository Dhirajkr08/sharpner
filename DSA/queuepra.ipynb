{
 "cells": [
  {
   "cell_type": "code",
   "execution_count": 4,
   "metadata": {},
   "outputs": [
    {
     "ename": "TypeError",
     "evalue": "descriptor 'appendleft' for 'collections.deque' objects doesn't apply to a 'dict' object",
     "output_type": "error",
     "traceback": [
      "\u001b[1;31m---------------------------------------------------------------------------\u001b[0m",
      "\u001b[1;31mTypeError\u001b[0m                                 Traceback (most recent call last)",
      "Cell \u001b[1;32mIn[4], line 12\u001b[0m\n\u001b[0;32m     10\u001b[0m         \u001b[39mreturn\u001b[39;00m \u001b[39mlen\u001b[39m(\u001b[39mself\u001b[39m\u001b[39m.\u001b[39mbuffer)\u001b[39m==\u001b[39m\u001b[39m0\u001b[39m\n\u001b[0;32m     11\u001b[0m q\u001b[39m=\u001b[39mqueue()\n\u001b[1;32m---> 12\u001b[0m q\u001b[39m.\u001b[39;49menqueue({\u001b[39m'\u001b[39;49m\u001b[39mwalmart\u001b[39;49m\u001b[39m'\u001b[39;49m:\u001b[39m'\u001b[39;49m\u001b[39m$321\u001b[39;49m\u001b[39m'\u001b[39;49m})\n\u001b[0;32m     13\u001b[0m q\u001b[39m.\u001b[39menqueue({\u001b[39m'\u001b[39m\u001b[39mflipkart\u001b[39m\u001b[39m'\u001b[39m:\u001b[39m'\u001b[39m\u001b[39m$231\u001b[39m\u001b[39m'\u001b[39m})\n\u001b[0;32m     14\u001b[0m q\u001b[39m.\u001b[39menqueue({\u001b[39m'\u001b[39m\u001b[39mamazon\u001b[39m\u001b[39m'\u001b[39m:\u001b[39m'\u001b[39m\u001b[39m$123\u001b[39m\u001b[39m'\u001b[39m})\n",
      "Cell \u001b[1;32mIn[4], line 6\u001b[0m, in \u001b[0;36mqueue.enqueue\u001b[1;34m(self, val)\u001b[0m\n\u001b[0;32m      5\u001b[0m \u001b[39mdef\u001b[39;00m \u001b[39menqueue\u001b[39m(\u001b[39mself\u001b[39m,val):\n\u001b[1;32m----> 6\u001b[0m     \u001b[39mself\u001b[39;49m\u001b[39m.\u001b[39;49mbuffer\u001b[39m.\u001b[39;49mappendleft(val)\n",
      "\u001b[1;31mTypeError\u001b[0m: descriptor 'appendleft' for 'collections.deque' objects doesn't apply to a 'dict' object"
     ]
    }
   ],
   "source": [
    "from collections import deque\n",
    "class queue:\n",
    "    def __init__(self):\n",
    "        self.buffer=deque\n",
    "    def enqueue(self,val):\n",
    "        self.buffer.appendleft(val)\n",
    "    def dequeue(self,val):\n",
    "        return self.buffer.pop()\n",
    "    def isEmpty(self):\n",
    "        return len(self.buffer)==0\n",
    "q=queue()\n",
    "q.enqueue({'walmart':'$321'})\n",
    "q.enqueue({'flipkart':'$231'})\n",
    "q.enqueue({'amazon':'$123'})\n",
    "q.buffer() "
   ]
  }
 ],
 "metadata": {
  "kernelspec": {
   "display_name": "Python 3",
   "language": "python",
   "name": "python3"
  },
  "language_info": {
   "codemirror_mode": {
    "name": "ipython",
    "version": 3
   },
   "file_extension": ".py",
   "mimetype": "text/x-python",
   "name": "python",
   "nbconvert_exporter": "python",
   "pygments_lexer": "ipython3",
   "version": "3.11.1"
  },
  "orig_nbformat": 4,
  "vscode": {
   "interpreter": {
    "hash": "f1349afab0fcd502e634e282abd40fedb2831892829b7733385d2e4290794b19"
   }
  }
 },
 "nbformat": 4,
 "nbformat_minor": 2
}
