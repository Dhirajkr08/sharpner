{
 "cells": [
  {
   "cell_type": "code",
   "execution_count": 5,
   "metadata": {},
   "outputs": [
    {
     "name": "stdout",
     "output_type": "stream",
     "text": [
      "Rahul 14000\n",
      "ajay 4562\n",
      "amit 3249\n",
      "aaru 1234\n",
      "sanju 1200\n"
     ]
    }
   ],
   "source": [
    "class Employee:\n",
    "    def __init__(self,name,Salary):\n",
    "        self.name=name\n",
    "        self.salary=Salary\n",
    "    \n",
    "\n",
    "emp1=Employee('Rahul',1200)\n",
    "emp2=Employee('ajay',14000)\n",
    "emp3=Employee('amit',3249)\n",
    "emp4=Employee('aaru',4562)\n",
    "emp5=Employee('sanju',1234)\n",
    "arr=[emp1,emp2,emp3,emp4,emp5]\n",
    "    \n",
    "for i in range(len(arr)-1):\n",
    "    for j in range(len(arr)-1-i):\n",
    "        if arr[j].salary<arr[j+1].salary:\n",
    "            d=arr[j].salary\n",
    "            arr[j].salary=arr[j+1].salary\n",
    "            arr[j+1].salary=d\n",
    "for i in range(len(arr)):\n",
    "    print(arr[i].name,arr[i].salary)\n",
    "    \n",
    "\n",
    "\n",
    "\n",
    "\n",
    "   \n",
    "\n",
    "\n",
    "\n",
    "\n",
    "\n",
    "\n",
    "\n",
    "\n",
    "\n",
    "                \n",
    "\n"
   ]
  },
  {
   "cell_type": "code",
   "execution_count": 6,
   "metadata": {},
   "outputs": [
    {
     "name": "stdout",
     "output_type": "stream",
     "text": [
      "Rahul 567\n",
      "ajay 347\n",
      "pankaj 342\n",
      "Sohan  230\n",
      "ajit 120\n"
     ]
    }
   ],
   "source": [
    "class Employee:\n",
    "    def __init__(self,name,salary):\n",
    "        self.name=name\n",
    "        self.salary=salary\n",
    "def main():\n",
    "    E1=Employee(\"Rahul\",120)\n",
    "    E2=Employee(\"ajay\",230)\n",
    "    E3=Employee(\"pankaj\",342)\n",
    "    E4=Employee(\"Sohan \",347)\n",
    "    E5=Employee(\"ajit\",567)\n",
    "    arr=[E1,E2,E3,E4,E5]\n",
    "    for i in range(len(arr)-1):\n",
    "        for j in range(len(arr)-1-i):\n",
    "            if arr[j].salary<arr[j+1].salary:\n",
    "\n",
    "                d=arr[j].salary\n",
    "                arr[j].salary=arr[j+1].salary\n",
    "                arr[j+1].salary=d\n",
    "    for i in range(len(arr)):\n",
    "        print(arr[i].name,arr[i].salary)\n",
    "main()                           "
   ]
  },
  {
   "cell_type": "code",
   "execution_count": 8,
   "metadata": {},
   "outputs": [
    {
     "name": "stdout",
     "output_type": "stream",
     "text": [
      "4\n"
     ]
    }
   ],
   "source": [
    "# number of primes in between\n",
    "\n",
    "class Solution:\n",
    "    def countPrimes(self, n: int) -> int:\n",
    "        if n<2:\n",
    "            return 0\n",
    "        p=[1]*n \n",
    "        p[0]=0\n",
    "        p[1]=0\n",
    "        for i in range(2,int(n**0.5)+1):\n",
    "            if p[i]!=0:\n",
    "                for j in range(i**2,n,i):\n",
    "                    p[j]=0\n",
    "        return sum(p)  \n",
    "\n",
    "              \n",
    "\n",
    "#========== User's Code Ends Here ==========\n",
    "\n",
    "   \n",
    "    \n",
    "    \n",
    "    \n",
    "    \n",
    "    \n",
    "def main():\n",
    "    n=int(input())\n",
    "    s=Solution()\n",
    "    output = s.countPrimes(n)\n",
    "    print(output)\n",
    "    \n",
    "main()         \n",
    "\n",
    "\n"
   ]
  },
  {
   "cell_type": "code",
   "execution_count": 11,
   "metadata": {},
   "outputs": [
    {
     "name": "stdout",
     "output_type": "stream",
     "text": [
      "4\n"
     ]
    }
   ],
   "source": [
    "class solution:\n",
    "    def FindPrime(self,n:int)->int:\n",
    "        if n<2:\n",
    "            return 0\n",
    "        p=[1]*n\n",
    "        p[0]=0\n",
    "        p[1]=0\n",
    "        for i in range(2,int(n**0.5)+1):\n",
    "            if p[i]!=0:\n",
    "                for j in range(i**2,n,i):\n",
    "                    p[j]=0\n",
    "        return sum(p)\n",
    "def main():\n",
    "    n=int(input())\n",
    "    s=solution()\n",
    "    output=s.FindPrime(n)\n",
    "    print(output)\n",
    "main()            \n",
    "\n",
    "\n",
    "                    \n",
    "            \n"
   ]
  },
  {
   "cell_type": "code",
   "execution_count": 15,
   "metadata": {},
   "outputs": [
    {
     "name": "stdout",
     "output_type": "stream",
     "text": [
      "0\n"
     ]
    }
   ],
   "source": [
    "class solution:\n",
    "    def countJewelsStones(self,jewels:str,stones:str)->str:\n",
    "        count=0\n",
    "        for i in range(len(jewels)):\n",
    "            for j in range(len(stones)):\n",
    "                if jewels[i]==stones[j]:\n",
    "                    count+=1\n",
    "        return count\n",
    "def main():\n",
    "    n=(input())\n",
    "    s=solution()\n",
    "    output=s.countJewelsStones(n,input())\n",
    "    print(output)\n",
    "main()                        "
   ]
  },
  {
   "cell_type": "code",
   "execution_count": 19,
   "metadata": {},
   "outputs": [
    {
     "name": "stdout",
     "output_type": "stream",
     "text": [
      "True\n"
     ]
    }
   ],
   "source": [
    "class solution:\n",
    "    def IsValid(self,s:str)->bool:\n",
    "        stack=[]\n",
    "        dict={']':'[','}':'{',')':'('}\n",
    "        for i in s:\n",
    "            if i in dict.values():\n",
    "                stack.append(i)\n",
    "            else:\n",
    "                if stack==[] or stack.pop()!=dict[i]:\n",
    "                    return False\n",
    "                else:\n",
    "                    return True\n",
    "        return stack==[]\n",
    "def main():                            \n",
    "    n=(input())\n",
    "    s=solution()\n",
    "    output=s.IsValid(n)\n",
    "    if output:\n",
    "        print(True)\n",
    "    else:\n",
    "        print(False)\n",
    "main()            \n",
    "\n"
   ]
  },
  {
   "cell_type": "code",
   "execution_count": 26,
   "metadata": {},
   "outputs": [
    {
     "name": "stdout",
     "output_type": "stream",
     "text": [
      "False\n"
     ]
    }
   ],
   "source": [
    "class solution:\n",
    "    def validateStack(self,pushed:list[int],popped:list[int])->bool:\n",
    "        stack=[]\n",
    "        for i in pushed:\n",
    "            stack.append(i)\n",
    "            while stack and popped and stack[-1]==popped[0]:\n",
    "                stack.pop()\n",
    "                popped.pop(0)\n",
    "        return not stack\n",
    "def main():\n",
    "    n=int(input())\n",
    "    arr=[]\n",
    "    for i in range(n):\n",
    "        arr.append(int(input()))\n",
    "    arr1=[]\n",
    "    for i in range(n):\n",
    "        arr1.append(int(input()))\n",
    "    s=solution()\n",
    "    output=s.validateStack(arr,arr1)\n",
    "    if(output):\n",
    "        print(True) \n",
    "    else:\n",
    "        print(False)                           \n",
    "main()            \n",
    "\n",
    "\n",
    "\n"
   ]
  },
  {
   "cell_type": "code",
   "execution_count": 30,
   "metadata": {},
   "outputs": [
    {
     "name": "stdout",
     "output_type": "stream",
     "text": [
      "ca\n"
     ]
    }
   ],
   "source": [
    "class solution:\n",
    "    def removeDuplicates(self,s:str)->str:\n",
    "        stack=[]\n",
    "        for i in s:\n",
    "            if stack and stack[-1]==i:\n",
    "                stack.pop()\n",
    "            else:\n",
    "                stack.append(i)\n",
    "        return ''.join(stack)            \n",
    "def main():\n",
    "    n=input() \n",
    "    s=solution()\n",
    "    output=s.removeDuplicates(n)\n",
    "    print(output)\n",
    "main()                       \n"
   ]
  },
  {
   "cell_type": "code",
   "execution_count": 48,
   "metadata": {},
   "outputs": [
    {
     "name": "stdout",
     "output_type": "stream",
     "text": [
      "accaccacc\n"
     ]
    }
   ],
   "source": [
    "class solution:\n",
    "    def decodeString(self,s:str)->str:\n",
    "        stack1=[]\n",
    "        stack2=[]\n",
    "        i=0\n",
    "        while i<len(s):\n",
    "            if s[i].isdigit():\n",
    "                run=i\n",
    "                while s[run].isdigit():run+=1\n",
    "                stack2.append(s[i:run])\n",
    "                stack2.append(stack1)\n",
    "                i=run\n",
    "                stack1=[]\n",
    "            elif s[i]==']':\n",
    "                stack1=stack2.pop()+int(stack2.pop())*stack1\n",
    "            else:\n",
    "                stack1.append(s[i])\n",
    "            i=i+1    \n",
    "        return ''.join(stack1)\n",
    "\n",
    "\n",
    "\n",
    "\n",
    "\n",
    "def main():\n",
    "    n=\"3[a2[c]]\"\n",
    "    s=solution()\n",
    "    output=s.decodeString(n)\n",
    "    print(output)\n",
    "main()    \n",
    "\n",
    "\n",
    "\n",
    "\n"
   ]
  },
  {
   "cell_type": "code",
   "execution_count": 60,
   "metadata": {},
   "outputs": [
    {
     "name": "stdout",
     "output_type": "stream",
     "text": [
      "2 -1 2 \n"
     ]
    }
   ],
   "source": [
    "class solution:\n",
    "    def nextGreater(self,nums:list[int])->list[int]:\n",
    "        nums=nums+nums\n",
    "        size=len(nums)\n",
    "        stack=[]\n",
    "        result=[-1]*size\n",
    "        for i in list(range(size))*2:\n",
    "            while stack and nums[stack[-1]]<nums[i]:\n",
    "                result[stack.pop()]=nums[i]\n",
    "            stack.append(i)\n",
    "        return result\n",
    "def main():\n",
    "    n=int(input())\n",
    "    arr=[]\n",
    "    for i in range(n): \n",
    "        arr.append(int(input()))\n",
    "    s=solution()\n",
    "    output=s.nextGreater(arr)\n",
    "    string=\"\"\n",
    "    for i in range(n):\n",
    "        string=string+str(output[i])+\" \"\n",
    "    print(string)\n",
    "main()\n",
    "                                              \n",
    "\n"
   ]
  },
  {
   "cell_type": "code",
   "execution_count": 2,
   "metadata": {},
   "outputs": [
    {
     "name": "stdout",
     "output_type": "stream",
     "text": [
      "9\n"
     ]
    }
   ],
   "source": [
    "class solution:\n",
    "    def trap(self,height:list[int])->int:\n",
    "        left=0\n",
    "        right=len(height)-1\n",
    "        left_max=height[left]\n",
    "        right_max=height[right] \n",
    "        result=0\n",
    "        while left<right: \n",
    "            if left_max<right_max:\n",
    "                left+=1\n",
    "                left_max=max(left_max,height[left])\n",
    "                result+=left_max-height[left]\n",
    "            else:\n",
    "                right-=1\n",
    "                right_max=max(right_max,height[right])\n",
    "                result+=right_max-height[right]\n",
    "        return result        \n",
    "\n",
    "\n",
    "\n",
    "def main():\n",
    "    n=int(input())\n",
    "    arr=[]\n",
    "    for i in range(n):\n",
    "        arr.append(int(input()))\n",
    "    s=solution()\n",
    "    output=s.trap(arr)\n",
    "    print(output)\n",
    "main()    \n"
   ]
  },
  {
   "cell_type": "code",
   "execution_count": 4,
   "metadata": {},
   "outputs": [
    {
     "name": "stdout",
     "output_type": "stream",
     "text": [
      "9\n"
     ]
    }
   ],
   "source": [
    "class solution:\n",
    "    def trapping(self,height:list[int])->int:\n",
    "        left=0\n",
    "        right=len(height)-1\n",
    "        left_max=height[left]\n",
    "        right_max=height[right]\n",
    "        result=0\n",
    "        while left<right:\n",
    "            if left_max<right_max:\n",
    "                left+=1\n",
    "                left_max=max(left_max,height[left])\n",
    "                result+=left_max-height[left]\n",
    "            else:\n",
    "                right-=1\n",
    "                right_max=max(right_max,height[right])\n",
    "                result+=right_max-height[right]\n",
    "        return result\n",
    "def main():\n",
    "    n=int(input())\n",
    "    arr=[]\n",
    "    for i in range(n):\n",
    "        arr.append(int(input())) \n",
    "    s=solution()\n",
    "    output=s.trapping(arr)\n",
    "    print(output)\n",
    "main()                           "
   ]
  },
  {
   "cell_type": "code",
   "execution_count": 2,
   "metadata": {},
   "outputs": [],
   "source": [
    "class stockspan:\n",
    "    def __init__(self):\n",
    "        self.stack=[]\n",
    "    def next(self,price:int)->int :\n",
    "        span=1\n",
    "        while self.stack and self.stack[-1][0]<=price:\n",
    "            span+=self.stack[-1][1]\n",
    "            self.stack.pop()\n",
    "        self.stack.append(price,span)\n",
    "        return span    \n",
    "def main():\n",
    "    n=int(input())\n",
    "    arr=[]\n",
    "    s=solution()\n",
    "    for i in range(n):\n",
    "        arr.append(int(input()))\n",
    "    print(s.next(int(input())))\n",
    "main()        \n",
    "                      "
   ]
  },
  {
   "cell_type": "code",
   "execution_count": 8,
   "metadata": {},
   "outputs": [
    {
     "name": "stdout",
     "output_type": "stream",
     "text": [
      "10\n"
     ]
    }
   ],
   "source": [
    "\n",
    "class solution:\n",
    "    def largestRectangle(self,height:List[int])->int:\n",
    "        height.append(0)\n",
    "        stack=[-1]\n",
    "        ans=0\n",
    "        for i in range(len(height)):\n",
    "            while height[i]<height[stack[-1]]:\n",
    "                heights=height[stack.pop()]\n",
    "                width=i-stack[-1]-1\n",
    "                ans=max(ans,heights*width)\n",
    "            stack.append(i)\n",
    "        height.pop()\n",
    "        return ans\n",
    "def main():\n",
    "    n=int(input())\n",
    "    arr=[]\n",
    "    for i in range(n):\n",
    "        arr.append(int(input()))\n",
    "    s=solution()\n",
    "    output=s.largestRectangle(arr)\n",
    "    print(output)\n",
    "main()                   \n",
    "        \n"
   ]
  },
  {
   "cell_type": "code",
   "execution_count": 11,
   "metadata": {},
   "outputs": [
    {
     "name": "stdout",
     "output_type": "stream",
     "text": [
      "4\n"
     ]
    }
   ],
   "source": [
    "class solution:\n",
    "    def largestRectangle(self,heights:list[int])->int:\n",
    "        heights.append(0)\n",
    "        ans=0\n",
    "        stack=[-1]\n",
    "        for i in range(len(heights)):\n",
    "            while stack and heights[stack[-1]]:\n",
    "                height=heights[stack.pop()]\n",
    "                width=i-stack[-1]-i\n",
    "                ans=max(ans,height*width)\n",
    "            stack.append(i)\n",
    "        heights.pop()\n",
    "        return ans        \n",
    "def main():\n",
    "    n=int(input())\n",
    "    arr=[]\n",
    "    for i in range(n):\n",
    "        arr.append(int(input()))\n",
    "    s=solution()\n",
    "    output=s.largestRectangle(arr)\n",
    "    print(output)    \n",
    "\n",
    "            \n",
    "\n",
    "main()"
   ]
  },
  {
   "cell_type": "code",
   "execution_count": 21,
   "metadata": {},
   "outputs": [
    {
     "name": "stdout",
     "output_type": "stream",
     "text": [
      "3\n",
      "hello\n"
     ]
    }
   ],
   "source": [
    "class Queue:\n",
    "    def __init__(self) -> None:\n",
    "        self.queue=[]\n",
    "    def isempty(self):\n",
    "        return len(self.queue)==0\n",
    "    def enqueue(self,value):\n",
    "        return self.queue.append(value)\n",
    "    def dequeue(self):\n",
    "        return self.queue.pop(0)\n",
    "    def size(self):\n",
    "        return len(self.queue)\n",
    "q=Queue()\n",
    "q.enqueue(\"hello\")\n",
    "q.enqueue(420)\n",
    "q.enqueue(\"what's up\")\n",
    "print(q.size())\n",
    "print(q.dequeue())            \n",
    "\n",
    "\n",
    "\n"
   ]
  },
  {
   "cell_type": "code",
   "execution_count": null,
   "metadata": {},
   "outputs": [],
   "source": [
    "class MycircularQueue:\n",
    "    def __init__(self,k:int):\n",
    "        self.k=k\n",
    "        self.s=[]\n",
    "    def enqueue(self,value:int)->bool:\n",
    "        if not self.isfull():\n",
    "            self.s.append(value) \n",
    "            return True\n",
    "        return False\n",
    "    def dequeue(self)->bool:\n",
    "        if not self.isEmpty():\n",
    "            self.s.pop(0)\n",
    "            return True\n",
    "        return False\n",
    "    def front(self)->int:\n",
    "        if not isEmpty():\n",
    "            return self.s[0]\n",
    "        return -1\n",
    "    def rear(self)->int:\n",
    "        if not isEmpty():\n",
    "            return self.s[-1]\n",
    "        return -1\n",
    "    def isfull(self)->int:\n",
    "        return len(self.s)==self.k \n",
    "    def isEmpty(self)->int:\n",
    "        return len(self.s)==0\n",
    "                                              "
   ]
  }
 ],
 "metadata": {
  "kernelspec": {
   "display_name": "Python 3",
   "language": "python",
   "name": "python3"
  },
  "language_info": {
   "codemirror_mode": {
    "name": "ipython",
    "version": 3
   },
   "file_extension": ".py",
   "mimetype": "text/x-python",
   "name": "python",
   "nbconvert_exporter": "python",
   "pygments_lexer": "ipython3",
   "version": "3.11.1"
  },
  "orig_nbformat": 4,
  "vscode": {
   "interpreter": {
    "hash": "22b6aa23ebdb95c31771a605332d65b96d6e70a70a8e5cf021766a53e709a3c7"
   }
  }
 },
 "nbformat": 4,
 "nbformat_minor": 2
}
