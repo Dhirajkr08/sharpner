{
 "cells": [
  {
   "cell_type": "code",
   "execution_count": 2,
   "metadata": {},
   "outputs": [
    {
     "name": "stdout",
     "output_type": "stream",
     "text": [
      "john 2\n"
     ]
    }
   ],
   "source": [
    "class student:\n",
    "    def __init__(self,name=\"john\",roll_no=2):\n",
    "        self.name=name\n",
    "        self.roll_no=roll_no\n",
    "s=student()\n",
    "print(s.name,s.roll_no)        \n"
   ]
  },
  {
   "cell_type": "code",
   "execution_count": 3,
   "metadata": {},
   "outputs": [
    {
     "name": "stdout",
     "output_type": "stream",
     "text": [
      "rahul\n",
      "21\n"
     ]
    }
   ],
   "source": [
    "class student:\n",
    "    def studentdetails(self,name,roll_no):\n",
    "        self.name=name\n",
    "        self.roll_no=roll_no\n",
    "    def studentattributes(self):\n",
    "        print(self.name)\n",
    "        print(self.roll_no)\n",
    "s=student()\n",
    "s.studentdetails(\"rahul\",21)\n",
    "s.studentattributes()            \n"
   ]
  },
  {
   "cell_type": "code",
   "execution_count": 18,
   "metadata": {},
   "outputs": [
    {
     "name": "stdout",
     "output_type": "stream",
     "text": [
      "12\n",
      "6.0\n"
     ]
    }
   ],
   "source": [
    "class triangle:\n",
    "    def calculatePerimeter(self,a,b,c):\n",
    "        perimeter=(a+b+c)\n",
    "        return perimeter\n",
    "    def calculateArea(self,a,b,c):\n",
    "        s=(a+b+c)/2\n",
    "        area=(s*(s-a)*(s-b)*(s-c))**0.5 \n",
    "        return area\n",
    "def main():\n",
    "    a=int(input()) \n",
    "    b=int(input())\n",
    "    c=int(input())       \n",
    "    t=triangle()\n",
    "    print(t.calculatePerimeter(a,b,c))\n",
    "    print(t.calculateArea(a,b,c)) \n",
    "main()                \n",
    "\n"
   ]
  },
  {
   "cell_type": "code",
   "execution_count": 21,
   "metadata": {},
   "outputs": [
    {
     "name": "stdout",
     "output_type": "stream",
     "text": [
      "robert 1994 64c-wallsStreat\n",
      "sam 2000 68D-wallsStreat\n",
      "john 1999 26B-wallsStreat\n"
     ]
    }
   ],
   "source": [
    "class Employee:\n",
    "    def __init__(self,name,year,address):\n",
    "        self.name=name\n",
    "        self.year=year\n",
    "        self.address=address\n",
    "    def printDetails(self):\n",
    "        print(self.name,self.year,self.address)\n",
    "e1=Employee(\"robert\",1994,\"64c-wallsStreat\")\n",
    "e1.printDetails()  \n",
    "e2=Employee(\"sam\",2000,\"68D-wallsStreat\")\n",
    "e3=Employee(\"john\",1999,\"26B-wallsStreat\")\n",
    "e2.printDetails()\n",
    "e3.printDetails()          "
   ]
  },
  {
   "cell_type": "code",
   "execution_count": 23,
   "metadata": {},
   "outputs": [
    {
     "name": "stdout",
     "output_type": "stream",
     "text": [
      "465.0\n"
     ]
    }
   ],
   "source": [
    "class Employee:\n",
    "    def getinfo(self,salary,working_hrs):\n",
    "        self.salary=salary\n",
    "        self.hours=working_hrs\n",
    "    def addsal(self):\n",
    "        if self.salary<500:\n",
    "            self.salary+=10\n",
    "         \n",
    "    def addwork(self):\n",
    "        if self.hours>6:\n",
    "            self.salary+=5\n",
    "def main():\n",
    "    salary=float(input(\"salary =\"))\n",
    "    working_hrs=int(input(\"hours =\")) \n",
    "    e=Employee()\n",
    "    e.getinfo(salary,working_hrs) \n",
    "    e.addsal()  \n",
    "    e.addwork()\n",
    "    print(e.salary)\n",
    "main()       \n"
   ]
  },
  {
   "cell_type": "code",
   "execution_count": 39,
   "metadata": {},
   "outputs": [
    {
     "name": "stdout",
     "output_type": "stream",
     "text": [
      "rj\n",
      "1\n"
     ]
    }
   ],
   "source": [
    "class obj_count:\n",
    "    count=0\n",
    "    def __init__(self,name):\n",
    "        self.name=name\n",
    "        obj_count.count+=1\n",
    "    def attributes(self):\n",
    "        print(self.name)    \n",
    "\n",
    "def main():\n",
    "    name=str(input()) \n",
    "    o=obj_count(name)           \n",
    "    o.attributes() \n",
    "    print(obj_count.count)   \n",
    "main()         \n",
    "      "
   ]
  },
  {
   "cell_type": "code",
   "execution_count": 57,
   "metadata": {},
   "outputs": [
    {
     "name": "stdout",
     "output_type": "stream",
     "text": [
      "this is rectangular shape\n",
      "square is rectangle\n",
      "this is Shape\n"
     ]
    }
   ],
   "source": [
    "class shape:\n",
    "    def printShape(self):\n",
    "        print(\"this is Shape\")\n",
    "class rectangle(shape):\n",
    "    def __init__(self):\n",
    "        print(\"this is rectangular shape\")\n",
    "class circular(shape):  \n",
    "    def __init__(self):\n",
    "        print(\"this is circular shape \")\n",
    "class square(rectangle):\n",
    "    def printSquare(self):\n",
    "        print(\"square is rectangle\")\n",
    "def main():\n",
    "    s=square()\n",
    "    s.printSquare()\n",
    "    s.printShape()\n",
    "main()                    \n",
    "                                            \n",
    "\n"
   ]
  },
  {
   "cell_type": "code",
   "execution_count": 53,
   "metadata": {},
   "outputs": [
    {
     "name": "stdout",
     "output_type": "stream",
     "text": [
      "this is boy\n",
      "this is student\n"
     ]
    }
   ],
   "source": [
    "class student:\n",
    "    def details(self):\n",
    "        print(\"this is student\")\n",
    "class boy(student):\n",
    "    def __init__(self):\n",
    "        print(\"this is boy\")   \n",
    "b=boy()\n",
    "b.details()             "
   ]
  },
  {
   "cell_type": "code",
   "execution_count": 66,
   "metadata": {},
   "outputs": [
    {
     "name": "stdout",
     "output_type": "stream",
     "text": [
      "this is Parent class\n",
      "This is child class\n",
      "this is Parent class\n"
     ]
    }
   ],
   "source": [
    "class PARENT:\n",
    "    def print(self):\n",
    "        print(\"this is Parent class\")\n",
    "class CHILD(PARENT):\n",
    "    def print(self):\n",
    "        print(\"This is child class\")\n",
    "        super().print()\n",
    "def main():\n",
    "    p=PARENT()\n",
    "    p.print()\n",
    "    c=CHILD()\n",
    "    c.print()\n",
    "main()             "
   ]
  },
  {
   "cell_type": "code",
   "execution_count": 71,
   "metadata": {},
   "outputs": [
    {
     "name": "stdout",
     "output_type": "stream",
     "text": [
      "rj\n",
      "cs\n",
      "$34500\n",
      "cj\n",
      "it\n",
      "$31000\n"
     ]
    }
   ],
   "source": [
    "class member:\n",
    "    def dataAttributes(self,name,age,number,address,salary):\n",
    "        self.name=name\n",
    "        self.age=age\n",
    "        self.number=number\n",
    "        self.address=address\n",
    "        self.salary=salary\n",
    "    def printSalary(self):\n",
    "        print(self.salary)\n",
    "class employee(member):\n",
    "    def __init__(self,name,age,number,address,salary,specialization):\n",
    "        self.specialization=specialization\n",
    "        super().dataAttributes(name,age,number,address,salary)\n",
    "    def printDetails(self):\n",
    "        print(self.name)\n",
    "        print(self.specialization)\n",
    "class manager(member):\n",
    "    def __init__(self,name,age,number,address,salary,department):\n",
    "        self.department=department\n",
    "        super().dataAttributes(name,age,number,address,salary)\n",
    "    def printDetails(self):\n",
    "        print(self.name)\n",
    "        print(self.department)\n",
    "e=employee(\"rj\",24,1234,\"44c\",\"$34500\",\"cs\")\n",
    "e.printDetails()\n",
    "e.printSalary() \n",
    "m=manager(\"cj\",23,3456,\"34c\",\"$31000\",\"it\")\n",
    "m.printDetails()\n",
    "m.printSalary()                       \n"
   ]
  },
  {
   "cell_type": "code",
   "execution_count": 74,
   "metadata": {},
   "outputs": [
    {
     "name": "stdout",
     "output_type": "stream",
     "text": [
      "4\n"
     ]
    }
   ],
   "source": [
    "class solution:\n",
    "    def binarySearch(self,nums:list[int],target:int)->int:\n",
    "        l=0\n",
    "        h=len(nums)-1\n",
    "        while l<=h:\n",
    "            mid=(l+h)//2\n",
    "            if nums[mid]==target:\n",
    "                return mid\n",
    "            elif nums[mid]>target:\n",
    "                h=mid-1\n",
    "            else:\n",
    "                l=mid+1\n",
    "        return-1                \n",
    "\n",
    "def main():\n",
    "    n=int(input())        \n",
    "    arr=[]\n",
    "    for i in range(n):\n",
    "        arr.append(int(input()))\n",
    "    s=solution()\n",
    "    k=int(input())\n",
    "    output=s.binarySearch(arr,k)  \n",
    "    print(output)\n",
    "main()      \n",
    "\n"
   ]
  },
  {
   "cell_type": "code",
   "execution_count": 76,
   "metadata": {},
   "outputs": [
    {
     "name": "stdout",
     "output_type": "stream",
     "text": [
      "2\n"
     ]
    }
   ],
   "source": [
    "class solution():\n",
    "    def peakElement(self,nums:list[int])->int:\n",
    "        l=0\n",
    "        h=len(nums)-1\n",
    "        while l<=h:\n",
    "            mid=(l+h)//2\n",
    "            if nums[mid]==nums[mid-1] and nums[mid]>nums[mid+1]:\n",
    "                return mid\n",
    "            elif nums[mid]>nums[mid+1]:\n",
    "                h=mid-1\n",
    "            else:\n",
    "                l=mid+1 \n",
    "        return l               \n",
    "def main():\n",
    "    n=int(input())\n",
    "    arr=[]\n",
    "    for i in range(n):\n",
    "        arr.append(int(input()))\n",
    "    s=solution()\n",
    "    output=s.peakElement(arr)\n",
    "    print(output)\n",
    "main()    \n",
    "\n"
   ]
  },
  {
   "cell_type": "code",
   "execution_count": 80,
   "metadata": {},
   "outputs": [
    {
     "name": "stdout",
     "output_type": "stream",
     "text": [
      "4\n"
     ]
    }
   ],
   "source": [
    "class solution:\n",
    "    def searchRotatedarray(self,nums:list[int],target:int)->int:\n",
    "        l=0\n",
    "        h=len(nums)-1\n",
    "        while l<=h:\n",
    "            mid=(l+h)//2\n",
    "            if nums[mid]==target:\n",
    "                return mid\n",
    "            elif nums[mid]>=nums[l]:\n",
    "                if target<=nums[mid] and target>=nums[l]:\n",
    "                    h=mid-1\n",
    "                else:\n",
    "                    l=mid+1\n",
    "            else:\n",
    "                if target>=nums[mid] and target<=nums[h]:\n",
    "                    l=mid+1\n",
    "                else:\n",
    "                    h=mid-1\n",
    "        return -1\n",
    "                                       \n",
    "\n",
    "def main():\n",
    "    n=int(input())\n",
    "    arr=[]\n",
    "    for i in range(n):\n",
    "        arr.append(int(input()))\n",
    "    s=solution()\n",
    "    target=int(input()) \n",
    "    output=s.searchRotatedarray(arr,target)\n",
    "    print(output)\n",
    "main()       \n"
   ]
  },
  {
   "cell_type": "code",
   "execution_count": 81,
   "metadata": {},
   "outputs": [
    {
     "name": "stdout",
     "output_type": "stream",
     "text": [
      "{1: 'geeks', 2: 'for', 3: 'geeks'}\n"
     ]
    }
   ],
   "source": [
    "dict={1:\"geeks\",2:\"for\",3:\"geeks\"}\n",
    "print(dict)"
   ]
  },
  {
   "cell_type": "code",
   "execution_count": 82,
   "metadata": {},
   "outputs": [
    {
     "name": "stdout",
     "output_type": "stream",
     "text": [
      "{'name': 'geeks', 1: [1, 2, 3, 4]}\n"
     ]
    }
   ],
   "source": [
    "dict={'name':\"geeks\",1:[1,2,3,4]}\n",
    "print(dict)"
   ]
  },
  {
   "cell_type": "code",
   "execution_count": 86,
   "metadata": {},
   "outputs": [
    {
     "ename": "TypeError",
     "evalue": "'dict' object is not callable",
     "output_type": "error",
     "traceback": [
      "\u001b[1;31m---------------------------------------------------------------------------\u001b[0m",
      "\u001b[1;31mTypeError\u001b[0m                                 Traceback (most recent call last)",
      "Cell \u001b[1;32mIn[86], line 1\u001b[0m\n\u001b[1;32m----> 1\u001b[0m Dict \u001b[39m=\u001b[39m \u001b[39mdict\u001b[39;49m([(\u001b[39m1\u001b[39;49m, \u001b[39m'\u001b[39;49m\u001b[39mGeeks\u001b[39;49m\u001b[39m'\u001b[39;49m), (\u001b[39m2\u001b[39;49m, \u001b[39m'\u001b[39;49m\u001b[39mFor\u001b[39;49m\u001b[39m'\u001b[39;49m)])\n\u001b[0;32m      2\u001b[0m \u001b[39mprint\u001b[39m(\u001b[39m\"\u001b[39m\u001b[39m\\n\u001b[39;00m\u001b[39mDictionary with each item as a pair: \u001b[39m\u001b[39m\"\u001b[39m)\n\u001b[0;32m      3\u001b[0m \u001b[39mprint\u001b[39m(Dict)\n",
      "\u001b[1;31mTypeError\u001b[0m: 'dict' object is not callable"
     ]
    }
   ],
   "source": [
    "Dict = dict([(1, 'Geeks'), (2, 'For')])\n",
    "print(\"\\nDictionary with each item as a pair: \")\n",
    "print(Dict)"
   ]
  },
  {
   "cell_type": "code",
   "execution_count": 89,
   "metadata": {},
   "outputs": [
    {
     "name": "stdout",
     "output_type": "stream",
     "text": [
      "{1: 'geeks', 2: 'for', 3: {'A': 'welcome', 'B': 'To', 'c': 'coding'}}\n"
     ]
    }
   ],
   "source": [
    "# nested Dictionary\n",
    "Dict={1:'geeks',2:'for',3:{'A':'welcome','B':'To','c':'coding'}}\n",
    "print(Dict)"
   ]
  },
  {
   "cell_type": "code",
   "execution_count": 94,
   "metadata": {},
   "outputs": [
    {
     "name": "stdout",
     "output_type": "stream",
     "text": [
      "for\n",
      "geeks\n"
     ]
    }
   ],
   "source": [
    "Dict={1:'geeks','name':'for',3:'geeks'}\n",
    "print(Dict['name'])\n",
    "print(Dict.get(3))"
   ]
  },
  {
   "cell_type": "code",
   "execution_count": 103,
   "metadata": {},
   "outputs": [
    {
     "name": "stdout",
     "output_type": "stream",
     "text": [
      "{1: 'python', 2: 'java'}\n",
      "{}\n",
      "python\n",
      "dict_items([(1, 'python'), (2, 'java')])\n",
      "dict_keys([1, 2])\n",
      "{1: 'python'}\n",
      "{}\n",
      "{3: 'hello'}\n",
      "dict_values(['hello'])\n"
     ]
    }
   ],
   "source": [
    "dict1={1:'python',2:'java'}\n",
    "dict2=dict1.copy()\n",
    "print(dict2)\n",
    "dict1.clear()\n",
    "print(dict1)\n",
    "print(dict2.get(1))\n",
    "print(dict2.items())\n",
    "print(dict2.keys())\n",
    "dict2.pop(2)\n",
    "print(dict2)\n",
    "dict2.popitem()\n",
    "print(dict2)\n",
    "dict2.update({3:'hello'})\n",
    "print(dict2)\n",
    "print(dict2.values())\n"
   ]
  },
  {
   "cell_type": "code",
   "execution_count": 1,
   "metadata": {},
   "outputs": [
    {
     "name": "stdout",
     "output_type": "stream",
     "text": [
      "0 1 \n"
     ]
    }
   ],
   "source": [
    "class solution:\n",
    "    def TwoSum(self,nums:list[int],target:int)->list[int]:\n",
    "        l={}\n",
    "        for i in range(len(nums)):\n",
    "            if target-nums[i] in l:\n",
    "                return [l[target-nums[i]],i]\n",
    "            else:\n",
    "                l[nums[i]]=i   \n",
    "def main():\n",
    "    n=int(input()) \n",
    "    arr=[]\n",
    "    for i in range(n):\n",
    "        arr.append(int(input()))\n",
    "    s=solution()\n",
    "    k=int(input())\n",
    "    output=s.TwoSum(arr,k)\n",
    "    for i in range(len(output)):\n",
    "        print(output[i],end=\" \")\n",
    "    print()\n",
    "main()        \n",
    "\n",
    "\n"
   ]
  },
  {
   "cell_type": "code",
   "execution_count": 2,
   "metadata": {},
   "outputs": [
    {
     "name": "stdout",
     "output_type": "stream",
     "text": [
      "2\n"
     ]
    }
   ],
   "source": [
    "class solution:\n",
    "    def findLuckyint(self,arr:list[int])->int:\n",
    "        maximum=-1\n",
    "        s=set(arr)\n",
    "        for i in s:\n",
    "            count=arr.count(i)\n",
    "            if count==i:\n",
    "                maximum=max(maximum,i)\n",
    "        return maximum\n",
    "def main():\n",
    "    n=int(input())\n",
    "    arr=[]\n",
    "    for i in range(n):\n",
    "        arr.append(int(input()))\n",
    "    s=solution()\n",
    "    output=s.findLuckyint(arr)\n",
    "    print(output) \n",
    "main()                       \n",
    "\n",
    "\n",
    "\n",
    "\n",
    "\n"
   ]
  },
  {
   "cell_type": "code",
   "execution_count": 6,
   "metadata": {},
   "outputs": [
    {
     "name": "stdout",
     "output_type": "stream",
     "text": [
      "vj 66\n",
      "rj 120\n",
      "sj 340\n",
      "mj 666\n"
     ]
    }
   ],
   "source": [
    "class Employee:\n",
    "    def __init__(self,name,salary):\n",
    "        self.name=name\n",
    "        self.salary=salary\n",
    "e1=Employee(\"rj\",120)\n",
    "e2=Employee('sj',340)\n",
    "e3=Employee('vj',66)\n",
    "e4=Employee('mj',666)\n",
    "emp=[e1,e2,e3,e4]\n",
    "def printSalary(Employee):\n",
    "    return Employee.salary\n",
    "emp.sort(key=printSalary)\n",
    "for Employee in emp:\n",
    "    print(Employee.name,Employee.salary) \n",
    "               \n"
   ]
  },
  {
   "cell_type": "code",
   "execution_count": 9,
   "metadata": {},
   "outputs": [
    {
     "name": "stdout",
     "output_type": "stream",
     "text": [
      "4\n"
     ]
    }
   ],
   "source": [
    "class solution:\n",
    "    def countPrime(self,n:int)->int:\n",
    "        if n<2:\n",
    "            return 0\n",
    "        p=[1]*n \n",
    "        p[0]=0\n",
    "        p[1]=0\n",
    "        for i in range(2,int(n**0.5)+1):\n",
    "            if p[i]!=0:\n",
    "                for j in range(i**2,n,i):\n",
    "                    p[j]=0\n",
    "        return sum(p)            \n",
    "def main():\n",
    "    n=int(input())\n",
    "    s=solution()\n",
    "    print(s.countPrime(n))\n",
    "main()                      \n"
   ]
  },
  {
   "cell_type": "code",
   "execution_count": 11,
   "metadata": {},
   "outputs": [
    {
     "name": "stdout",
     "output_type": "stream",
     "text": [
      "3\n"
     ]
    }
   ],
   "source": [
    "class solution:\n",
    "    def jewelsStone(self,jewels:str,stones:str)->int:\n",
    "        count=0\n",
    "        for i in range(len(jewels)):\n",
    "            for j in range(i,len(stones)):\n",
    "                if jewels[i]==stones[j]:\n",
    "                    count+=1\n",
    "        return count\n",
    "def main():\n",
    "    n=input()\n",
    "    s=solution()\n",
    "    k=(input()) \n",
    "    output=s.jewelsStone(n,k)\n",
    "    print(output)\n",
    "main()                       \n"
   ]
  }
 ],
 "metadata": {
  "kernelspec": {
   "display_name": "Python 3",
   "language": "python",
   "name": "python3"
  },
  "language_info": {
   "codemirror_mode": {
    "name": "ipython",
    "version": 3
   },
   "file_extension": ".py",
   "mimetype": "text/x-python",
   "name": "python",
   "nbconvert_exporter": "python",
   "pygments_lexer": "ipython3",
   "version": "3.11.1 (tags/v3.11.1:a7a450f, Dec  6 2022, 19:58:39) [MSC v.1934 64 bit (AMD64)]"
  },
  "orig_nbformat": 4,
  "vscode": {
   "interpreter": {
    "hash": "f1349afab0fcd502e634e282abd40fedb2831892829b7733385d2e4290794b19"
   }
  }
 },
 "nbformat": 4,
 "nbformat_minor": 2
}
