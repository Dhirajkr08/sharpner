{
 "cells": [
  {
   "cell_type": "code",
   "execution_count": 1,
   "metadata": {},
   "outputs": [
    {
     "name": "stdout",
     "output_type": "stream",
     "text": [
      "8\n"
     ]
    }
   ],
   "source": [
    "class solution:\n",
    "    def hammingweigh(self,n:int)->int:\n",
    "        count=0\n",
    "        while n:\n",
    "            n=n&(n-1)\n",
    "            count+=1\n",
    "        return count\n",
    "def main():\n",
    "    n=int(input())\n",
    "    s=solution()\n",
    "    print(s.hammingweigh(n))\n",
    "main()                "
   ]
  },
  {
   "cell_type": "code",
   "execution_count": 2,
   "metadata": {},
   "outputs": [
    {
     "name": "stdout",
     "output_type": "stream",
     "text": [
      "true\n"
     ]
    }
   ],
   "source": [
    "class solution:\n",
    "    def alternatebits(self,n:int)->bool:\n",
    "        num=bin(n)\n",
    "        for i in range(1,len(num)):\n",
    "            if num[i-1]==num[i]:\n",
    "                return False\n",
    "        return True\n",
    "def main():\n",
    "    n=int(input()) \n",
    "    s=solution()\n",
    "    output=s.alternatebits(n)\n",
    "    if output:\n",
    "        print(\"true\") \n",
    "    else:\n",
    "        print(\"false\")\n",
    "main()                       \n"
   ]
  },
  {
   "cell_type": "code",
   "execution_count": 4,
   "metadata": {},
   "outputs": [
    {
     "name": "stdout",
     "output_type": "stream",
     "text": [
      "1a\n"
     ]
    }
   ],
   "source": [
    "class solution:\n",
    "    def numTohex(self,num:int)->str:\n",
    "        if num ==0:return '0'\n",
    "        m='0123456789abcdef'\n",
    "        ans=''\n",
    "        for i in range(8):\n",
    "            ans=m[num%16]+ans\n",
    "            num//=16\n",
    "        return ans.lstrip('0')\n",
    "def main():\n",
    "    num=int(input())\n",
    "    s=solution()\n",
    "    print(s.numTohex(num))\n",
    "main()\n"
   ]
  },
  {
   "cell_type": "code",
   "execution_count": 8,
   "metadata": {},
   "outputs": [
    {
     "name": "stdout",
     "output_type": "stream",
     "text": [
      "[0, 1, 2, 4, 8, 3, 5, 6, 7]\n"
     ]
    }
   ],
   "source": [
    "class solution:\n",
    "    def sortInt(self,arr:list[int])->list[int]:\n",
    "        list=[]\n",
    "        for i in arr:\n",
    "            b=bin(i)\n",
    "            list.append([b.count('1'),i])\n",
    "        list.sort()\n",
    "        ans=[]\n",
    "        for b,i in list:\n",
    "            ans.append(i)\n",
    "        return ans        \n",
    "def main():\n",
    "    n=int(input()) \n",
    "    arr=[]\n",
    "    for i in range(n):\n",
    "        arr.append(int(input())) \n",
    "    s=solution()\n",
    "    print(s.sortInt(arr))\n",
    "main()                     \n"
   ]
  },
  {
   "cell_type": "code",
   "execution_count": 9,
   "metadata": {},
   "outputs": [
    {
     "name": "stdout",
     "output_type": "stream",
     "text": [
      "3\n"
     ]
    }
   ],
   "source": [
    "class solution:\n",
    "    def divide(self,dividend:int,divisor:int)->int:\n",
    "        a=int(dividend/divisor)\n",
    "        if a>2147483647:\n",
    "            return 2147483647\n",
    "        elif a<-2147483648:\n",
    "            return 2147483648\n",
    "        return a\n",
    "def main():\n",
    "    n=int(input())\n",
    "    s=solution()\n",
    "    k=int(input())\n",
    "    print(s.divide(n,k)) \n",
    "main()                   "
   ]
  },
  {
   "cell_type": "code",
   "execution_count": 12,
   "metadata": {},
   "outputs": [
    {
     "name": "stdout",
     "output_type": "stream",
     "text": [
      "6\n"
     ]
    }
   ],
   "source": [
    "class solution:\n",
    "    def maxnoWord(self,sentence:list[str])->int:\n",
    "        maximum=0\n",
    "        for i in (sentence):\n",
    "            i=i.split()\n",
    "            maximum=max(maximum,len(i))\n",
    "        return maximum\n",
    "def main():\n",
    "    n=int(input()) \n",
    "    arr=[]\n",
    "    for i in range(n):\n",
    "        arr.append((input()))\n",
    "    s=solution()\n",
    "    print(s.maxnoWord(arr))\n",
    "main()    \n",
    "\n"
   ]
  }
 ],
 "metadata": {
  "kernelspec": {
   "display_name": "Python 3",
   "language": "python",
   "name": "python3"
  },
  "language_info": {
   "codemirror_mode": {
    "name": "ipython",
    "version": 3
   },
   "file_extension": ".py",
   "mimetype": "text/x-python",
   "name": "python",
   "nbconvert_exporter": "python",
   "pygments_lexer": "ipython3",
   "version": "3.11.1"
  },
  "orig_nbformat": 4,
  "vscode": {
   "interpreter": {
    "hash": "f1349afab0fcd502e634e282abd40fedb2831892829b7733385d2e4290794b19"
   }
  }
 },
 "nbformat": 4,
 "nbformat_minor": 2
}
