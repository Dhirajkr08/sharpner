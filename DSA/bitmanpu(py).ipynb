{
 "cells": [
  {
   "cell_type": "code",
   "execution_count": 2,
   "metadata": {},
   "outputs": [
    {
     "name": "stdout",
     "output_type": "stream",
     "text": [
      "1\n",
      "2\n",
      "3\n",
      "4\n",
      "5\n",
      "6\n",
      "7\n"
     ]
    }
   ],
   "source": [
    "# sorting element in array\n",
    "def sort(n):\n",
    "    arr=[]\n",
    "    for i in range(1,n+1):\n",
    "        arr.append(i)\n",
    "    return arr\n",
    "def main():\n",
    "    n=int(input())\n",
    "    output=sort(n)\n",
    "    for i in range(n):\n",
    "        print(output[i])\n",
    "main()            \n"
   ]
  },
  {
   "cell_type": "code",
   "execution_count": 3,
   "metadata": {},
   "outputs": [
    {
     "name": "stdout",
     "output_type": "stream",
     "text": [
      "7\n"
     ]
    }
   ],
   "source": [
    "def findmax(arr,length):\n",
    "    maximum=arr[0]\n",
    "    for i in range(len(arr)):\n",
    "        if arr[i]>maximum:\n",
    "            maximum=arr[i]\n",
    "    return maximum\n",
    "def main():\n",
    "    n=int(input())\n",
    "    arr=[]\n",
    "    for i in range(n):\n",
    "        arr.append(int(input()))\n",
    "    print(findmax(arr,n)) \n",
    "main()                   \n"
   ]
  },
  {
   "cell_type": "code",
   "execution_count": 4,
   "metadata": {},
   "outputs": [
    {
     "name": "stdout",
     "output_type": "stream",
     "text": [
      "-2\n"
     ]
    }
   ],
   "source": [
    "def findmin(arr,length):\n",
    "    minimum=arr[0]\n",
    "    for i in range(len(arr)):\n",
    "        if arr[i]<minimum:\n",
    "            minimum=arr[i]\n",
    "    return minimum\n",
    "def main():\n",
    "    n=int(input()) \n",
    "    arr=[]\n",
    "    for i in range(n):\n",
    "        arr.append(int(input()))\n",
    "    print(findmin(arr,n)) \n",
    "main()                  "
   ]
  },
  {
   "cell_type": "code",
   "execution_count": 6,
   "metadata": {},
   "outputs": [
    {
     "name": "stdout",
     "output_type": "stream",
     "text": [
      "2\n",
      "3\n",
      "5\n",
      "7\n",
      "11\n"
     ]
    }
   ],
   "source": [
    "def primenumber(n):\n",
    "    x=2\n",
    "    num=str(n)\n",
    "    count=0\n",
    "    arr=[]\n",
    "    while len(arr)<n:\n",
    "        flag=1\n",
    "        for i in range(2,x):\n",
    "            if x%i==0:\n",
    "                flag=0\n",
    "                break\n",
    "        if flag==1:\n",
    "            arr.append(x)\n",
    "            count+=1\n",
    "        if count==n:\n",
    "            break\n",
    "        x+=1\n",
    "    return arr    \n",
    "\n",
    "def main():\n",
    "    n=int(input()) \n",
    "    output=primenumber(n)\n",
    "    for i in range(n):\n",
    "        print(output[i]) \n",
    "main()              \n",
    "\n",
    "\n",
    "\n"
   ]
  },
  {
   "cell_type": "code",
   "execution_count": 10,
   "metadata": {},
   "outputs": [
    {
     "name": "stdout",
     "output_type": "stream",
     "text": [
      "1 \n",
      "1 2 \n",
      "1 2 3 \n",
      "1 2 3 4 \n",
      "1 2 3 4 5 \n",
      "2 \n",
      "2 3 \n",
      "2 3 4 \n",
      "2 3 4 5 \n",
      "3 \n",
      "3 4 \n",
      "3 4 5 \n",
      "4 \n",
      "4 5 \n",
      "5 \n"
     ]
    }
   ],
   "source": [
    "def subarray(arr,length):\n",
    "    for i in range(len(arr)):\n",
    "        for j in range(i,len(arr)):\n",
    "            for k in range(i,j+1):\n",
    "                print(arr[k],end=\" \")\n",
    "            print()\n",
    "def main():\n",
    "    n=int(input())\n",
    "    arr=[]\n",
    "    for i in range(n):\n",
    "        arr.append(int(input()))\n",
    "    output=subarray(arr,n)\n",
    "main()                           \n"
   ]
  },
  {
   "cell_type": "code",
   "execution_count": 16,
   "metadata": {},
   "outputs": [
    {
     "name": "stdout",
     "output_type": "stream",
     "text": [
      "8\n"
     ]
    }
   ],
   "source": [
    "def findmaxsum(arr,length):\n",
    "    maxsum=arr[0]\n",
    "    for i in range(len(arr)):\n",
    "        for j in range(i,len(arr)):\n",
    "            sum=0\n",
    "            for k in range(i,j+1):\n",
    "                sum+=arr[k]\n",
    "                if sum>maxsum:\n",
    "                    maxsum=sum\n",
    "    return maxsum                \n",
    "\n",
    "def main():\n",
    "    arr=[]\n",
    "    n=int(input())\n",
    "    for i in range(n):\n",
    "        arr.append(int(input()))\n",
    "    print(findmaxsum(arr,n))\n",
    "main()                        \n"
   ]
  },
  {
   "cell_type": "code",
   "execution_count": 18,
   "metadata": {},
   "outputs": [
    {
     "name": "stdout",
     "output_type": "stream",
     "text": [
      "1\n",
      "3\n",
      "6\n",
      "10\n",
      "\n"
     ]
    }
   ],
   "source": [
    "# running sum:\n",
    "class solution:\n",
    "    def runningsum(self,nums:list[int])->list[int]:\n",
    "        for i in range(1,len(nums)):\n",
    "            nums[i]+=nums[i-1]\n",
    "        return nums\n",
    "def main():\n",
    "    n=int(input()) \n",
    "    arr=[]\n",
    "    for i in range(n):\n",
    "        arr.append(int(input()))\n",
    "    s=solution()\n",
    "    output=s.runningsum(arr)\n",
    "    for i in range(n):\n",
    "        print(output[i])\n",
    "    print()\n",
    "main()        \n",
    "\n",
    "\n",
    "\n"
   ]
  },
  {
   "cell_type": "code",
   "execution_count": 22,
   "metadata": {},
   "outputs": [
    {
     "name": "stdout",
     "output_type": "stream",
     "text": [
      "6\n"
     ]
    }
   ],
   "source": [
    "class solution:\n",
    "    def richestcustomer(self,accounts:list[list[int]])->int:\n",
    "        maximum=0\n",
    "        for i in range(len(accounts)):\n",
    "            total=sum(accounts[i])\n",
    "            maximum=max(maximum,total)\n",
    "        return maximum    \n",
    "def main():\n",
    "    n=int(input())\n",
    "    arr=[]\n",
    "    for i in range(n):\n",
    "        c=int(input())\n",
    "        arr_c=[]\n",
    "        for j in range(c):\n",
    "            arr_c.append(int(input()))\n",
    "        arr.append(arr_c) \n",
    "    s=solution()       \n",
    "    print(s.richestcustomer(arr))\n",
    "main()    \n",
    "\n",
    "\n"
   ]
  },
  {
   "cell_type": "code",
   "execution_count": 25,
   "metadata": {},
   "outputs": [
    {
     "name": "stdout",
     "output_type": "stream",
     "text": [
      "58\n"
     ]
    }
   ],
   "source": [
    "class solution:\n",
    "    def sumodd(self,arr:list[int])->int:\n",
    "        r=0\n",
    "        for i in range(len(arr)):\n",
    "            c=0\n",
    "            for j in range(i,len(arr)):\n",
    "                c+=arr[j]\n",
    "                if (j-i)%2==0:\n",
    "                    r+=c\n",
    "        return r            \n",
    "def main():\n",
    "    n=int(input()) \n",
    "    arr=[]\n",
    "    for i in range(n):\n",
    "        arr.append(int(input())) \n",
    "    s=solution()\n",
    "    print(s.sumodd(arr))\n",
    "main()                          "
   ]
  },
  {
   "cell_type": "code",
   "execution_count": 31,
   "metadata": {},
   "outputs": [
    {
     "name": "stdout",
     "output_type": "stream",
     "text": [
      "5 6 3 1 2 3 4 \n"
     ]
    }
   ],
   "source": [
    "class solution:\n",
    "    def rotateSubarray(self,nums:list[int],k:int)->list[int]:\n",
    "        for i in range(k):\n",
    "            num=nums.pop()\n",
    "            nums.insert(0,num)\n",
    "def main():\n",
    "    n=int(input())\n",
    "    arr=[]\n",
    "    for i in range(n):\n",
    "        arr.append(int(input()))\n",
    "    s=solution()\n",
    "    k=int(input())\n",
    "    s.rotateSubarray(arr,k)\n",
    "    for i in range(n):\n",
    "        print(arr[i],end=\" \")\n",
    "    print()\n",
    "main()                               \n",
    "\n",
    "\n",
    "\n",
    "    \n",
    "\n",
    "\n",
    "\n"
   ]
  },
  {
   "cell_type": "code",
   "execution_count": 34,
   "metadata": {},
   "outputs": [
    {
     "name": "stdout",
     "output_type": "stream",
     "text": [
      "5\n",
      "4\n",
      "3\n",
      "2\n",
      "1\n"
     ]
    }
   ],
   "source": [
    "\n",
    "def bubblesort(arr,length):\n",
    "    for i in range(len(arr)-1):\n",
    "        for j in range(len(arr)-1-i):\n",
    "            if arr[j]<arr[j+1]:\n",
    "                d=arr[j]\n",
    "                arr[j]=arr[j+1]\n",
    "                arr[j+1]=d\n",
    "    return arr\n",
    "def main():                  \n",
    "    n=int(input())\n",
    "    arr=[]\n",
    "    for i in range(n):\n",
    "        arr.append(int(input()))\n",
    "    output=bubblesort(arr,n)\n",
    "    for i in range(n):\n",
    "        print(output[i])\n",
    "main()        \n",
    "\n",
    "\n"
   ]
  },
  {
   "cell_type": "code",
   "execution_count": 45,
   "metadata": {},
   "outputs": [
    {
     "name": "stdout",
     "output_type": "stream",
     "text": [
      "1\n",
      "2\n",
      "3\n",
      "4\n",
      "5\n"
     ]
    }
   ],
   "source": [
    "# insertion sort\n",
    "def insertion(arr,length):\n",
    "    for i in range(len(arr)):\n",
    "        temp=arr[i]\n",
    "        j=i-1\n",
    "        while j>=0 and temp<arr[j]:\n",
    "            arr[j+1]=arr[j]\n",
    "            j-=1\n",
    "        arr[j+1]=temp    \n",
    "    return arr\n",
    "def main():\n",
    "    n=int(input())\n",
    "    arr=[]\n",
    "    for i in range(n):\n",
    "        arr.append(int(input()))\n",
    "    output=insertion(arr,n)\n",
    "    for i in range(n):\n",
    "        print(output[i])\n",
    "main()                               \n",
    "\n"
   ]
  },
  {
   "cell_type": "code",
   "execution_count": 48,
   "metadata": {},
   "outputs": [
    {
     "name": "stdout",
     "output_type": "stream",
     "text": [
      "1\n",
      "2\n",
      "3\n",
      "4\n",
      "5\n"
     ]
    }
   ],
   "source": [
    "#selection sort\n",
    "def selection(arr,length):\n",
    "    for i in range(len(arr)):\n",
    "        temp=i\n",
    "        for j in range(i,len(arr)):\n",
    "            if arr[temp]>arr[j]:\n",
    "                temp=j\n",
    "        d=arr[i]\n",
    "        arr[i]=arr[temp]\n",
    "        arr[temp]=d\n",
    "    return arr\n",
    "                \n",
    "\n",
    "def main():\n",
    "    n=int(input()) \n",
    "    arr=[]\n",
    "    for i in range(n):\n",
    "        arr.append(int(input())) \n",
    "    output=selection(arr,n) \n",
    "    for i in range(n):\n",
    "        print(output[i])\n",
    "main()\n",
    "\n"
   ]
  },
  {
   "cell_type": "code",
   "execution_count": 49,
   "metadata": {},
   "outputs": [
    {
     "name": "stdout",
     "output_type": "stream",
     "text": [
      "8\n"
     ]
    }
   ],
   "source": [
    "class solution:\n",
    "    def hammingweigh(self,n:int)->int:\n",
    "        count=0\n",
    "        while n:\n",
    "            n=n&(n-1)\n",
    "            count+=1\n",
    "        return count\n",
    "def main():\n",
    "    n=int(input())\n",
    "    s=solution()\n",
    "    print(s.hammingweigh(n))\n",
    "main()                "
   ]
  },
  {
   "cell_type": "code",
   "execution_count": 57,
   "metadata": {},
   "outputs": [
    {
     "name": "stdout",
     "output_type": "stream",
     "text": [
      "true\n"
     ]
    }
   ],
   "source": [
    "class solution:\n",
    "    def alternateBits(self,n:int)->bool:\n",
    "        n=bin(n)\n",
    "        for i in range(1,len(n)):\n",
    "            if n[i]==n[i-1]:\n",
    "                return False\n",
    "        return True                \n",
    "def main():\n",
    "    n=int(input()) \n",
    "    s=solution()\n",
    "    output=s.alternateBits(n)\n",
    "    if output:\n",
    "        print(\"true\")\n",
    "    else:\n",
    "        print(\"false\")\n",
    "main()                           "
   ]
  },
  {
   "cell_type": "code",
   "execution_count": 55,
   "metadata": {},
   "outputs": [
    {
     "name": "stdout",
     "output_type": "stream",
     "text": [
      "1a\n"
     ]
    }
   ],
   "source": [
    "class solution:\n",
    "    def hexTodec(self,num:int)->str:\n",
    "        if num==0:return '0'\n",
    "        m='0123456789abcdef'\n",
    "        ans=''\n",
    "        for i in range(8):\n",
    "            ans=m[num%16]+ans\n",
    "            num//=16\n",
    "        return ans.lstrip('0')    \n",
    "def main():\n",
    "    num=int(input())\n",
    "    s=solution()\n",
    "    print(s.hexTodec(num)) \n",
    "main()               "
   ]
  },
  {
   "cell_type": "code",
   "execution_count": 60,
   "metadata": {},
   "outputs": [
    {
     "name": "stdout",
     "output_type": "stream",
     "text": [
      "0\n",
      "1\n",
      "2\n",
      "4\n",
      "8\n",
      "3\n",
      "5\n",
      "6\n",
      "7\n"
     ]
    }
   ],
   "source": [
    "class solution():\n",
    "    def sortArr(self,arr:list[int])->list[int]:\n",
    "        list=[]\n",
    "        for i in arr:\n",
    "            b=bin(i)\n",
    "            list.append([b.count('1'),i])\n",
    "        list.sort()    \n",
    "        ans=[]\n",
    "        for b,i in list:\n",
    "            ans.append(i)\n",
    "        return ans\n",
    "            \n",
    "\n",
    "\n",
    "\n",
    "def main():\n",
    "    n=int(input())\n",
    "    arr=[]\n",
    "    for i in range(n):\n",
    "        arr.append(int(input()))\n",
    "    s=solution()\n",
    "    output=s.sortArr(arr)\n",
    "    for i in range(n):\n",
    "        print(output[i]) \n",
    "main()       \n"
   ]
  },
  {
   "cell_type": "code",
   "execution_count": 61,
   "metadata": {},
   "outputs": [
    {
     "name": "stdout",
     "output_type": "stream",
     "text": [
      "3\n"
     ]
    }
   ],
   "source": [
    "class solution:\n",
    "    def divideTwoint(self,dividend:int,divisor:int)->int:\n",
    "        solution=int(dividend/divisor)\n",
    "        if solution>2147483647:\n",
    "            return 2147483647\n",
    "        elif solution <-2147483648:\n",
    "            return -2147483648\n",
    "        else:\n",
    "            return solution\n",
    "def main():\n",
    "    n=int(input())\n",
    "    s=solution()\n",
    "    print(s.divideTwoint(n,int(input())))\n",
    "main()    \n"
   ]
  },
  {
   "cell_type": "code",
   "execution_count": 63,
   "metadata": {},
   "outputs": [],
   "source": [
    "class solution:\n",
    "    def maxword(self,sentence:list[str])->int:\n",
    "        maximum=0\n",
    "        for i in sentence:\n",
    "            i=i.split()\n",
    "            maximum=max(maximum,len(i))\n",
    "        return maximum    \n",
    "def main():\n",
    "    n=int(input())\n",
    "    arr=[]\n",
    "    for i in range(n):\n",
    "        arr.append(input()) \n",
    "    s=solution()\n",
    "    print(s.maxword(arr))\n",
    "main()                   \n"
   ]
  },
  {
   "cell_type": "code",
   "execution_count": null,
   "metadata": {},
   "outputs": [],
   "source": []
  },
  {
   "cell_type": "code",
   "execution_count": null,
   "metadata": {},
   "outputs": [],
   "source": []
  }
 ],
 "metadata": {
  "kernelspec": {
   "display_name": "Python 3",
   "language": "python",
   "name": "python3"
  },
  "language_info": {
   "codemirror_mode": {
    "name": "ipython",
    "version": 3
   },
   "file_extension": ".py",
   "mimetype": "text/x-python",
   "name": "python",
   "nbconvert_exporter": "python",
   "pygments_lexer": "ipython3",
   "version": "3.11.1 (tags/v3.11.1:a7a450f, Dec  6 2022, 19:58:39) [MSC v.1934 64 bit (AMD64)]"
  },
  "orig_nbformat": 4,
  "vscode": {
   "interpreter": {
    "hash": "f1349afab0fcd502e634e282abd40fedb2831892829b7733385d2e4290794b19"
   }
  }
 },
 "nbformat": 4,
 "nbformat_minor": 2
}
