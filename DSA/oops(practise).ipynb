{
 "cells": [
  {
   "cell_type": "code",
   "execution_count": 27,
   "metadata": {},
   "outputs": [
    {
     "name": "stdout",
     "output_type": "stream",
     "text": [
      "john 23a\n"
     ]
    }
   ],
   "source": [
    "#oops questions\n",
    "class Student:\n",
    "    def __init__(self,name=\"john\",rollno=\"23a\")->str:\n",
    "        self.name=name\n",
    "        self.rollno=rollno\n",
    "        \n",
    "        \n",
    "s1=Student()\n",
    "print(s1.name,s1.rollno)\n",
    "\n"
   ]
  },
  {
   "cell_type": "code",
   "execution_count": 19,
   "metadata": {},
   "outputs": [
    {
     "name": "stdout",
     "output_type": "stream",
     "text": [
      "Dhiraj 8\n"
     ]
    }
   ],
   "source": [
    "class Student:\n",
    "    def __init__(self,name,rollno):\n",
    "        self.name=name\n",
    "        self.rollno=rollno\n",
    "name=str(input())\n",
    "rollno=int(input())\n",
    "s=Student(name,rollno)\n",
    "print(s.name,s.rollno)\n",
    "\n"
   ]
  },
  {
   "cell_type": "code",
   "execution_count": 24,
   "metadata": {},
   "outputs": [],
   "source": [
    "class student:\n",
    "    def __init__(self,name,rollno):\n",
    "        print(self.name,self.rollno)\n",
    "student=(\"Dj\",23)\n",
    "\n",
    "        "
   ]
  },
  {
   "cell_type": "code",
   "execution_count": 33,
   "metadata": {},
   "outputs": [
    {
     "name": "stdout",
     "output_type": "stream",
     "text": [
      "perimeter = 12\n",
      "Area = 6.0\n"
     ]
    }
   ],
   "source": [
    "class Triangle:\n",
    "    def findPerimeter(self,a,b,c):\n",
    "        perimeter=a+b+c\n",
    "        return perimeter\n",
    "    def calculateArea(self,a,b,c):\n",
    "        s=(a+b+c)/2\n",
    "        area=(s*(s-a)*(s-b)*(s-c))**0.5\n",
    "        return area\n",
    "def main():\n",
    "    a=int(input(\"a =\"))\n",
    "    b=int(input(\"b =\"))\n",
    "    c=int(input(\"c =\"))\n",
    "    T=Triangle() \n",
    "    print(\"perimeter =\",T.findPerimeter(a,b,c))\n",
    "    print(\"Area =\",T.calculateArea(a,b,c)) \n",
    "main() "
   ]
  },
  {
   "cell_type": "code",
   "execution_count": 32,
   "metadata": {},
   "outputs": [
    {
     "name": "stdout",
     "output_type": "stream",
     "text": [
      "12\n",
      "6.0\n"
     ]
    }
   ],
   "source": [
    "class triangle:\n",
    "    def findPerimeter(self,a,b,c):\n",
    "        s=a+b+c\n",
    "        return s\n",
    "    def calculatearea(self,a,b,c):\n",
    "        s=(a+b+c)/2\n",
    "        area=(s*(s-a)*(s-b)*(s-c))**0.5\n",
    "        return area\n",
    "a=int(input(\"a =\"))\n",
    "b=int(input(\"b =\"))\n",
    "c=int(input(\"c =\"))\n",
    "t=triangle()\n",
    "print(t.findPerimeter(a,b,c))\n",
    "print(t.calculatearea(a,b,c))\n",
    "\n"
   ]
  },
  {
   "cell_type": "code",
   "execution_count": 36,
   "metadata": {},
   "outputs": [
    {
     "name": "stdout",
     "output_type": "stream",
     "text": [
      "Sam 2000 68D-wallStreet\n",
      "Robert 1994 64c-wallsStreet\n",
      "john 1999 26B-wallsStreet\n"
     ]
    }
   ],
   "source": [
    "class Employee:\n",
    "    def employeedetails(self,name,year,address):\n",
    "        self.name=name\n",
    "        self.year=year\n",
    "        self.address=address\n",
    "    def printemployee(self):\n",
    "        print(self.name,self.year,self.address)\n",
    "e1=Employee()\n",
    "e1.employeedetails(\"Sam\",2000,\"68D-wallStreet\")\n",
    "e1.printemployee()\n",
    "e2=Employee()\n",
    "e2.employeedetails(\"Robert\",1994,\"64c-wallsStreet\")\n",
    "e2.printemployee()\n",
    "e3=Employee()\n",
    "e3.employeedetails(\"john\",1999,\"26B-wallsStreet\")\n",
    "e3.printemployee()\n",
    "\n"
   ]
  },
  {
   "cell_type": "code",
   "execution_count": 37,
   "metadata": {},
   "outputs": [
    {
     "name": "stdout",
     "output_type": "stream",
     "text": [
      "sam 2000 64C-WallsStreat\n"
     ]
    }
   ],
   "source": [
    "class Employee:\n",
    "    def __init__(self,name,year,address):\n",
    "        print(name,year,address)\n",
    "E1=Employee(\"sam\",2000,\"64C-WallsStreat\")\n",
    "\n"
   ]
  },
  {
   "cell_type": "code",
   "execution_count": 41,
   "metadata": {},
   "outputs": [
    {
     "name": "stdout",
     "output_type": "stream",
     "text": [
      "365.0\n"
     ]
    }
   ],
   "source": [
    "class Employee:\n",
    "\n",
    "    def getinfo(self,salary,workhrs):\n",
    "        self.salary=salary\n",
    "        self.workhrs=workhrs\n",
    "    def addSal(self):\n",
    "        if self.salary<500:\n",
    "            self.salary=self.salary+10\n",
    "        return self.salary\n",
    "    def addWork(self):\n",
    "        if self.workhrs>6:\n",
    "            self.salary=self.salary+5\n",
    "        return self.salary\n",
    "    def printSalary(self):\n",
    "        print(self.salary)\n",
    "salary=float(input())\n",
    "workhrs=int(input())            \n",
    "emp1=Employee()\n",
    "emp1.getinfo(salary,workhrs)\n",
    "emp1.addSal()\n",
    "emp1.addWork()\n",
    "emp1.printSalary()                     "
   ]
  },
  {
   "cell_type": "code",
   "execution_count": 44,
   "metadata": {},
   "outputs": [
    {
     "name": "stdout",
     "output_type": "stream",
     "text": [
      "Dhiraj 24\n",
      "1\n"
     ]
    }
   ],
   "source": [
    "class cnt_object:\n",
    "    count=0\n",
    "    def __init__(self,name,age):\n",
    "        self.name=name\n",
    "        self.age=age\n",
    "        cnt_object.count+=1\n",
    "    def print(self):\n",
    "        print(self.name,self.age)\n",
    "e=cnt_object(\"Dhiraj\",24) \n",
    "e.print()\n",
    "print(cnt_object.count)           \n"
   ]
  },
  {
   "cell_type": "code",
   "execution_count": 49,
   "metadata": {},
   "outputs": [
    {
     "name": "stdout",
     "output_type": "stream",
     "text": [
      "24\n",
      "1\n"
     ]
    }
   ],
   "source": [
    "class obj_cnt:\n",
    "    count=0\n",
    "    def __init__(self,age):\n",
    "        print(age)\n",
    "        obj_cnt.count+=1\n",
    "m=obj_cnt(24)\n",
    "print(obj_cnt.count)\n",
    "\n",
    "\n"
   ]
  },
  {
   "cell_type": "code",
   "execution_count": 50,
   "metadata": {},
   "outputs": [
    {
     "name": "stdout",
     "output_type": "stream",
     "text": [
      "this is Shape\n",
      "This is rectangle shape\n",
      "Square is rectangle\n"
     ]
    }
   ],
   "source": [
    "class shape:\n",
    "    def printShape(self):\n",
    "        print(\"this is Shape\")\n",
    "class Rectangle(shape):\n",
    "    def rectangleShape(self):\n",
    "        print(\"This is rectangle shape\")\n",
    "class circle(shape):\n",
    "    def circularShape(self):\n",
    "        print(\"this is circular shape\")\n",
    "class square(Rectangle):\n",
    "    def sqShape(self):\n",
    "        print(\"Square is rectangle\")\n",
    "s=square()\n",
    "s.printShape()\n",
    "s.rectangleShape()\n",
    "s.sqShape()                        \n"
   ]
  },
  {
   "cell_type": "code",
   "execution_count": 53,
   "metadata": {},
   "outputs": [
    {
     "name": "stdout",
     "output_type": "stream",
     "text": [
      "this is child class\n",
      "This is Parent class\n"
     ]
    }
   ],
   "source": [
    "class Parent:\n",
    "    def Parentclass(self):\n",
    "        print(\"This is Parent class\")\n",
    "class child(Parent):\n",
    "    def childClass(self):\n",
    "        print(\"this is child class\")\n",
    "c=child()\n",
    "c=child()\n",
    "c.childClass()\n",
    "c.Parentclass()\n",
    "\n",
    "\n"
   ]
  },
  {
   "cell_type": "code",
   "execution_count": 14,
   "metadata": {},
   "outputs": [
    {
     "name": "stdout",
     "output_type": "stream",
     "text": [
      "raj\n",
      "backend\n",
      "$250\n",
      "jar\n",
      "backend\n",
      "$450\n"
     ]
    }
   ],
   "source": [
    "class Member:\n",
    "    def __init__(self,name,age,number,address,salary):\n",
    "        self.name=name\n",
    "        self.age=age\n",
    "        self.number=number\n",
    "        self.address=address\n",
    "        self.salary=salary\n",
    "    def printAttributes(self):\n",
    "        print(self.salary) \n",
    "class Employee(Member):\n",
    "    def __init__(self,name,age,number,address,salary,specialization):\n",
    "        super().__init__(name,age,number,address,salary)\n",
    "        self.specialization=specialization\n",
    "    def empattributes(self):\n",
    "        print(self.name)\n",
    "        print(self.specialization) \n",
    "        super().printAttributes()  \n",
    "class Manager(Member):\n",
    "    def __init__(self,name,age,number,address,salary,department):\n",
    "        super().__init__(name,age,number,address,salary)\n",
    "        self.department=department\n",
    "    def manattributes(self):\n",
    "        print(self.name)\n",
    "        print(self.department)\n",
    "        super().printAttributes()\n",
    "\n",
    "\n",
    "\n",
    "\n",
    "\n",
    "e=Employee(\"raj\",24,1111,\"24c\",\"$250\",\"backend\")\n",
    "e.empattributes()\n",
    "m=Manager(\"jar\",24,1111,\"24c\",\"$450\",\"backend\")\n",
    "m.manattributes()\n",
    "\n"
   ]
  },
  {
   "cell_type": "code",
   "execution_count": 18,
   "metadata": {},
   "outputs": [
    {
     "name": "stdout",
     "output_type": "stream",
     "text": [
      "r\n",
      "tech\n",
      "$356\n",
      "ram\n",
      "cse\n",
      "$356\n"
     ]
    }
   ],
   "source": [
    "class member:\n",
    "    def __init__(self,name,age,ph_no,add,sal):\n",
    "        self.name=name\n",
    "        self.age=age\n",
    "        self.ph_no=ph_no\n",
    "        self.address=add\n",
    "        self.salary=sal\n",
    "\n",
    "    def mem_attributes(self):\n",
    "        print(self.salary)\n",
    "class Employee(member):\n",
    "    def __init__(self,name,age,ph_no,add,sal,spec):\n",
    "        super().__init__(name,age,ph_no,add,sal) \n",
    "        self.specialization=spec\n",
    "    def empattributes(self):\n",
    "        print(self.name)\n",
    "        print(self.specialization)\n",
    "        super().mem_attributes()\n",
    "class Manager(member):\n",
    "    def __init__(self,name,age,ph_no,add,sal,dep):\n",
    "        super().__init__(name,age,ph_no,add,sal) \n",
    "        self.department=dep\n",
    "    def man_attributes(self):\n",
    "        print(self.name)\n",
    "        print(self.department)\n",
    "        super().mem_attributes()\n",
    "m=Manager(\"r\",24,123,\"41c\",\"$356\",\"tech\")\n",
    "m.man_attributes() \n",
    "e=Employee(\"ram\",24,123,\"41c\",\"$356\",\"cse\") \n",
    "e.empattributes()    \n",
    "                                  "
   ]
  },
  {
   "cell_type": "code",
   "execution_count": 24,
   "metadata": {},
   "outputs": [
    {
     "name": "stdout",
     "output_type": "stream",
     "text": [
      "4\n"
     ]
    }
   ],
   "source": [
    "class solution:\n",
    "    def search(self,nums:list[int],target:int)->int:\n",
    "        l=0\n",
    "        h=len(nums)-1\n",
    "        while l<=h:\n",
    "            mid=(l+h)//2\n",
    "            if nums[mid]==target:\n",
    "                return mid\n",
    "            elif nums[mid]>target:\n",
    "                h=mid-1\n",
    "            else:\n",
    "                l=mid+1\n",
    "        return -1\n",
    "def main():\n",
    "    n=int(input())\n",
    "    arr=[]\n",
    "    for i in range(0,n):\n",
    "        arr.append(int(input()))\n",
    "    s=solution()\n",
    "    output=s.search(arr,int(input()))\n",
    "    print(output)\n",
    "main()    \n",
    "\n",
    "\n"
   ]
  },
  {
   "cell_type": "code",
   "execution_count": 25,
   "metadata": {},
   "outputs": [
    {
     "name": "stdout",
     "output_type": "stream",
     "text": [
      "4\n"
     ]
    }
   ],
   "source": [
    "class solution:\n",
    "    def search(self,nums:list[int],target:int)->int:\n",
    "        l=0\n",
    "        h=len(nums)-1\n",
    "        while l<=h:\n",
    "            mid=(l+h)//2\n",
    "            if nums[mid]==target:\n",
    "                return mid\n",
    "            elif nums[mid]>target:\n",
    "                h=mid-1\n",
    "            else:\n",
    "                l=mid+1\n",
    "        return -1\n",
    "def main():\n",
    "    n=int(input())\n",
    "    arr=[]\n",
    "    for i in range(n):\n",
    "        arr.append(int(input()))\n",
    "    s=solution()\n",
    "    output=s.search(arr,int(input()))\n",
    "    print(output)\n",
    "main()                                \n",
    "\n",
    "            "
   ]
  },
  {
   "cell_type": "code",
   "execution_count": 26,
   "metadata": {},
   "outputs": [
    {
     "name": "stdout",
     "output_type": "stream",
     "text": [
      "2\n"
     ]
    }
   ],
   "source": [
    "class solution:\n",
    "    def peakElement(self,nums:list[int])->int:\n",
    "        l=0\n",
    "        h=len(nums)-1\n",
    "        while l<=h:\n",
    "            mid=(l+h)//2\n",
    "            if nums[mid]>nums[mid-1] and nums[mid]>nums[mid+1]:\n",
    "                return mid\n",
    "            elif nums[mid]>nums[mid+1]:\n",
    "                h=mid-1\n",
    "            else:\n",
    "                l=mid+1\n",
    "        return l\n",
    "def main():\n",
    "    n=int(input())\n",
    "    arr=[]\n",
    "    for i in range(n):\n",
    "        arr.append(int(input()))\n",
    "    s=solution()\n",
    "    print(s.peakElement(arr))\n",
    "main()    \n",
    "    \n",
    "\n",
    "\n",
    "\n",
    "\n",
    "\n",
    "            "
   ]
  },
  {
   "cell_type": "code",
   "execution_count": 30,
   "metadata": {},
   "outputs": [
    {
     "name": "stdout",
     "output_type": "stream",
     "text": [
      "-1\n"
     ]
    }
   ],
   "source": [
    "# rotate sorted array\n",
    "class solution:\n",
    "    def rotatesortedarray(self,nums:list[int],target:int)->int:\n",
    "        l=0\n",
    "        h=len(nums)-1\n",
    "        while l<=h:\n",
    "            mid=(l+h)//2\n",
    "            if nums[mid]==target:\n",
    "                return mid\n",
    "            elif nums[mid]>=nums[l]:\n",
    "                if target<=nums[mid] and target>=nums[l]:\n",
    "                    h=mid-1\n",
    "                else:\n",
    "                    l=mid+1\n",
    "            else:\n",
    "                if target >=nums[mid] and target<=nums[h]:\n",
    "                    l=mid+1\n",
    "                else:\n",
    "                    h=mid-1\n",
    "        return -1            \n",
    "\n",
    "            \n",
    "def main():\n",
    "    n=int(input()) \n",
    "    arr=[]\n",
    "    for i in range(n):\n",
    "        arr.append(int(input())) \n",
    "    s=solution()\n",
    "    print(s.rotatesortedarray(arr,int(input())))\n",
    "main()                              \n",
    "\n",
    "\n"
   ]
  },
  {
   "cell_type": "code",
   "execution_count": 6,
   "metadata": {},
   "outputs": [
    {
     "name": "stdout",
     "output_type": "stream",
     "text": [
      " 0 1 \n"
     ]
    }
   ],
   "source": [
    "\n",
    "class solution:\n",
    "    def Twosum(self,nums:list[int],target:int)->list[int]:\n",
    "        l={}\n",
    "        for i in range(len(nums)):\n",
    "            if target-nums[i] in l:\n",
    "                return [l[target-nums[i]],i]\n",
    "            else:\n",
    "                l[nums[i]]=i\n",
    "def main():\n",
    "    n=int(input())\n",
    "    arr=[]\n",
    "    for i in range(n):\n",
    "        arr.append(int(input()))\n",
    "    s=solution()\n",
    "    output=s.Twosum(arr,int(input()))\n",
    "    string=\" \"\n",
    "    for i in range(len(output)):\n",
    "        string+=str(output[i])+\" \" \n",
    "    print(string)\n",
    "main()                               \n",
    "\n",
    "\n",
    "\n",
    "\n",
    "\n"
   ]
  },
  {
   "cell_type": "code",
   "execution_count": 10,
   "metadata": {},
   "outputs": [
    {
     "name": "stdout",
     "output_type": "stream",
     "text": [
      "2\n"
     ]
    }
   ],
   "source": [
    "class solution:\n",
    "    def luckyInteger(self,arr:list[int])->int:\n",
    "        l=-1\n",
    "        u=set(arr)\n",
    "        for i in u:\n",
    "            count=arr.count(i)\n",
    "            if i==count:\n",
    "                l=max(l,i)\n",
    "        return l\n",
    "                       \n",
    "def main():\n",
    "    n=int(input())\n",
    "    arr=[]\n",
    "    for i in range(n):\n",
    "        arr.append(int(input()))\n",
    "    s=solution()\n",
    "    print(s.luckyInteger(arr))\n",
    "main()                        "
   ]
  },
  {
   "cell_type": "code",
   "execution_count": 15,
   "metadata": {},
   "outputs": [
    {
     "name": "stdout",
     "output_type": "stream",
     "text": [
      "Rahul 12000\n",
      "arjun 12400\n",
      "Gaurav 13000\n",
      "majnu 14500\n"
     ]
    }
   ],
   "source": [
    "class client:\n",
    "    def __init__(self,name,salary):\n",
    "        self.name=name\n",
    "        self.salary=salary\n",
    "c1=client(\"Rahul\",12000)\n",
    "c2=client(\"Gaurav\",13000)\n",
    "c3=client(\"arjun\",12400)\n",
    "c4=client(\"majnu\",14500) \n",
    "clients=[c1,c2,c3,c4]\n",
    "def printSalary(client):\n",
    "    return client.salary\n",
    "clients.sort(key=printSalary)\n",
    "for client in clients:\n",
    "    print(client.name,client.salary)\n",
    "\n",
    "          \n",
    "\n",
    "        "
   ]
  },
  {
   "cell_type": "code",
   "execution_count": 17,
   "metadata": {},
   "outputs": [
    {
     "name": "stdout",
     "output_type": "stream",
     "text": [
      "raj 2100\n",
      "sho 2340\n",
      "aja 4567\n",
      "man 6784\n"
     ]
    }
   ],
   "source": [
    "class Employee:\n",
    "    def __init__(self,name,salary):\n",
    "        self.name=name\n",
    "        self.salary=salary\n",
    "c1=Employee(\"raj\",2100)\n",
    "c2=Employee(\"sho\",2340)\n",
    "c3=Employee(\"aja\",4567)\n",
    "c4=Employee(\"man\",6784)\n",
    "employees=[c1,c2,c3,c4]\n",
    "def printsal(Employee):\n",
    "    return Employee.salary\n",
    "employees.sort(key=printsal)\n",
    "for Employee in employees:\n",
    "    print(Employee.name,Employee.salary)           "
   ]
  },
  {
   "cell_type": "code",
   "execution_count": 3,
   "metadata": {},
   "outputs": [
    {
     "name": "stdout",
     "output_type": "stream",
     "text": [
      "4\n"
     ]
    }
   ],
   "source": [
    "class solution:\n",
    "    def countPrime(self,n:int)->int:\n",
    "        if n<2:\n",
    "            return 0\n",
    "        p=[1]*n\n",
    "        p[0]=0\n",
    "        p[1]=0\n",
    "        for i in range(2,int(n**0.5)+1):\n",
    "            if p[i]!=0:\n",
    "                for j in range(i**2,n,i):\n",
    "                    p[j]=0\n",
    "        return sum(p)                                                   \n",
    "def main():\n",
    "    n=int(input())\n",
    "    s=solution()\n",
    "    print(s.countPrime(n))\n",
    "main()                       \n"
   ]
  },
  {
   "cell_type": "code",
   "execution_count": 23,
   "metadata": {},
   "outputs": [
    {
     "name": "stdout",
     "output_type": "stream",
     "text": [
      "3\n"
     ]
    }
   ],
   "source": [
    "# jewels and stones\n",
    "class solution:\n",
    "    def jewelsStones(self,jewels:str,stones:str)->str:\n",
    "        count=0\n",
    "        for i in range(len(jewels)):\n",
    "            for j in range(len(stones)):\n",
    "                if jewels[i]==stones[j]:\n",
    "                    count+=1\n",
    "        return count\n",
    "def main():\n",
    "    n=(input())\n",
    "    s=solution()\n",
    "    output=s.jewelsStones(n,input())\n",
    "    print(output)\n",
    "main()                        \n"
   ]
  }
 ],
 "metadata": {
  "kernelspec": {
   "display_name": "Python 3",
   "language": "python",
   "name": "python3"
  },
  "language_info": {
   "codemirror_mode": {
    "name": "ipython",
    "version": 3
   },
   "file_extension": ".py",
   "mimetype": "text/x-python",
   "name": "python",
   "nbconvert_exporter": "python",
   "pygments_lexer": "ipython3",
   "version": "3.11.1 (tags/v3.11.1:a7a450f, Dec  6 2022, 19:58:39) [MSC v.1934 64 bit (AMD64)]"
  },
  "orig_nbformat": 4,
  "vscode": {
   "interpreter": {
    "hash": "f1349afab0fcd502e634e282abd40fedb2831892829b7733385d2e4290794b19"
   }
  }
 },
 "nbformat": 4,
 "nbformat_minor": 2
}
